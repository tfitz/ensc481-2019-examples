{
 "cells": [
  {
   "cell_type": "markdown",
   "metadata": {},
   "source": [
    "# Derivation of equation of motion\n",
    "Started in class, on 8-Mar-2019 by T. Fitzgerald\n",
    "\n",
    "Modified on 18-Mar-2019 to include an external force.\n",
    "\n",
    "A sketch of the system model is\n",
    "![alt text](sketch-of-system.svg \"System diagram\")\n",
    "\n",
    "The goal is to find the equation of motion by using Lagrange's equation.  Along the way several fun facts about using SymPy/Julia are discussed."
   ]
  },
  {
   "cell_type": "code",
   "execution_count": 1,
   "metadata": {},
   "outputs": [],
   "source": [
    "using Pkg\n",
    "Pkg.activate(\".\")\n",
    "# Pkg.add(\"SymPy\") # this is only needed the first time\n",
    "using SymPy"
   ]
  },
  {
   "cell_type": "markdown",
   "metadata": {},
   "source": [
    "Define the parameters of the system"
   ]
  },
  {
   "cell_type": "code",
   "execution_count": 2,
   "metadata": {},
   "outputs": [],
   "source": [
    "L1, L2, L3, k1, k2, c1, c2, m, JG, g = symbols(\"L1, L2, L3, k1, k2, c1, c2, m, J_G, g\", positive=true)\n",
    ";"
   ]
  },
  {
   "cell_type": "markdown",
   "metadata": {},
   "source": [
    "Define the coordinates of the system $x,\\theta$ as a `SymFunction`"
   ]
  },
  {
   "cell_type": "code",
   "execution_count": 3,
   "metadata": {},
   "outputs": [],
   "source": [
    "t = symbols(\"t\")\n",
    "y = SymFunction(\"y\")(t)\n",
    "θ = SymFunction(\"theta\")(t)\n",
    "f = SymFunction(\"f\")(t)\n",
    ";"
   ]
  },
  {
   "cell_type": "markdown",
   "metadata": {},
   "source": [
    "## Building $T$, $V$, and $D$\n",
    "\n",
    "I'll start by building the displacements of each tip, and then construct the system's potential energy"
   ]
  },
  {
   "cell_type": "code",
   "execution_count": 4,
   "metadata": {},
   "outputs": [
    {
     "data": {
      "text/latex": [
       "\\begin{equation*}g m y{\\left (t \\right )} + \\frac{k_{1} \\left(- L_{1} \\sin{\\left (\\theta{\\left (t \\right )} \\right )} + y{\\left (t \\right )}\\right)^{2}}{2} + \\frac{k_{2} \\left(L_{2} \\sin{\\left (\\theta{\\left (t \\right )} \\right )} + y{\\left (t \\right )}\\right)^{2}}{2}\\end{equation*}"
      ],
      "text/plain": [
       "                                        2                               2\n",
       "           k1*(-L1*sin(theta(t)) + y(t))    k2*(L2*sin(theta(t)) + y(t)) \n",
       "g*m*y(t) + ------------------------------ + -----------------------------\n",
       "                         2                                2              "
      ]
     },
     "execution_count": 4,
     "metadata": {},
     "output_type": "execute_result"
    }
   ],
   "source": [
    "y1 = y - L1*sin(θ)\n",
    "y2 = y + L2*sin(θ)\n",
    "V = 1//2*k1*y1^2 + 1//2*k2*y2^2 + m*g*y"
   ]
  },
  {
   "cell_type": "markdown",
   "metadata": {},
   "source": [
    "Next is Rayleigh's dissipation function for the viscous dampers"
   ]
  },
  {
   "cell_type": "code",
   "execution_count": 5,
   "metadata": {},
   "outputs": [
    {
     "data": {
      "text/latex": [
       "\\begin{equation*}\\frac{c_{1} \\left(- L_{1} \\cos{\\left (\\theta{\\left (t \\right )} \\right )} \\frac{d}{d t} \\theta{\\left (t \\right )} + \\frac{d}{d t} y{\\left (t \\right )}\\right)^{2}}{2} + \\frac{c_{2} \\left(L_{2} \\cos{\\left (\\theta{\\left (t \\right )} \\right )} \\frac{d}{d t} \\theta{\\left (t \\right )} + \\frac{d}{d t} y{\\left (t \\right )}\\right)^{2}}{2}\\end{equation*}"
      ],
      "text/plain": [
       "                                               2                              \n",
       "   /                   d              d       \\       /                 d     \n",
       "c1*|- L1*cos(theta(t))*--(theta(t)) + --(y(t))|    c2*|L2*cos(theta(t))*--(the\n",
       "   \\                   dt             dt      /       \\                 dt    \n",
       "------------------------------------------------ + ---------------------------\n",
       "                       2                                                 2    \n",
       "\n",
       "                  2\n",
       "         d       \\ \n",
       "ta(t)) + --(y(t))| \n",
       "         dt      / \n",
       "-------------------\n",
       "                   "
      ]
     },
     "execution_count": 5,
     "metadata": {},
     "output_type": "execute_result"
    }
   ],
   "source": [
    "D = 1//2*c1*diff(y1,t)^2 + 1//2*c2*diff(y2,t)^2"
   ]
  },
  {
   "cell_type": "markdown",
   "metadata": {},
   "source": [
    "Last is the system's kinetic energy.  In general for a planar rigid body this is\n",
    "    $$ T = \\frac{1}{2} m_G \\dot{\\vec{r}} \\cdot \\dot{\\vec{r}} + \\frac{1}{2}J_G \\omega^2 $$"
   ]
  },
  {
   "cell_type": "code",
   "execution_count": 6,
   "metadata": {},
   "outputs": [
    {
     "data": {
      "text/latex": [
       "\\begin{equation*}\\frac{J_{G} \\left(\\frac{d}{d t} \\theta{\\left (t \\right )}\\right)^{2}}{2} + \\frac{m \\left(\\frac{d}{d t} y{\\left (t \\right )}\\right)^{2}}{2}\\end{equation*}"
      ],
      "text/plain": [
       "                  2               2\n",
       "    /d           \\      /d       \\ \n",
       "J_G*|--(theta(t))|    m*|--(y(t))| \n",
       "    \\dt          /      \\dt      / \n",
       "------------------- + -------------\n",
       "         2                  2      "
      ]
     },
     "execution_count": 6,
     "metadata": {},
     "output_type": "execute_result"
    }
   ],
   "source": [
    "T = 1//2*m*diff(y,t)^2 + 1//2*JG*diff(θ,t)^2"
   ]
  },
  {
   "cell_type": "markdown",
   "metadata": {},
   "source": [
    "## Generalized forces"
   ]
  },
  {
   "cell_type": "code",
   "execution_count": 7,
   "metadata": {},
   "outputs": [
    {
     "data": {
      "text/latex": [
       "\\[ \\left[ \\begin{array}{r}L_{3} \\cos{\\left (\\theta{\\left (t \\right )} \\right )}\\\\L_{3} \\sin{\\left (\\theta{\\left (t \\right )} \\right )} + y{\\left (t \\right )}\\end{array} \\right] \\]"
      ],
      "text/plain": [
       "2-element Array{Sym,1}:\n",
       "        L3*cos(theta(t))\n",
       " L3*sin(theta(t)) + y(t)"
      ]
     },
     "execution_count": 7,
     "metadata": {},
     "output_type": "execute_result"
    }
   ],
   "source": [
    "rf = y*[0,1] + L3*(cos(θ)*[1,0] + sin(θ)*[0,1])"
   ]
  },
  {
   "cell_type": "code",
   "execution_count": 8,
   "metadata": {},
   "outputs": [
    {
     "data": {
      "text/latex": [
       "\\[ \\left[ \\begin{array}{r}0\\\\f{\\left (t \\right )}\\end{array} \\right] \\]"
      ],
      "text/plain": [
       "2-element Array{Sym,1}:\n",
       "    0\n",
       " f(t)"
      ]
     },
     "execution_count": 8,
     "metadata": {},
     "output_type": "execute_result"
    }
   ],
   "source": [
    "F = f*[0,1]"
   ]
  },
  {
   "cell_type": "code",
   "execution_count": 9,
   "metadata": {},
   "outputs": [
    {
     "data": {
      "text/latex": [
       "\\begin{equation*}f{\\left (t \\right )}\\end{equation*}"
      ],
      "text/plain": [
       "f(t)"
      ]
     },
     "execution_count": 9,
     "metadata": {},
     "output_type": "execute_result"
    }
   ],
   "source": [
    "Qy = transpose(F)*diff(rf,y)"
   ]
  },
  {
   "cell_type": "code",
   "execution_count": 10,
   "metadata": {},
   "outputs": [
    {
     "data": {
      "text/latex": [
       "\\begin{equation*}L_{3} f{\\left (t \\right )} \\cos{\\left (\\theta{\\left (t \\right )} \\right )}\\end{equation*}"
      ],
      "text/plain": [
       "L3*f(t)*cos(theta(t))"
      ]
     },
     "execution_count": 10,
     "metadata": {},
     "output_type": "execute_result"
    }
   ],
   "source": [
    "Qθ = transpose(F)*diff(rf,θ)"
   ]
  },
  {
   "cell_type": "markdown",
   "metadata": {},
   "source": [
    "This looks very familiar.  $Q_y$ is just the force, and $Q_\\theta$ is the moment about the center of mass."
   ]
  },
  {
   "cell_type": "markdown",
   "metadata": {},
   "source": [
    "## Lagrange's equation\n",
    "Next, we'll build Lagrange's equations for the system with external forces\n",
    "$$ \\frac{d}{dt}\\left(\\frac{\\partial L}{\\partial \\dot{y}}  \\right) - \\frac{\\partial L}{\\partial y} + \\frac{\\partial D}{\\partial \\dot{y}}  = Q_y$$\n",
    "$$ \\frac{d}{dt}\\left(\\frac{\\partial L}{\\partial \\dot{\\theta}}  \\right) - \\frac{\\partial L}{\\partial \\theta} + \\frac{\\partial D}{\\partial \\dot{\\theta}}  = Q_\\theta$$"
   ]
  },
  {
   "cell_type": "code",
   "execution_count": 11,
   "metadata": {},
   "outputs": [
    {
     "data": {
      "text/latex": [
       "\\begin{equation*}\\frac{J_{G} \\left(\\frac{d}{d t} \\theta{\\left (t \\right )}\\right)^{2}}{2} - g m y{\\left (t \\right )} - \\frac{k_{1} \\left(L_{1} \\sin{\\left (\\theta{\\left (t \\right )} \\right )} - y{\\left (t \\right )}\\right)^{2}}{2} - \\frac{k_{2} \\left(L_{2} \\sin{\\left (\\theta{\\left (t \\right )} \\right )} + y{\\left (t \\right )}\\right)^{2}}{2} + \\frac{m \\left(\\frac{d}{d t} y{\\left (t \\right )}\\right)^{2}}{2}\\end{equation*}"
      ],
      "text/plain": [
       "                  2                                                           \n",
       "    /d           \\                                                            \n",
       "J_G*|--(theta(t))|                                           2                \n",
       "    \\dt          /               k1*(L1*sin(theta(t)) - y(t))    k2*(L2*sin(th\n",
       "------------------- - g*m*y(t) - ----------------------------- - -------------\n",
       "         2                                     2                              \n",
       "\n",
       "                               2\n",
       "                     /d       \\ \n",
       "               2   m*|--(y(t))| \n",
       "eta(t)) + y(t))      \\dt      / \n",
       "---------------- + -------------\n",
       " 2                       2      "
      ]
     },
     "execution_count": 11,
     "metadata": {},
     "output_type": "execute_result"
    }
   ],
   "source": [
    "L = T - V |> simplify"
   ]
  },
  {
   "cell_type": "markdown",
   "metadata": {},
   "source": [
    "I can directly just plug away since SymPy can differential with respect to the derivative of a `SymFunction`"
   ]
  },
  {
   "cell_type": "code",
   "execution_count": 12,
   "metadata": {},
   "outputs": [
    {
     "data": {
      "text/latex": [
       "\\begin{equation*}\\frac{c_{1} \\left(- 2 L_{1} \\cos{\\left (\\theta{\\left (t \\right )} \\right )} \\frac{d}{d t} \\theta{\\left (t \\right )} + 2 \\frac{d}{d t} y{\\left (t \\right )}\\right)}{2} + \\frac{c_{2} \\left(2 L_{2} \\cos{\\left (\\theta{\\left (t \\right )} \\right )} \\frac{d}{d t} \\theta{\\left (t \\right )} + 2 \\frac{d}{d t} y{\\left (t \\right )}\\right)}{2} + g m + \\frac{k_{1} \\left(- 2 L_{1} \\sin{\\left (\\theta{\\left (t \\right )} \\right )} + 2 y{\\left (t \\right )}\\right)}{2} + \\frac{k_{2} \\left(2 L_{2} \\sin{\\left (\\theta{\\left (t \\right )} \\right )} + 2 y{\\left (t \\right )}\\right)}{2} + m \\frac{d^{2}}{d t^{2}} y{\\left (t \\right )} - f{\\left (t \\right )}\\end{equation*}"
      ],
      "text/plain": [
       "   /                     d                d       \\      /                   d\n",
       "c1*|- 2*L1*cos(theta(t))*--(theta(t)) + 2*--(y(t))|   c2*|2*L2*cos(theta(t))*-\n",
       "   \\                     dt               dt      /      \\                   d\n",
       "--------------------------------------------------- + ------------------------\n",
       "                         2                                                    \n",
       "                                                                              \n",
       "\n",
       "                d       \\                                                     \n",
       "-(theta(t)) + 2*--(y(t))|                                                     \n",
       "t               dt      /         k1*(-2*L1*sin(theta(t)) + 2*y(t))   k2*(2*L2\n",
       "------------------------- + g*m + --------------------------------- + --------\n",
       "2                                                 2                           \n",
       "                                                                              \n",
       "\n",
       "                                             \n",
       "                               2             \n",
       "*sin(theta(t)) + 2*y(t))      d              \n",
       "------------------------ + m*---(y(t)) - f(t)\n",
       "       2                       2             \n",
       "                             dt              "
      ]
     },
     "execution_count": 12,
     "metadata": {},
     "output_type": "execute_result"
    }
   ],
   "source": [
    "diff(L, diff(y,t), t ) - diff(L, y) + diff(D, diff(y,t)) - Qy"
   ]
  },
  {
   "cell_type": "markdown",
   "metadata": {},
   "source": [
    "### Elegance\n",
    "I can also be a little more elegant since I know I have two of these equations to build.  I can use a list comprehension"
   ]
  },
  {
   "cell_type": "code",
   "execution_count": 13,
   "metadata": {},
   "outputs": [
    {
     "data": {
      "text/plain": [
       "3-element Array{Int64,1}:\n",
       " 2\n",
       " 3\n",
       " 4"
      ]
     },
     "execution_count": 13,
     "metadata": {},
     "output_type": "execute_result"
    }
   ],
   "source": [
    "# List comprehension\n",
    "[ i+1 for i in 1:3 ]"
   ]
  },
  {
   "cell_type": "code",
   "execution_count": 14,
   "metadata": {},
   "outputs": [
    {
     "data": {
      "text/latex": [
       "\\[ \\left[ \\begin{array}{r}- c_{1} \\left(L_{1} \\cos{\\left (\\theta{\\left (t \\right )} \\right )} \\frac{d}{d t} \\theta{\\left (t \\right )} - \\frac{d}{d t} y{\\left (t \\right )}\\right) + c_{2} \\left(L_{2} \\cos{\\left (\\theta{\\left (t \\right )} \\right )} \\frac{d}{d t} \\theta{\\left (t \\right )} + \\frac{d}{d t} y{\\left (t \\right )}\\right) + g m - k_{1} \\left(L_{1} \\sin{\\left (\\theta{\\left (t \\right )} \\right )} - y{\\left (t \\right )}\\right) + k_{2} \\left(L_{2} \\sin{\\left (\\theta{\\left (t \\right )} \\right )} + y{\\left (t \\right )}\\right) + m \\frac{d^{2}}{d t^{2}} y{\\left (t \\right )} - f{\\left (t \\right )}\\\\J_{G} \\frac{d^{2}}{d t^{2}} \\theta{\\left (t \\right )} + L_{1} c_{1} \\left(L_{1} \\cos{\\left (\\theta{\\left (t \\right )} \\right )} \\frac{d}{d t} \\theta{\\left (t \\right )} - \\frac{d}{d t} y{\\left (t \\right )}\\right) \\cos{\\left (\\theta{\\left (t \\right )} \\right )} + L_{1} k_{1} \\left(L_{1} \\sin{\\left (\\theta{\\left (t \\right )} \\right )} - y{\\left (t \\right )}\\right) \\cos{\\left (\\theta{\\left (t \\right )} \\right )} + L_{2} c_{2} \\left(L_{2} \\cos{\\left (\\theta{\\left (t \\right )} \\right )} \\frac{d}{d t} \\theta{\\left (t \\right )} + \\frac{d}{d t} y{\\left (t \\right )}\\right) \\cos{\\left (\\theta{\\left (t \\right )} \\right )} + L_{2} k_{2} \\left(L_{2} \\sin{\\left (\\theta{\\left (t \\right )} \\right )} + y{\\left (t \\right )}\\right) \\cos{\\left (\\theta{\\left (t \\right )} \\right )} - L_{3} f{\\left (t \\right )} \\cos{\\left (\\theta{\\left (t \\right )} \\right )}\\end{array} \\right] \\]"
      ],
      "text/plain": [
       "2-element Array{Sym,1}:\n",
       "                                                                                     -c1*(L1*cos(theta(t))*Derivative(theta(t), t) - Derivative(y(t), t)) + c2*(L2*cos(theta(t))*Derivative(theta(t), t) + Derivative(y(t), t)) + g*m - k1*(L1*sin(theta(t)) - y(t)) + k2*(L2*sin(theta(t)) + y(t)) + m*Derivative(y(t), (t, 2)) - f(t)\n",
       " J_G*Derivative(theta(t), (t, 2)) + L1*c1*(L1*cos(theta(t))*Derivative(theta(t), t) - Derivative(y(t), t))*cos(theta(t)) + L1*k1*(L1*sin(theta(t)) - y(t))*cos(theta(t)) + L2*c2*(L2*cos(theta(t))*Derivative(theta(t), t) + Derivative(y(t), t))*cos(theta(t)) + L2*k2*(L2*sin(theta(t)) + y(t))*cos(theta(t)) - L3*f(t)*cos(theta(t))"
      ]
     },
     "execution_count": 14,
     "metadata": {},
     "output_type": "execute_result"
    }
   ],
   "source": [
    "[ diff(L, diff(q,t), t) - diff(L,q) + diff(D,diff(q,t)) |> simplify for q in [y,θ]  ] - [Qy, Qθ]"
   ]
  },
  {
   "cell_type": "markdown",
   "metadata": {},
   "source": [
    "Or (as Camp pointed out) we can also define a function, and then broadcast it onto the coordinates"
   ]
  },
  {
   "cell_type": "code",
   "execution_count": 15,
   "metadata": {},
   "outputs": [
    {
     "data": {
      "text/latex": [
       "\\[ \\left[ \\begin{array}{r}- c_{1} \\left(L_{1} \\cos{\\left (\\theta{\\left (t \\right )} \\right )} \\frac{d}{d t} \\theta{\\left (t \\right )} - \\frac{d}{d t} y{\\left (t \\right )}\\right) + c_{2} \\left(L_{2} \\cos{\\left (\\theta{\\left (t \\right )} \\right )} \\frac{d}{d t} \\theta{\\left (t \\right )} + \\frac{d}{d t} y{\\left (t \\right )}\\right) + g m - k_{1} \\left(L_{1} \\sin{\\left (\\theta{\\left (t \\right )} \\right )} - y{\\left (t \\right )}\\right) + k_{2} \\left(L_{2} \\sin{\\left (\\theta{\\left (t \\right )} \\right )} + y{\\left (t \\right )}\\right) + m \\frac{d^{2}}{d t^{2}} y{\\left (t \\right )} - f{\\left (t \\right )}\\\\J_{G} \\frac{d^{2}}{d t^{2}} \\theta{\\left (t \\right )} + L_{1} c_{1} \\left(L_{1} \\cos{\\left (\\theta{\\left (t \\right )} \\right )} \\frac{d}{d t} \\theta{\\left (t \\right )} - \\frac{d}{d t} y{\\left (t \\right )}\\right) \\cos{\\left (\\theta{\\left (t \\right )} \\right )} + L_{1} k_{1} \\left(L_{1} \\sin{\\left (\\theta{\\left (t \\right )} \\right )} - y{\\left (t \\right )}\\right) \\cos{\\left (\\theta{\\left (t \\right )} \\right )} + L_{2} c_{2} \\left(L_{2} \\cos{\\left (\\theta{\\left (t \\right )} \\right )} \\frac{d}{d t} \\theta{\\left (t \\right )} + \\frac{d}{d t} y{\\left (t \\right )}\\right) \\cos{\\left (\\theta{\\left (t \\right )} \\right )} + L_{2} k_{2} \\left(L_{2} \\sin{\\left (\\theta{\\left (t \\right )} \\right )} + y{\\left (t \\right )}\\right) \\cos{\\left (\\theta{\\left (t \\right )} \\right )} - L_{3} f{\\left (t \\right )} \\cos{\\left (\\theta{\\left (t \\right )} \\right )}\\end{array} \\right] \\]"
      ],
      "text/plain": [
       "2-element Array{Sym,1}:\n",
       "                                                                                     -c1*(L1*cos(theta(t))*Derivative(theta(t), t) - Derivative(y(t), t)) + c2*(L2*cos(theta(t))*Derivative(theta(t), t) + Derivative(y(t), t)) + g*m - k1*(L1*sin(theta(t)) - y(t)) + k2*(L2*sin(theta(t)) + y(t)) + m*Derivative(y(t), (t, 2)) - f(t)\n",
       " J_G*Derivative(theta(t), (t, 2)) + L1*c1*(L1*cos(theta(t))*Derivative(theta(t), t) - Derivative(y(t), t))*cos(theta(t)) + L1*k1*(L1*sin(theta(t)) - y(t))*cos(theta(t)) + L2*c2*(L2*cos(theta(t))*Derivative(theta(t), t) + Derivative(y(t), t))*cos(theta(t)) + L2*k2*(L2*sin(theta(t)) + y(t))*cos(theta(t)) - L3*f(t)*cos(theta(t))"
      ]
     },
     "execution_count": 15,
     "metadata": {},
     "output_type": "execute_result"
    }
   ],
   "source": [
    "Lag(q) = diff(L, diff(q,t), t) - diff(L,q) + diff(D,diff(q,t)) - transpose(F)*diff(rf,q) |> simplify\n",
    "[ Lag(q) for q in [y,θ] ]"
   ]
  },
  {
   "cell_type": "code",
   "execution_count": 16,
   "metadata": {},
   "outputs": [
    {
     "data": {
      "text/latex": [
       "\\[ \\left[ \\begin{array}{r}- c_{1} \\left(L_{1} \\cos{\\left (\\theta{\\left (t \\right )} \\right )} \\frac{d}{d t} \\theta{\\left (t \\right )} - \\frac{d}{d t} y{\\left (t \\right )}\\right) + c_{2} \\left(L_{2} \\cos{\\left (\\theta{\\left (t \\right )} \\right )} \\frac{d}{d t} \\theta{\\left (t \\right )} + \\frac{d}{d t} y{\\left (t \\right )}\\right) + g m - k_{1} \\left(L_{1} \\sin{\\left (\\theta{\\left (t \\right )} \\right )} - y{\\left (t \\right )}\\right) + k_{2} \\left(L_{2} \\sin{\\left (\\theta{\\left (t \\right )} \\right )} + y{\\left (t \\right )}\\right) + m \\frac{d^{2}}{d t^{2}} y{\\left (t \\right )} - f{\\left (t \\right )}\\\\J_{G} \\frac{d^{2}}{d t^{2}} \\theta{\\left (t \\right )} + L_{1} c_{1} \\left(L_{1} \\cos{\\left (\\theta{\\left (t \\right )} \\right )} \\frac{d}{d t} \\theta{\\left (t \\right )} - \\frac{d}{d t} y{\\left (t \\right )}\\right) \\cos{\\left (\\theta{\\left (t \\right )} \\right )} + L_{1} k_{1} \\left(L_{1} \\sin{\\left (\\theta{\\left (t \\right )} \\right )} - y{\\left (t \\right )}\\right) \\cos{\\left (\\theta{\\left (t \\right )} \\right )} + L_{2} c_{2} \\left(L_{2} \\cos{\\left (\\theta{\\left (t \\right )} \\right )} \\frac{d}{d t} \\theta{\\left (t \\right )} + \\frac{d}{d t} y{\\left (t \\right )}\\right) \\cos{\\left (\\theta{\\left (t \\right )} \\right )} + L_{2} k_{2} \\left(L_{2} \\sin{\\left (\\theta{\\left (t \\right )} \\right )} + y{\\left (t \\right )}\\right) \\cos{\\left (\\theta{\\left (t \\right )} \\right )} - L_{3} f{\\left (t \\right )} \\cos{\\left (\\theta{\\left (t \\right )} \\right )}\\end{array} \\right] \\]"
      ],
      "text/plain": [
       "2-element Array{Sym,1}:\n",
       "                                                                                     -c1*(L1*cos(theta(t))*Derivative(theta(t), t) - Derivative(y(t), t)) + c2*(L2*cos(theta(t))*Derivative(theta(t), t) + Derivative(y(t), t)) + g*m - k1*(L1*sin(theta(t)) - y(t)) + k2*(L2*sin(theta(t)) + y(t)) + m*Derivative(y(t), (t, 2)) - f(t)\n",
       " J_G*Derivative(theta(t), (t, 2)) + L1*c1*(L1*cos(theta(t))*Derivative(theta(t), t) - Derivative(y(t), t))*cos(theta(t)) + L1*k1*(L1*sin(theta(t)) - y(t))*cos(theta(t)) + L2*c2*(L2*cos(theta(t))*Derivative(theta(t), t) + Derivative(y(t), t))*cos(theta(t)) + L2*k2*(L2*sin(theta(t)) + y(t))*cos(theta(t)) - L3*f(t)*cos(theta(t))"
      ]
     },
     "execution_count": 16,
     "metadata": {},
     "output_type": "execute_result"
    }
   ],
   "source": [
    "eom = Lag.([y,θ])"
   ]
  },
  {
   "cell_type": "markdown",
   "metadata": {},
   "source": [
    "That last way looks really slick to me, I'm going to remember that one.\n",
    "\n",
    "## What do we likely need to do now?\n",
    "It's a really common problem to derive a system model, and then need to simulate it.  As we can likely recall, standard ode solvers (like Matlab's `ode45`) require first order form.  So if we need to simulate this system of equations, we probably need to put it into first order form.  To do this, I'll first solve it explicity for the second derivatives"
   ]
  },
  {
   "cell_type": "code",
   "execution_count": 17,
   "metadata": {},
   "outputs": [
    {
     "data": {
      "text/latex": [
       "\\begin{equation*}\\begin{cases}\\frac{d^{2}}{d t^{2}} y{\\left (t \\right )} & \\text{=>} &\\frac{L_{1} c_{1} \\cos{\\left (\\theta{\\left (t \\right )} \\right )} \\frac{d}{d t} \\theta{\\left (t \\right )} + L_{1} k_{1} \\sin{\\left (\\theta{\\left (t \\right )} \\right )} - L_{2} c_{2} \\cos{\\left (\\theta{\\left (t \\right )} \\right )} \\frac{d}{d t} \\theta{\\left (t \\right )} - L_{2} k_{2} \\sin{\\left (\\theta{\\left (t \\right )} \\right )} - c_{1} \\frac{d}{d t} y{\\left (t \\right )} - c_{2} \\frac{d}{d t} y{\\left (t \\right )} - g m - k_{1} y{\\left (t \\right )} - k_{2} y{\\left (t \\right )} + f{\\left (t \\right )}}{m}\\\\\\frac{d^{2}}{d t^{2}} \\theta{\\left (t \\right )} & \\text{=>} &\\frac{\\left(- L_{1}^{2} c_{1} \\cos{\\left (\\theta{\\left (t \\right )} \\right )} \\frac{d}{d t} \\theta{\\left (t \\right )} - L_{1}^{2} k_{1} \\sin{\\left (\\theta{\\left (t \\right )} \\right )} + L_{1} c_{1} \\frac{d}{d t} y{\\left (t \\right )} + L_{1} k_{1} y{\\left (t \\right )} - L_{2}^{2} c_{2} \\cos{\\left (\\theta{\\left (t \\right )} \\right )} \\frac{d}{d t} \\theta{\\left (t \\right )} - L_{2}^{2} k_{2} \\sin{\\left (\\theta{\\left (t \\right )} \\right )} - L_{2} c_{2} \\frac{d}{d t} y{\\left (t \\right )} - L_{2} k_{2} y{\\left (t \\right )} + L_{3} f{\\left (t \\right )}\\right) \\cos{\\left (\\theta{\\left (t \\right )} \\right )}}{J_{G}}\\\\\\end{cases}\\end{equation*}"
      ],
      "text/plain": [
       "Dict{Sym,Sym} with 2 entries:\n",
       "  Derivative(y(t), (t, 2))     => (L1*c1*cos(theta(t))*Derivative(theta(t), t) …\n",
       "  Derivative(theta(t), (t, 2)) => (-L1^2*c1*cos(theta(t))*Derivative(theta(t), …"
      ]
     },
     "execution_count": 17,
     "metadata": {},
     "output_type": "execute_result"
    }
   ],
   "source": [
    "sol = solve( eom, diff([y,θ],t,t) )"
   ]
  },
  {
   "cell_type": "markdown",
   "metadata": {},
   "source": [
    "Next, I'll define some states that I want to transform these equations into.\n",
    "$$z = [ y \\quad \\theta \\quad \\dot y \\quad \\dot \\theta]^T$$"
   ]
  },
  {
   "cell_type": "code",
   "execution_count": 18,
   "metadata": {},
   "outputs": [
    {
     "data": {
      "text/latex": [
       "\\begin{equation*}\\begin{cases}\\theta{\\left (t \\right )} & \\text{=>} &z_{2}\\\\y{\\left (t \\right )} & \\text{=>} &z_{1}\\\\\\end{cases}\\end{equation*}"
      ],
      "text/plain": [
       "Dict{Sym,Sym} with 2 entries:\n",
       "  theta(t) => z2\n",
       "  y(t)     => z1"
      ]
     },
     "execution_count": 18,
     "metadata": {},
     "output_type": "execute_result"
    }
   ],
   "source": [
    "z1,z2,z3,z4, ff = symbols(\"z1,z2,z3,z4, ff\")\n",
    "rule1 = Dict( diff(y,t)=> z3, diff(θ,t)=>z4  )\n",
    "rule2 = Dict( y=> z1, θ=>z2 )"
   ]
  },
  {
   "cell_type": "code",
   "execution_count": 19,
   "metadata": {},
   "outputs": [
    {
     "data": {
      "text/latex": [
       "\\begin{equation*}z_{3}\\end{equation*}"
      ],
      "text/plain": [
       "z3"
      ]
     },
     "execution_count": 19,
     "metadata": {},
     "output_type": "execute_result"
    }
   ],
   "source": [
    "rule1[diff(y,t)]"
   ]
  },
  {
   "cell_type": "code",
   "execution_count": 20,
   "metadata": {},
   "outputs": [
    {
     "data": {
      "text/latex": [
       "\\begin{equation*}\\frac{\\left(- L_{1}^{2} c_{1} z_{4} \\cos{\\left (z_{2} \\right )} - L_{1}^{2} k_{1} \\sin{\\left (z_{2} \\right )} + L_{1} c_{1} z_{3} + L_{1} k_{1} z_{1} - L_{2}^{2} c_{2} z_{4} \\cos{\\left (z_{2} \\right )} - L_{2}^{2} k_{2} \\sin{\\left (z_{2} \\right )} - L_{2} c_{2} z_{3} - L_{2} k_{2} z_{1} + L_{3} f{\\left (t \\right )}\\right) \\cos{\\left (z_{2} \\right )}}{J_{G}}\\end{equation*}"
      ],
      "text/plain": [
       "/    2                   2                                      2             \n",
       "\\- L1 *c1*z4*cos(z2) - L1 *k1*sin(z2) + L1*c1*z3 + L1*k1*z1 - L2 *c2*z4*cos(z2\n",
       "------------------------------------------------------------------------------\n",
       "                                                                   J_G        \n",
       "\n",
       "      2                                           \\        \n",
       ") - L2 *k2*sin(z2) - L2*c2*z3 - L2*k2*z1 + L3*f(t)/*cos(z2)\n",
       "-----------------------------------------------------------\n",
       "                                                           "
      ]
     },
     "execution_count": 20,
     "metadata": {},
     "output_type": "execute_result"
    }
   ],
   "source": [
    "eq3 = sol[diff(θ,t,t)] |> subs(rule1) |> subs(rule2)"
   ]
  },
  {
   "cell_type": "markdown",
   "metadata": {},
   "source": [
    "To get the entire set of state space equations, I can do the following.  I'll make a list of the rates of the states (think left-side of the state-space equation $\\dot z = f(z)$, and then sub-in in terms of the rules I've defined"
   ]
  },
  {
   "cell_type": "code",
   "execution_count": 21,
   "metadata": {},
   "outputs": [
    {
     "data": {
      "text/latex": [
       "\\[ \\left[ \\begin{array}{r}z_{3}\\\\z_{4}\\\\\\frac{L_{1} c_{1} z_{4} \\cos{\\left (z_{2} \\right )} + L_{1} k_{1} \\sin{\\left (z_{2} \\right )} - L_{2} c_{2} z_{4} \\cos{\\left (z_{2} \\right )} - L_{2} k_{2} \\sin{\\left (z_{2} \\right )} - c_{1} z_{3} - c_{2} z_{3} - g m - k_{1} z_{1} - k_{2} z_{1} + f{\\left (t \\right )}}{m}\\\\\\frac{\\left(- L_{1}^{2} c_{1} z_{4} \\cos{\\left (z_{2} \\right )} - L_{1}^{2} k_{1} \\sin{\\left (z_{2} \\right )} + L_{1} c_{1} z_{3} + L_{1} k_{1} z_{1} - L_{2}^{2} c_{2} z_{4} \\cos{\\left (z_{2} \\right )} - L_{2}^{2} k_{2} \\sin{\\left (z_{2} \\right )} - L_{2} c_{2} z_{3} - L_{2} k_{2} z_{1} + L_{3} f{\\left (t \\right )}\\right) \\cos{\\left (z_{2} \\right )}}{J_{G}}\\end{array} \\right] \\]"
      ],
      "text/plain": [
       "4-element Array{Sym,1}:\n",
       "                                                                                                                                               z3\n",
       "                                                                                                                                               z4\n",
       "                             (L1*c1*z4*cos(z2) + L1*k1*sin(z2) - L2*c2*z4*cos(z2) - L2*k2*sin(z2) - c1*z3 - c2*z3 - g*m - k1*z1 - k2*z1 + f(t))/m\n",
       " (-L1^2*c1*z4*cos(z2) - L1^2*k1*sin(z2) + L1*c1*z3 + L1*k1*z1 - L2^2*c2*z4*cos(z2) - L2^2*k2*sin(z2) - L2*c2*z3 - L2*k2*z1 + L3*f(t))*cos(z2)/J_G"
      ]
     },
     "execution_count": 21,
     "metadata": {},
     "output_type": "execute_result"
    }
   ],
   "source": [
    "Fss = diff( [y, θ, diff(y, t), diff(θ,t)], t) |> subs(sol) |> subs(rule1) |> subs(rule2)"
   ]
  },
  {
   "cell_type": "markdown",
   "metadata": {},
   "source": [
    "### Leaving this notebook\n",
    "\n",
    "If we are deriving this equation for some larger purpose, it is likely we'll need to write these equations down somewhere else.  We might even want to use a different program altogether and jumpt to Matlab.  We have some options here, and they revolve around reaching into SymPy a bit farther (not using an exposed function call) to re-print the expression in another langage.  Depending on the language we may need to change the SymFunction `f(t)` into a regular variable, as it may not translate.\n",
    "\n",
    "- If we want to move to Matlab, we need the `:octave_code` routine.  [GNU Octave](https://www.gnu.org/software/octave/) is an open source Matlab-like program.\n",
    "- If we want to move to Julia, we need the `:julia_code` routine.\n",
    "- There are many others, including C `:ccode` and Fortran `:fcode`."
   ]
  },
  {
   "cell_type": "code",
   "execution_count": 22,
   "metadata": {},
   "outputs": [
    {
     "data": {
      "text/plain": [
       "\"(-L1.^2.*c1.*z4.*cos(z2) - L1.^2.*k1.*sin(z2) + L1.*c1.*z3 + L1.*k1.*z1 - L2.^2.*c2.*z4.*cos(z2) - L2.^2.*k2.*sin(z2) - L2.*c2.*z3 - L2.*k2.*z1 + L3.*ff).*cos(z2)./J_G\""
      ]
     },
     "execution_count": 22,
     "metadata": {},
     "output_type": "execute_result"
    }
   ],
   "source": [
    "sympy_meth(:octave_code, subs( eq3, f=>ff) ) "
   ]
  },
  {
   "cell_type": "markdown",
   "metadata": {},
   "source": [
    "or "
   ]
  },
  {
   "cell_type": "code",
   "execution_count": 23,
   "metadata": {},
   "outputs": [
    {
     "data": {
      "text/plain": [
       "\"[z3; z4; (L1.*c1.*z4.*cos(z2) + L1.*k1.*sin(z2) - L2.*c2.*z4.*cos(z2) - L2.*k2.*sin(z2) - c1.*z3 - c2.*z3 + ff - g.*m - k1.*z1 - k2.*z1)./m; (-L1.^2.*c1.*z4.*cos(z2) - L1.^2.*k1.*sin(z2) + L1.*c1.*z3 + L1.*k1.*z1 - L2.^2.*c2.*z4.*cos(z2) - L2.^2.*k2.*sin(z2) - L2.*c2.*z3 - L2.*k2.*z1 + L3.*ff).*cos(z2)./J_G]\""
      ]
     },
     "execution_count": 23,
     "metadata": {},
     "output_type": "execute_result"
    }
   ],
   "source": [
    "sympy_meth(:octave_code, subs(Fss, f=>ff) )"
   ]
  },
  {
   "cell_type": "markdown",
   "metadata": {},
   "source": [
    "If we want to get rid of the quotes and other string oddities, we can print this string using `println` and then copy-paste what we need."
   ]
  },
  {
   "cell_type": "code",
   "execution_count": 24,
   "metadata": {},
   "outputs": [
    {
     "name": "stdout",
     "output_type": "stream",
     "text": [
      "(-L1.^2.*c1.*z4.*cos(z2) - L1.^2.*k1.*sin(z2) + L1.*c1.*z3 + L1.*k1.*z1 - L2.^2.*c2.*z4.*cos(z2) - L2.^2.*k2.*sin(z2) - L2.*c2.*z3 - L2.*k2.*z1 + L3.*ff).*cos(z2)./J_G\n"
     ]
    }
   ],
   "source": [
    "sympy_meth(:octave_code, subs( eq3, f=>ff)) |> println"
   ]
  },
  {
   "cell_type": "markdown",
   "metadata": {},
   "source": [
    "### Alternatives\n",
    "We can also use the `lambdify` function that directly generates a Julia function from an expression.  This is useful if we want to do a bunch of computations on these functions without leaving or re-writing the equations."
   ]
  },
  {
   "cell_type": "code",
   "execution_count": 25,
   "metadata": {},
   "outputs": [
    {
     "name": "stdout",
     "output_type": "stream",
     "text": [
      "search: \u001b[0m\u001b[1ml\u001b[22m\u001b[0m\u001b[1ma\u001b[22m\u001b[0m\u001b[1mm\u001b[22m\u001b[0m\u001b[1mb\u001b[22m\u001b[0m\u001b[1md\u001b[22m\u001b[0m\u001b[1mi\u001b[22m\u001b[0m\u001b[1mf\u001b[22m\u001b[0m\u001b[1my\u001b[22m \u001b[0m\u001b[1ml\u001b[22m\u001b[0m\u001b[1ma\u001b[22m\u001b[0m\u001b[1mm\u001b[22m\u001b[0m\u001b[1mb\u001b[22m\u001b[0m\u001b[1md\u001b[22m\u001b[0m\u001b[1mi\u001b[22m\u001b[0m\u001b[1mf\u001b[22m\u001b[0m\u001b[1my\u001b[22m_expr\n",
      "\n"
     ]
    },
    {
     "data": {
      "text/latex": [
       "\\texttt{lambidfy(ex::Sym,[vars]; typ=Any)}: Lambidfy an expression returning a native Julia function.  SymPy's \\href{http://docs.sympy.org/dev/modules/utilities/lambdify.html}{lambdify} function translates code into Python, this translates an expression into a \\texttt{Julia} function.\n",
       "\n",
       "Evaluating the function does not call into SymPy, so should be much faster.\n",
       "\n",
       "The optional \\texttt{[vars]} specifies the order of the variables when more than one is in \\texttt{ex}. The default is to use the ordering of \\texttt{free\\_symbols(ex)}.\n",
       "\n",
       "The keyword aruguments allow for the passing of expressions that are not covered by the default ones. These are dictionaries whose keys are strings with a SymPy name and whose values are symbols representing \\texttt{Julia} values. For examples \\texttt{Dict(\"sin\"=>:sin)} could be used to map a function, were that not already done.\n",
       "\n",
       "Additionally, a DataType keyword can be specified for the function.\n",
       "\n",
       "Not all expressions can be lambdified. If not, an error is thrown.\n",
       "\n",
       "There are two steps: a conversion from SymPy code to an expression, then a conversion into an anonymous function. The first step is performed either through \\texttt{walk\\_expression} (the default) or through a converter provided by SymPy, \\texttt{SymPy.sympy\\_meth(:julia\\_code, expr)}. The latter has some issues with the dot notation so is not the default. To use it, pass \\texttt{do\\_julia\\_code=true} to \\texttt{lambdify}.\n",
       "\n",
       "Some simple examples\n",
       "\n",
       "\\begin{verbatim}\n",
       "@vars x y\n",
       "lambdify(x^2)(2)       # 4\n",
       "lambdify(x*y^2)(2,3)   # 2*3^2 using default ordering\n",
       "lambdify(x*y^2, [y, x])(2,3) # 3*2^2, as function is (y,x) -> x*y^2 equivalent in Julia\n",
       "\\end{verbatim}\n",
       "Compare times\n",
       "\n",
       "\\begin{verbatim}\n",
       "xs = rand(1000)\n",
       "@vars x\n",
       "ex = sin(x)*cos(2x) * exp(x^2/2)\n",
       "map(u -> N(ex(u)), xs)   # 3.435850 seconds\n",
       "map(lambdify(ex), xs)    # 0.007085 seconds\n",
       "\\end{verbatim}\n"
      ],
      "text/markdown": [
       "`lambidfy(ex::Sym,[vars]; typ=Any)`: Lambidfy an expression returning a native Julia function.  SymPy's [lambdify](http://docs.sympy.org/dev/modules/utilities/lambdify.html) function translates code into Python, this translates an expression into a `Julia` function.\n",
       "\n",
       "Evaluating the function does not call into SymPy, so should be much faster.\n",
       "\n",
       "The optional `[vars]` specifies the order of the variables when more than one is in `ex`. The default is to use the ordering of `free_symbols(ex)`.\n",
       "\n",
       "The keyword aruguments allow for the passing of expressions that are not covered by the default ones. These are dictionaries whose keys are strings with a SymPy name and whose values are symbols representing `Julia` values. For examples `Dict(\"sin\"=>:sin)` could be used to map a function, were that not already done.\n",
       "\n",
       "Additionally, a DataType keyword can be specified for the function.\n",
       "\n",
       "Not all expressions can be lambdified. If not, an error is thrown.\n",
       "\n",
       "There are two steps: a conversion from SymPy code to an expression, then a conversion into an anonymous function. The first step is performed either through `walk_expression` (the default) or through a converter provided by SymPy, `SymPy.sympy_meth(:julia_code, expr)`. The latter has some issues with the dot notation so is not the default. To use it, pass `do_julia_code=true` to `lambdify`.\n",
       "\n",
       "Some simple examples\n",
       "\n",
       "```\n",
       "@vars x y\n",
       "lambdify(x^2)(2)       # 4\n",
       "lambdify(x*y^2)(2,3)   # 2*3^2 using default ordering\n",
       "lambdify(x*y^2, [y, x])(2,3) # 3*2^2, as function is (y,x) -> x*y^2 equivalent in Julia\n",
       "```\n",
       "\n",
       "Compare times\n",
       "\n",
       "```\n",
       "xs = rand(1000)\n",
       "@vars x\n",
       "ex = sin(x)*cos(2x) * exp(x^2/2)\n",
       "map(u -> N(ex(u)), xs)   # 3.435850 seconds\n",
       "map(lambdify(ex), xs)    # 0.007085 seconds\n",
       "```\n"
      ],
      "text/plain": [
       "  \u001b[36mlambidfy(ex::Sym,[vars]; typ=Any)\u001b[39m: Lambidfy an expression returning a native\n",
       "  Julia function. SymPy's lambdify\n",
       "  (http://docs.sympy.org/dev/modules/utilities/lambdify.html) function\n",
       "  translates code into Python, this translates an expression into a \u001b[36mJulia\u001b[39m\n",
       "  function.\n",
       "\n",
       "  Evaluating the function does not call into SymPy, so should be much faster.\n",
       "\n",
       "  The optional \u001b[36m[vars]\u001b[39m specifies the order of the variables when more than one\n",
       "  is in \u001b[36mex\u001b[39m. The default is to use the ordering of \u001b[36mfree_symbols(ex)\u001b[39m.\n",
       "\n",
       "  The keyword aruguments allow for the passing of expressions that are not\n",
       "  covered by the default ones. These are dictionaries whose keys are strings\n",
       "  with a SymPy name and whose values are symbols representing \u001b[36mJulia\u001b[39m values.\n",
       "  For examples \u001b[36mDict(\"sin\"=>:sin)\u001b[39m could be used to map a function, were that\n",
       "  not already done.\n",
       "\n",
       "  Additionally, a DataType keyword can be specified for the function.\n",
       "\n",
       "  Not all expressions can be lambdified. If not, an error is thrown.\n",
       "\n",
       "  There are two steps: a conversion from SymPy code to an expression, then a\n",
       "  conversion into an anonymous function. The first step is performed either\n",
       "  through \u001b[36mwalk_expression\u001b[39m (the default) or through a converter provided by\n",
       "  SymPy, \u001b[36mSymPy.sympy_meth(:julia_code, expr)\u001b[39m. The latter has some issues with\n",
       "  the dot notation so is not the default. To use it, pass \u001b[36mdo_julia_code=true\u001b[39m\n",
       "  to \u001b[36mlambdify\u001b[39m.\n",
       "\n",
       "  Some simple examples\n",
       "\n",
       "\u001b[36m  @vars x y\u001b[39m\n",
       "\u001b[36m  lambdify(x^2)(2)       # 4\u001b[39m\n",
       "\u001b[36m  lambdify(x*y^2)(2,3)   # 2*3^2 using default ordering\u001b[39m\n",
       "\u001b[36m  lambdify(x*y^2, [y, x])(2,3) # 3*2^2, as function is (y,x) -> x*y^2 equivalent in Julia\u001b[39m\n",
       "\n",
       "  Compare times\n",
       "\n",
       "\u001b[36m  xs = rand(1000)\u001b[39m\n",
       "\u001b[36m  @vars x\u001b[39m\n",
       "\u001b[36m  ex = sin(x)*cos(2x) * exp(x^2/2)\u001b[39m\n",
       "\u001b[36m  map(u -> N(ex(u)), xs)   # 3.435850 seconds\u001b[39m\n",
       "\u001b[36m  map(lambdify(ex), xs)    # 0.007085 seconds\u001b[39m"
      ]
     },
     "execution_count": 25,
     "metadata": {},
     "output_type": "execute_result"
    }
   ],
   "source": [
    "?lambdify"
   ]
  },
  {
   "cell_type": "code",
   "execution_count": 26,
   "metadata": {},
   "outputs": [
    {
     "data": {
      "text/latex": [
       "\\begin{equation*}m + 1\\end{equation*}"
      ],
      "text/plain": [
       "m + 1"
      ]
     },
     "execution_count": 26,
     "metadata": {},
     "output_type": "execute_result"
    }
   ],
   "source": [
    "epr = m+1"
   ]
  },
  {
   "cell_type": "code",
   "execution_count": 27,
   "metadata": {},
   "outputs": [
    {
     "data": {
      "text/plain": [
       "Epr (generic function with 1 method)"
      ]
     },
     "execution_count": 27,
     "metadata": {},
     "output_type": "execute_result"
    }
   ],
   "source": [
    "Epr(m) = lambdify(epr)(m)"
   ]
  },
  {
   "cell_type": "code",
   "execution_count": 28,
   "metadata": {},
   "outputs": [
    {
     "data": {
      "text/plain": [
       "2"
      ]
     },
     "execution_count": 28,
     "metadata": {},
     "output_type": "execute_result"
    }
   ],
   "source": [
    "Epr(1)"
   ]
  },
  {
   "cell_type": "code",
   "execution_count": null,
   "metadata": {},
   "outputs": [],
   "source": []
  }
 ],
 "metadata": {
  "kernelspec": {
   "display_name": "Julia 1.1.0",
   "language": "julia",
   "name": "julia-1.1"
  },
  "language_info": {
   "file_extension": ".jl",
   "mimetype": "application/julia",
   "name": "julia",
   "version": "1.1.0"
  }
 },
 "nbformat": 4,
 "nbformat_minor": 2
}
