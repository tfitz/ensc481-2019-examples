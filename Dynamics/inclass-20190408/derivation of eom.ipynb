{
 "cells": [
  {
   "cell_type": "markdown",
   "metadata": {},
   "source": [
    "# Derivation of equation of motion"
   ]
  },
  {
   "cell_type": "code",
   "execution_count": 1,
   "metadata": {},
   "outputs": [],
   "source": [
    "using Pkg\n",
    "Pkg.activate(\".\")\n",
    "# Pkg.add(\"SymPy\") # this is only needed the first time\n",
    "using SymPy"
   ]
  },
  {
   "cell_type": "code",
   "execution_count": 3,
   "metadata": {},
   "outputs": [
    {
     "data": {
      "text/plain": [
       "(L1, L2, k1, k2, c1, c2, m, JG, g)"
      ]
     },
     "execution_count": 3,
     "metadata": {},
     "output_type": "execute_result"
    }
   ],
   "source": [
    "L1, L2, k1, k2, c1, c2, m, JG, g = symbols(\"L1, L2, k1, k2, c1, c2, m, JG, g\", positive=true)"
   ]
  },
  {
   "cell_type": "code",
   "execution_count": 4,
   "metadata": {},
   "outputs": [],
   "source": [
    "t = symbols(\"t\")\n",
    "y = SymFunction(\"y\")(t)\n",
    "θ = SymFunction(\"theta\")(t)\n",
    ";"
   ]
  },
  {
   "cell_type": "code",
   "execution_count": 5,
   "metadata": {},
   "outputs": [
    {
     "data": {
      "text/latex": [
       "\\begin{equation*}g m y{\\left (t \\right )} + \\frac{k_{1} \\left(- L_{1} \\sin{\\left (\\theta{\\left (t \\right )} \\right )} + y{\\left (t \\right )}\\right)^{2}}{2} + \\frac{k_{2} \\left(L_{2} \\sin{\\left (\\theta{\\left (t \\right )} \\right )} + y{\\left (t \\right )}\\right)^{2}}{2}\\end{equation*}"
      ],
      "text/plain": [
       "                                        2                               2\n",
       "           k1*(-L1*sin(theta(t)) + y(t))    k2*(L2*sin(theta(t)) + y(t)) \n",
       "g*m*y(t) + ------------------------------ + -----------------------------\n",
       "                         2                                2              "
      ]
     },
     "execution_count": 5,
     "metadata": {},
     "output_type": "execute_result"
    }
   ],
   "source": [
    "y1 = y - L1*sin(θ)\n",
    "y2 = y + L2*sin(θ)\n",
    "V = 1//2*k1*y1^2 + 1//2*k2*y2^2 + m*g*y"
   ]
  },
  {
   "cell_type": "code",
   "execution_count": 6,
   "metadata": {},
   "outputs": [
    {
     "data": {
      "text/latex": [
       "\\begin{equation*}\\frac{c_{1} \\left(- L_{1} \\cos{\\left (\\theta{\\left (t \\right )} \\right )} \\frac{d}{d t} \\theta{\\left (t \\right )} + \\frac{d}{d t} y{\\left (t \\right )}\\right)^{2}}{2} + \\frac{c_{2} \\left(L_{2} \\cos{\\left (\\theta{\\left (t \\right )} \\right )} \\frac{d}{d t} \\theta{\\left (t \\right )} + \\frac{d}{d t} y{\\left (t \\right )}\\right)^{2}}{2}\\end{equation*}"
      ],
      "text/plain": [
       "                                               2                              \n",
       "   /                   d              d       \\       /                 d     \n",
       "c1*|- L1*cos(theta(t))*--(theta(t)) + --(y(t))|    c2*|L2*cos(theta(t))*--(the\n",
       "   \\                   dt             dt      /       \\                 dt    \n",
       "------------------------------------------------ + ---------------------------\n",
       "                       2                                                 2    \n",
       "\n",
       "                  2\n",
       "         d       \\ \n",
       "ta(t)) + --(y(t))| \n",
       "         dt      / \n",
       "-------------------\n",
       "                   "
      ]
     },
     "execution_count": 6,
     "metadata": {},
     "output_type": "execute_result"
    }
   ],
   "source": [
    "D = 1//2*c1*diff(y1,t)^2 + 1//2*c2*diff(y2,t)^2"
   ]
  },
  {
   "cell_type": "code",
   "execution_count": 7,
   "metadata": {},
   "outputs": [
    {
     "data": {
      "text/latex": [
       "\\begin{equation*}\\frac{JG \\left(\\frac{d}{d t} \\theta{\\left (t \\right )}\\right)^{2}}{2} + \\frac{m \\left(\\frac{d}{d t} y{\\left (t \\right )}\\right)^{2}}{2}\\end{equation*}"
      ],
      "text/plain": [
       "                 2               2\n",
       "   /d           \\      /d       \\ \n",
       "JG*|--(theta(t))|    m*|--(y(t))| \n",
       "   \\dt          /      \\dt      / \n",
       "------------------ + -------------\n",
       "        2                  2      "
      ]
     },
     "execution_count": 7,
     "metadata": {},
     "output_type": "execute_result"
    }
   ],
   "source": [
    "T = 1//2*m*diff(y,t)^2 + 1//2*JG*diff(θ,t)^2"
   ]
  },
  {
   "cell_type": "code",
   "execution_count": 8,
   "metadata": {},
   "outputs": [
    {
     "data": {
      "text/latex": [
       "\\begin{equation*}\\frac{JG \\left(\\frac{d}{d t} \\theta{\\left (t \\right )}\\right)^{2}}{2} - g m y{\\left (t \\right )} - \\frac{k_{1} \\left(L_{1} \\sin{\\left (\\theta{\\left (t \\right )} \\right )} - y{\\left (t \\right )}\\right)^{2}}{2} - \\frac{k_{2} \\left(L_{2} \\sin{\\left (\\theta{\\left (t \\right )} \\right )} + y{\\left (t \\right )}\\right)^{2}}{2} + \\frac{m \\left(\\frac{d}{d t} y{\\left (t \\right )}\\right)^{2}}{2}\\end{equation*}"
      ],
      "text/plain": [
       "                 2                                                            \n",
       "   /d           \\                                                             \n",
       "JG*|--(theta(t))|                                           2                 \n",
       "   \\dt          /               k1*(L1*sin(theta(t)) - y(t))    k2*(L2*sin(the\n",
       "------------------ - g*m*y(t) - ----------------------------- - --------------\n",
       "        2                                     2                               \n",
       "\n",
       "                              2\n",
       "                    /d       \\ \n",
       "              2   m*|--(y(t))| \n",
       "ta(t)) + y(t))      \\dt      / \n",
       "--------------- + -------------\n",
       "2                       2      "
      ]
     },
     "execution_count": 8,
     "metadata": {},
     "output_type": "execute_result"
    }
   ],
   "source": [
    "L = T - V |> simplify"
   ]
  },
  {
   "cell_type": "markdown",
   "metadata": {},
   "source": [
    "We can now build Lagrange's equation\n",
    "$$ \\frac{d}{dt}\\left(\\frac{\\partial L}{\\partial \\dot{y}}  \\right) - \\frac{\\partial L}{\\partial y} + \\frac{\\partial D}{\\partial \\dot{y}}  = 0$$"
   ]
  },
  {
   "cell_type": "code",
   "execution_count": 9,
   "metadata": {},
   "outputs": [
    {
     "data": {
      "text/latex": [
       "\\begin{equation*}\\frac{c_{1} \\left(- 2 L_{1} \\cos{\\left (\\theta{\\left (t \\right )} \\right )} \\frac{d}{d t} \\theta{\\left (t \\right )} + 2 \\frac{d}{d t} y{\\left (t \\right )}\\right)}{2} + \\frac{c_{2} \\left(2 L_{2} \\cos{\\left (\\theta{\\left (t \\right )} \\right )} \\frac{d}{d t} \\theta{\\left (t \\right )} + 2 \\frac{d}{d t} y{\\left (t \\right )}\\right)}{2} + g m + \\frac{k_{1} \\left(- 2 L_{1} \\sin{\\left (\\theta{\\left (t \\right )} \\right )} + 2 y{\\left (t \\right )}\\right)}{2} + \\frac{k_{2} \\left(2 L_{2} \\sin{\\left (\\theta{\\left (t \\right )} \\right )} + 2 y{\\left (t \\right )}\\right)}{2} + m \\frac{d^{2}}{d t^{2}} y{\\left (t \\right )}\\end{equation*}"
      ],
      "text/plain": [
       "   /                     d                d       \\      /                   d\n",
       "c1*|- 2*L1*cos(theta(t))*--(theta(t)) + 2*--(y(t))|   c2*|2*L2*cos(theta(t))*-\n",
       "   \\                     dt               dt      /      \\                   d\n",
       "--------------------------------------------------- + ------------------------\n",
       "                         2                                                    \n",
       "                                                                              \n",
       "\n",
       "                d       \\                                                     \n",
       "-(theta(t)) + 2*--(y(t))|                                                     \n",
       "t               dt      /         k1*(-2*L1*sin(theta(t)) + 2*y(t))   k2*(2*L2\n",
       "------------------------- + g*m + --------------------------------- + --------\n",
       "2                                                 2                           \n",
       "                                                                              \n",
       "\n",
       "                                      \n",
       "                               2      \n",
       "*sin(theta(t)) + 2*y(t))      d       \n",
       "------------------------ + m*---(y(t))\n",
       "       2                       2      \n",
       "                             dt       "
      ]
     },
     "execution_count": 9,
     "metadata": {},
     "output_type": "execute_result"
    }
   ],
   "source": [
    "diff(L, diff(y,t), t ) - diff(L, y) + diff(D, diff(y,t))"
   ]
  },
  {
   "cell_type": "code",
   "execution_count": 10,
   "metadata": {},
   "outputs": [
    {
     "data": {
      "text/plain": [
       "3-element Array{Int64,1}:\n",
       " 2\n",
       " 3\n",
       " 4"
      ]
     },
     "execution_count": 10,
     "metadata": {},
     "output_type": "execute_result"
    }
   ],
   "source": [
    "# List comprehension\n",
    "[ i+1 for i in 1:3 ]"
   ]
  },
  {
   "cell_type": "code",
   "execution_count": 11,
   "metadata": {},
   "outputs": [
    {
     "data": {
      "text/latex": [
       "\\[ \\left[ \\begin{array}{r}- c_{1} \\left(L_{1} \\cos{\\left (\\theta{\\left (t \\right )} \\right )} \\frac{d}{d t} \\theta{\\left (t \\right )} - \\frac{d}{d t} y{\\left (t \\right )}\\right) + c_{2} \\left(L_{2} \\cos{\\left (\\theta{\\left (t \\right )} \\right )} \\frac{d}{d t} \\theta{\\left (t \\right )} + \\frac{d}{d t} y{\\left (t \\right )}\\right) + g m - k_{1} \\left(L_{1} \\sin{\\left (\\theta{\\left (t \\right )} \\right )} - y{\\left (t \\right )}\\right) + k_{2} \\left(L_{2} \\sin{\\left (\\theta{\\left (t \\right )} \\right )} + y{\\left (t \\right )}\\right) + m \\frac{d^{2}}{d t^{2}} y{\\left (t \\right )}\\\\JG \\frac{d^{2}}{d t^{2}} \\theta{\\left (t \\right )} + L_{1} c_{1} \\left(L_{1} \\cos{\\left (\\theta{\\left (t \\right )} \\right )} \\frac{d}{d t} \\theta{\\left (t \\right )} - \\frac{d}{d t} y{\\left (t \\right )}\\right) \\cos{\\left (\\theta{\\left (t \\right )} \\right )} + L_{1} k_{1} \\left(L_{1} \\sin{\\left (\\theta{\\left (t \\right )} \\right )} - y{\\left (t \\right )}\\right) \\cos{\\left (\\theta{\\left (t \\right )} \\right )} + L_{2} c_{2} \\left(L_{2} \\cos{\\left (\\theta{\\left (t \\right )} \\right )} \\frac{d}{d t} \\theta{\\left (t \\right )} + \\frac{d}{d t} y{\\left (t \\right )}\\right) \\cos{\\left (\\theta{\\left (t \\right )} \\right )} + L_{2} k_{2} \\left(L_{2} \\sin{\\left (\\theta{\\left (t \\right )} \\right )} + y{\\left (t \\right )}\\right) \\cos{\\left (\\theta{\\left (t \\right )} \\right )}\\end{array} \\right] \\]"
      ],
      "text/plain": [
       "2-element Array{Sym,1}:\n",
       "                                                                   -c1*(L1*cos(theta(t))*Derivative(theta(t), t) - Derivative(y(t), t)) + c2*(L2*cos(theta(t))*Derivative(theta(t), t) + Derivative(y(t), t)) + g*m - k1*(L1*sin(theta(t)) - y(t)) + k2*(L2*sin(theta(t)) + y(t)) + m*Derivative(y(t), (t, 2))\n",
       " JG*Derivative(theta(t), (t, 2)) + L1*c1*(L1*cos(theta(t))*Derivative(theta(t), t) - Derivative(y(t), t))*cos(theta(t)) + L1*k1*(L1*sin(theta(t)) - y(t))*cos(theta(t)) + L2*c2*(L2*cos(theta(t))*Derivative(theta(t), t) + Derivative(y(t), t))*cos(theta(t)) + L2*k2*(L2*sin(theta(t)) + y(t))*cos(theta(t))"
      ]
     },
     "execution_count": 11,
     "metadata": {},
     "output_type": "execute_result"
    }
   ],
   "source": [
    "[ diff(L, diff(q,t), t) - diff(L,q) + diff(D,diff(q,t)) |> simplify for q in [y,θ]  ]"
   ]
  },
  {
   "cell_type": "code",
   "execution_count": 12,
   "metadata": {},
   "outputs": [
    {
     "data": {
      "text/latex": [
       "\\[ \\left[ \\begin{array}{r}- c_{1} \\left(L_{1} \\cos{\\left (\\theta{\\left (t \\right )} \\right )} \\frac{d}{d t} \\theta{\\left (t \\right )} - \\frac{d}{d t} y{\\left (t \\right )}\\right) + c_{2} \\left(L_{2} \\cos{\\left (\\theta{\\left (t \\right )} \\right )} \\frac{d}{d t} \\theta{\\left (t \\right )} + \\frac{d}{d t} y{\\left (t \\right )}\\right) + g m - k_{1} \\left(L_{1} \\sin{\\left (\\theta{\\left (t \\right )} \\right )} - y{\\left (t \\right )}\\right) + k_{2} \\left(L_{2} \\sin{\\left (\\theta{\\left (t \\right )} \\right )} + y{\\left (t \\right )}\\right) + m \\frac{d^{2}}{d t^{2}} y{\\left (t \\right )}\\\\JG \\frac{d^{2}}{d t^{2}} \\theta{\\left (t \\right )} + L_{1} c_{1} \\left(L_{1} \\cos{\\left (\\theta{\\left (t \\right )} \\right )} \\frac{d}{d t} \\theta{\\left (t \\right )} - \\frac{d}{d t} y{\\left (t \\right )}\\right) \\cos{\\left (\\theta{\\left (t \\right )} \\right )} + L_{1} k_{1} \\left(L_{1} \\sin{\\left (\\theta{\\left (t \\right )} \\right )} - y{\\left (t \\right )}\\right) \\cos{\\left (\\theta{\\left (t \\right )} \\right )} + L_{2} c_{2} \\left(L_{2} \\cos{\\left (\\theta{\\left (t \\right )} \\right )} \\frac{d}{d t} \\theta{\\left (t \\right )} + \\frac{d}{d t} y{\\left (t \\right )}\\right) \\cos{\\left (\\theta{\\left (t \\right )} \\right )} + L_{2} k_{2} \\left(L_{2} \\sin{\\left (\\theta{\\left (t \\right )} \\right )} + y{\\left (t \\right )}\\right) \\cos{\\left (\\theta{\\left (t \\right )} \\right )}\\end{array} \\right] \\]"
      ],
      "text/plain": [
       "2-element Array{Sym,1}:\n",
       "                                                                   -c1*(L1*cos(theta(t))*Derivative(theta(t), t) - Derivative(y(t), t)) + c2*(L2*cos(theta(t))*Derivative(theta(t), t) + Derivative(y(t), t)) + g*m - k1*(L1*sin(theta(t)) - y(t)) + k2*(L2*sin(theta(t)) + y(t)) + m*Derivative(y(t), (t, 2))\n",
       " JG*Derivative(theta(t), (t, 2)) + L1*c1*(L1*cos(theta(t))*Derivative(theta(t), t) - Derivative(y(t), t))*cos(theta(t)) + L1*k1*(L1*sin(theta(t)) - y(t))*cos(theta(t)) + L2*c2*(L2*cos(theta(t))*Derivative(theta(t), t) + Derivative(y(t), t))*cos(theta(t)) + L2*k2*(L2*sin(theta(t)) + y(t))*cos(theta(t))"
      ]
     },
     "execution_count": 12,
     "metadata": {},
     "output_type": "execute_result"
    }
   ],
   "source": [
    "Lag(q) = diff(L, diff(q,t), t) - diff(L,q) + diff(D,diff(q,t)) |> simplify\n",
    "[ Lag(q) for q in [y,θ] ]"
   ]
  },
  {
   "cell_type": "code",
   "execution_count": 13,
   "metadata": {},
   "outputs": [
    {
     "data": {
      "text/latex": [
       "\\[ \\left[ \\begin{array}{r}- c_{1} \\left(L_{1} \\cos{\\left (\\theta{\\left (t \\right )} \\right )} \\frac{d}{d t} \\theta{\\left (t \\right )} - \\frac{d}{d t} y{\\left (t \\right )}\\right) + c_{2} \\left(L_{2} \\cos{\\left (\\theta{\\left (t \\right )} \\right )} \\frac{d}{d t} \\theta{\\left (t \\right )} + \\frac{d}{d t} y{\\left (t \\right )}\\right) + g m - k_{1} \\left(L_{1} \\sin{\\left (\\theta{\\left (t \\right )} \\right )} - y{\\left (t \\right )}\\right) + k_{2} \\left(L_{2} \\sin{\\left (\\theta{\\left (t \\right )} \\right )} + y{\\left (t \\right )}\\right) + m \\frac{d^{2}}{d t^{2}} y{\\left (t \\right )}\\\\JG \\frac{d^{2}}{d t^{2}} \\theta{\\left (t \\right )} + L_{1} c_{1} \\left(L_{1} \\cos{\\left (\\theta{\\left (t \\right )} \\right )} \\frac{d}{d t} \\theta{\\left (t \\right )} - \\frac{d}{d t} y{\\left (t \\right )}\\right) \\cos{\\left (\\theta{\\left (t \\right )} \\right )} + L_{1} k_{1} \\left(L_{1} \\sin{\\left (\\theta{\\left (t \\right )} \\right )} - y{\\left (t \\right )}\\right) \\cos{\\left (\\theta{\\left (t \\right )} \\right )} + L_{2} c_{2} \\left(L_{2} \\cos{\\left (\\theta{\\left (t \\right )} \\right )} \\frac{d}{d t} \\theta{\\left (t \\right )} + \\frac{d}{d t} y{\\left (t \\right )}\\right) \\cos{\\left (\\theta{\\left (t \\right )} \\right )} + L_{2} k_{2} \\left(L_{2} \\sin{\\left (\\theta{\\left (t \\right )} \\right )} + y{\\left (t \\right )}\\right) \\cos{\\left (\\theta{\\left (t \\right )} \\right )}\\end{array} \\right] \\]"
      ],
      "text/plain": [
       "2-element Array{Sym,1}:\n",
       "                                                                   -c1*(L1*cos(theta(t))*Derivative(theta(t), t) - Derivative(y(t), t)) + c2*(L2*cos(theta(t))*Derivative(theta(t), t) + Derivative(y(t), t)) + g*m - k1*(L1*sin(theta(t)) - y(t)) + k2*(L2*sin(theta(t)) + y(t)) + m*Derivative(y(t), (t, 2))\n",
       " JG*Derivative(theta(t), (t, 2)) + L1*c1*(L1*cos(theta(t))*Derivative(theta(t), t) - Derivative(y(t), t))*cos(theta(t)) + L1*k1*(L1*sin(theta(t)) - y(t))*cos(theta(t)) + L2*c2*(L2*cos(theta(t))*Derivative(theta(t), t) + Derivative(y(t), t))*cos(theta(t)) + L2*k2*(L2*sin(theta(t)) + y(t))*cos(theta(t))"
      ]
     },
     "execution_count": 13,
     "metadata": {},
     "output_type": "execute_result"
    }
   ],
   "source": [
    "eom = Lag.([y,θ])"
   ]
  },
  {
   "cell_type": "code",
   "execution_count": 14,
   "metadata": {},
   "outputs": [
    {
     "data": {
      "text/latex": [
       "\\begin{equation*}\\begin{cases}\\frac{d^{2}}{d t^{2}} y{\\left (t \\right )} & \\text{=>} &\\frac{L_{1} c_{1} \\cos{\\left (\\theta{\\left (t \\right )} \\right )} \\frac{d}{d t} \\theta{\\left (t \\right )} + L_{1} k_{1} \\sin{\\left (\\theta{\\left (t \\right )} \\right )} - L_{2} c_{2} \\cos{\\left (\\theta{\\left (t \\right )} \\right )} \\frac{d}{d t} \\theta{\\left (t \\right )} - L_{2} k_{2} \\sin{\\left (\\theta{\\left (t \\right )} \\right )} - c_{1} \\frac{d}{d t} y{\\left (t \\right )} - c_{2} \\frac{d}{d t} y{\\left (t \\right )} - g m - k_{1} y{\\left (t \\right )} - k_{2} y{\\left (t \\right )}}{m}\\\\\\frac{d^{2}}{d t^{2}} \\theta{\\left (t \\right )} & \\text{=>} &\\frac{\\left(- L_{1}^{2} c_{1} \\cos{\\left (\\theta{\\left (t \\right )} \\right )} \\frac{d}{d t} \\theta{\\left (t \\right )} - L_{1}^{2} k_{1} \\sin{\\left (\\theta{\\left (t \\right )} \\right )} + L_{1} c_{1} \\frac{d}{d t} y{\\left (t \\right )} + L_{1} k_{1} y{\\left (t \\right )} - L_{2}^{2} c_{2} \\cos{\\left (\\theta{\\left (t \\right )} \\right )} \\frac{d}{d t} \\theta{\\left (t \\right )} - L_{2}^{2} k_{2} \\sin{\\left (\\theta{\\left (t \\right )} \\right )} - L_{2} c_{2} \\frac{d}{d t} y{\\left (t \\right )} - L_{2} k_{2} y{\\left (t \\right )}\\right) \\cos{\\left (\\theta{\\left (t \\right )} \\right )}}{JG}\\\\\\end{cases}\\end{equation*}"
      ],
      "text/plain": [
       "Dict{Sym,Sym} with 2 entries:\n",
       "  Derivative(y(t), (t, 2))     => (L1*c1*cos(theta(t))*Derivative(theta(t), t) …\n",
       "  Derivative(theta(t), (t, 2)) => (-L1^2*c1*cos(theta(t))*Derivative(theta(t), …"
      ]
     },
     "execution_count": 14,
     "metadata": {},
     "output_type": "execute_result"
    }
   ],
   "source": [
    "sol = solve( eom, diff([y,θ],t,t) )"
   ]
  },
  {
   "cell_type": "code",
   "execution_count": 15,
   "metadata": {},
   "outputs": [
    {
     "data": {
      "text/latex": [
       "\\begin{equation*}\\begin{cases}y{\\left (t \\right )} & \\text{=>} &z_{1}\\\\\\theta{\\left (t \\right )} & \\text{=>} &z_{2}\\\\\\end{cases}\\end{equation*}"
      ],
      "text/plain": [
       "Dict{Sym,Sym} with 2 entries:\n",
       "  y(t)     => z1\n",
       "  theta(t) => z2"
      ]
     },
     "execution_count": 15,
     "metadata": {},
     "output_type": "execute_result"
    }
   ],
   "source": [
    "z1,z2,z3,z4 = symbols(\"z1,z2,z3,z4\")\n",
    "rule1 = Dict( diff(y,t)=> z3, diff(θ,t)=>z4  )\n",
    "rule2 = Dict( y=> z1, θ=>z2 )"
   ]
  },
  {
   "cell_type": "code",
   "execution_count": 16,
   "metadata": {},
   "outputs": [
    {
     "data": {
      "text/latex": [
       "\\begin{equation*}z_{3}\\end{equation*}"
      ],
      "text/plain": [
       "z3"
      ]
     },
     "execution_count": 16,
     "metadata": {},
     "output_type": "execute_result"
    }
   ],
   "source": [
    "rule1[diff(y,t)]"
   ]
  },
  {
   "cell_type": "code",
   "execution_count": 17,
   "metadata": {},
   "outputs": [
    {
     "data": {
      "text/latex": [
       "\\begin{equation*}\\frac{\\left(- L_{1}^{2} c_{1} z_{4} \\cos{\\left (z_{2} \\right )} - L_{1}^{2} k_{1} \\sin{\\left (z_{2} \\right )} + L_{1} c_{1} z_{3} + L_{1} k_{1} z_{1} - L_{2}^{2} c_{2} z_{4} \\cos{\\left (z_{2} \\right )} - L_{2}^{2} k_{2} \\sin{\\left (z_{2} \\right )} - L_{2} c_{2} z_{3} - L_{2} k_{2} z_{1}\\right) \\cos{\\left (z_{2} \\right )}}{JG}\\end{equation*}"
      ],
      "text/plain": [
       "/    2                   2                                      2             \n",
       "\\- L1 *c1*z4*cos(z2) - L1 *k1*sin(z2) + L1*c1*z3 + L1*k1*z1 - L2 *c2*z4*cos(z2\n",
       "------------------------------------------------------------------------------\n",
       "                                                               JG             \n",
       "\n",
       "      2                                 \\        \n",
       ") - L2 *k2*sin(z2) - L2*c2*z3 - L2*k2*z1/*cos(z2)\n",
       "-------------------------------------------------\n",
       "                                                 "
      ]
     },
     "execution_count": 17,
     "metadata": {},
     "output_type": "execute_result"
    }
   ],
   "source": [
    "eq3 = sol[diff(θ,t,t)] |> subs(rule1) |> subs(rule2)"
   ]
  },
  {
   "cell_type": "code",
   "execution_count": 18,
   "metadata": {},
   "outputs": [
    {
     "data": {
      "text/plain": [
       "\"(-L1.^2.*c1.*z4.*cos(z2) - L1.^2.*k1.*sin(z2) + L1.*c1.*z3 + L1.*k1.*z1 - L2.^2.*c2.*z4.*cos(z2) - L2.^2.*k2.*sin(z2) - L2.*c2.*z3 - L2.*k2.*z1).*cos(z2)./JG\""
      ]
     },
     "execution_count": 18,
     "metadata": {},
     "output_type": "execute_result"
    }
   ],
   "source": [
    "sympy_meth(:octave_code, eq3)"
   ]
  },
  {
   "cell_type": "code",
   "execution_count": 19,
   "metadata": {},
   "outputs": [
    {
     "name": "stdout",
     "output_type": "stream",
     "text": [
      "search: \u001b[0m\u001b[1ml\u001b[22m\u001b[0m\u001b[1ma\u001b[22m\u001b[0m\u001b[1mm\u001b[22m\u001b[0m\u001b[1mb\u001b[22m\u001b[0m\u001b[1md\u001b[22m\u001b[0m\u001b[1mi\u001b[22m\u001b[0m\u001b[1mf\u001b[22m\u001b[0m\u001b[1my\u001b[22m \u001b[0m\u001b[1ml\u001b[22m\u001b[0m\u001b[1ma\u001b[22m\u001b[0m\u001b[1mm\u001b[22m\u001b[0m\u001b[1mb\u001b[22m\u001b[0m\u001b[1md\u001b[22m\u001b[0m\u001b[1mi\u001b[22m\u001b[0m\u001b[1mf\u001b[22m\u001b[0m\u001b[1my\u001b[22m_expr\n",
      "\n"
     ]
    },
    {
     "data": {
      "text/latex": [
       "\\texttt{lambidfy(ex::Sym,[vars]; typ=Any)}: Lambidfy an expression returning a native Julia function.  SymPy's \\href{http://docs.sympy.org/dev/modules/utilities/lambdify.html}{lambdify} function translates code into Python, this translates an expression into a \\texttt{Julia} function.\n",
       "\n",
       "Evaluating the function does not call into SymPy, so should be much faster.\n",
       "\n",
       "The optional \\texttt{[vars]} specifies the order of the variables when more than one is in \\texttt{ex}. The default is to use the ordering of \\texttt{free\\_symbols(ex)}.\n",
       "\n",
       "The keyword aruguments allow for the passing of expressions that are not covered by the default ones. These are dictionaries whose keys are strings with a SymPy name and whose values are symbols representing \\texttt{Julia} values. For examples \\texttt{Dict(\"sin\"=>:sin)} could be used to map a function, were that not already done.\n",
       "\n",
       "Additionally, a DataType keyword can be specified for the function.\n",
       "\n",
       "Not all expressions can be lambdified. If not, an error is thrown.\n",
       "\n",
       "There are two steps: a conversion from SymPy code to an expression, then a conversion into an anonymous function. The first step is performed either through \\texttt{walk\\_expression} (the default) or through a converter provided by SymPy, \\texttt{SymPy.sympy\\_meth(:julia\\_code, expr)}. The latter has some issues with the dot notation so is not the default. To use it, pass \\texttt{do\\_julia\\_code=true} to \\texttt{lambdify}.\n",
       "\n",
       "Some simple examples\n",
       "\n",
       "\\begin{verbatim}\n",
       "@vars x y\n",
       "lambdify(x^2)(2)       # 4\n",
       "lambdify(x*y^2)(2,3)   # 2*3^2 using default ordering\n",
       "lambdify(x*y^2, [y, x])(2,3) # 3*2^2, as function is (y,x) -> x*y^2 equivalent in Julia\n",
       "\\end{verbatim}\n",
       "Compare times\n",
       "\n",
       "\\begin{verbatim}\n",
       "xs = rand(1000)\n",
       "@vars x\n",
       "ex = sin(x)*cos(2x) * exp(x^2/2)\n",
       "map(u -> N(ex(u)), xs)   # 3.435850 seconds\n",
       "map(lambdify(ex), xs)    # 0.007085 seconds\n",
       "\\end{verbatim}\n"
      ],
      "text/markdown": [
       "`lambidfy(ex::Sym,[vars]; typ=Any)`: Lambidfy an expression returning a native Julia function.  SymPy's [lambdify](http://docs.sympy.org/dev/modules/utilities/lambdify.html) function translates code into Python, this translates an expression into a `Julia` function.\n",
       "\n",
       "Evaluating the function does not call into SymPy, so should be much faster.\n",
       "\n",
       "The optional `[vars]` specifies the order of the variables when more than one is in `ex`. The default is to use the ordering of `free_symbols(ex)`.\n",
       "\n",
       "The keyword aruguments allow for the passing of expressions that are not covered by the default ones. These are dictionaries whose keys are strings with a SymPy name and whose values are symbols representing `Julia` values. For examples `Dict(\"sin\"=>:sin)` could be used to map a function, were that not already done.\n",
       "\n",
       "Additionally, a DataType keyword can be specified for the function.\n",
       "\n",
       "Not all expressions can be lambdified. If not, an error is thrown.\n",
       "\n",
       "There are two steps: a conversion from SymPy code to an expression, then a conversion into an anonymous function. The first step is performed either through `walk_expression` (the default) or through a converter provided by SymPy, `SymPy.sympy_meth(:julia_code, expr)`. The latter has some issues with the dot notation so is not the default. To use it, pass `do_julia_code=true` to `lambdify`.\n",
       "\n",
       "Some simple examples\n",
       "\n",
       "```\n",
       "@vars x y\n",
       "lambdify(x^2)(2)       # 4\n",
       "lambdify(x*y^2)(2,3)   # 2*3^2 using default ordering\n",
       "lambdify(x*y^2, [y, x])(2,3) # 3*2^2, as function is (y,x) -> x*y^2 equivalent in Julia\n",
       "```\n",
       "\n",
       "Compare times\n",
       "\n",
       "```\n",
       "xs = rand(1000)\n",
       "@vars x\n",
       "ex = sin(x)*cos(2x) * exp(x^2/2)\n",
       "map(u -> N(ex(u)), xs)   # 3.435850 seconds\n",
       "map(lambdify(ex), xs)    # 0.007085 seconds\n",
       "```\n"
      ],
      "text/plain": [
       "  \u001b[36mlambidfy(ex::Sym,[vars]; typ=Any)\u001b[39m: Lambidfy an expression returning a native\n",
       "  Julia function. SymPy's lambdify\n",
       "  (http://docs.sympy.org/dev/modules/utilities/lambdify.html) function\n",
       "  translates code into Python, this translates an expression into a \u001b[36mJulia\u001b[39m\n",
       "  function.\n",
       "\n",
       "  Evaluating the function does not call into SymPy, so should be much faster.\n",
       "\n",
       "  The optional \u001b[36m[vars]\u001b[39m specifies the order of the variables when more than one\n",
       "  is in \u001b[36mex\u001b[39m. The default is to use the ordering of \u001b[36mfree_symbols(ex)\u001b[39m.\n",
       "\n",
       "  The keyword aruguments allow for the passing of expressions that are not\n",
       "  covered by the default ones. These are dictionaries whose keys are strings\n",
       "  with a SymPy name and whose values are symbols representing \u001b[36mJulia\u001b[39m values.\n",
       "  For examples \u001b[36mDict(\"sin\"=>:sin)\u001b[39m could be used to map a function, were that\n",
       "  not already done.\n",
       "\n",
       "  Additionally, a DataType keyword can be specified for the function.\n",
       "\n",
       "  Not all expressions can be lambdified. If not, an error is thrown.\n",
       "\n",
       "  There are two steps: a conversion from SymPy code to an expression, then a\n",
       "  conversion into an anonymous function. The first step is performed either\n",
       "  through \u001b[36mwalk_expression\u001b[39m (the default) or through a converter provided by\n",
       "  SymPy, \u001b[36mSymPy.sympy_meth(:julia_code, expr)\u001b[39m. The latter has some issues with\n",
       "  the dot notation so is not the default. To use it, pass \u001b[36mdo_julia_code=true\u001b[39m\n",
       "  to \u001b[36mlambdify\u001b[39m.\n",
       "\n",
       "  Some simple examples\n",
       "\n",
       "\u001b[36m  @vars x y\u001b[39m\n",
       "\u001b[36m  lambdify(x^2)(2)       # 4\u001b[39m\n",
       "\u001b[36m  lambdify(x*y^2)(2,3)   # 2*3^2 using default ordering\u001b[39m\n",
       "\u001b[36m  lambdify(x*y^2, [y, x])(2,3) # 3*2^2, as function is (y,x) -> x*y^2 equivalent in Julia\u001b[39m\n",
       "\n",
       "  Compare times\n",
       "\n",
       "\u001b[36m  xs = rand(1000)\u001b[39m\n",
       "\u001b[36m  @vars x\u001b[39m\n",
       "\u001b[36m  ex = sin(x)*cos(2x) * exp(x^2/2)\u001b[39m\n",
       "\u001b[36m  map(u -> N(ex(u)), xs)   # 3.435850 seconds\u001b[39m\n",
       "\u001b[36m  map(lambdify(ex), xs)    # 0.007085 seconds\u001b[39m"
      ]
     },
     "execution_count": 19,
     "metadata": {},
     "output_type": "execute_result"
    }
   ],
   "source": [
    "?lambdify"
   ]
  },
  {
   "cell_type": "code",
   "execution_count": 20,
   "metadata": {},
   "outputs": [
    {
     "data": {
      "text/latex": [
       "\\begin{equation*}m + 1\\end{equation*}"
      ],
      "text/plain": [
       "m + 1"
      ]
     },
     "execution_count": 20,
     "metadata": {},
     "output_type": "execute_result"
    }
   ],
   "source": [
    "epr = m+1"
   ]
  },
  {
   "cell_type": "code",
   "execution_count": 21,
   "metadata": {},
   "outputs": [
    {
     "data": {
      "text/plain": [
       "Epr (generic function with 1 method)"
      ]
     },
     "execution_count": 21,
     "metadata": {},
     "output_type": "execute_result"
    }
   ],
   "source": [
    "Epr(m) = lambdify(epr)(m)"
   ]
  },
  {
   "cell_type": "code",
   "execution_count": 22,
   "metadata": {},
   "outputs": [
    {
     "data": {
      "text/plain": [
       "2"
      ]
     },
     "execution_count": 22,
     "metadata": {},
     "output_type": "execute_result"
    }
   ],
   "source": [
    "Epr(1)"
   ]
  },
  {
   "cell_type": "code",
   "execution_count": null,
   "metadata": {},
   "outputs": [],
   "source": []
  }
 ],
 "metadata": {
  "kernelspec": {
   "display_name": "Julia 1.1.0",
   "language": "julia",
   "name": "julia-1.1"
  },
  "language_info": {
   "file_extension": ".jl",
   "mimetype": "application/julia",
   "name": "julia",
   "version": "1.1.0"
  }
 },
 "nbformat": 4,
 "nbformat_minor": 2
}
