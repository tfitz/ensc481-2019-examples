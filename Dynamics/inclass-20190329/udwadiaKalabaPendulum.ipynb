{
 "cells": [
  {
   "cell_type": "markdown",
   "metadata": {},
   "source": [
    "# Udwadia Kalaba Example\n",
    "Let's look at the simple pendulum using the [Udwadia-Kalaba equation](https://en.wikipedia.org/wiki/Udwadia%E2%80%93Kalaba_equation)"
   ]
  },
  {
   "cell_type": "code",
   "execution_count": 1,
   "metadata": {},
   "outputs": [],
   "source": [
    "using Pkg\n",
    "Pkg.activate(\".\")\n",
    "# Pkg.add(\"SymPy\")\n",
    "using SymPy\n",
    "using LinearAlgebra"
   ]
  },
  {
   "cell_type": "code",
   "execution_count": 2,
   "metadata": {},
   "outputs": [],
   "source": [
    "m,g,l= symbols(\"m,g,l\", positive=true)\n",
    "t = symbols(\"t\")\n",
    "x = SymFunction(\"x\")(t)\n",
    "y = SymFunction(\"y\")(t)\n",
    ";"
   ]
  },
  {
   "cell_type": "code",
   "execution_count": 3,
   "metadata": {},
   "outputs": [
    {
     "data": {
      "text/latex": [
       "\\[\\left[ \\begin{array}{rr}m&0\\\\0&m\\end{array}\\right]\\]"
      ],
      "text/plain": [
       "2×2 Array{Sym,2}:\n",
       " m  0\n",
       " 0  m"
      ]
     },
     "execution_count": 3,
     "metadata": {},
     "output_type": "execute_result"
    }
   ],
   "source": [
    "M = diagm(0=>[m,m])"
   ]
  },
  {
   "cell_type": "code",
   "execution_count": 4,
   "metadata": {},
   "outputs": [
    {
     "data": {
      "text/latex": [
       "\\[ \\left[ \\begin{array}{r}0\\\\- g m\\end{array} \\right] \\]"
      ],
      "text/plain": [
       "2-element Array{Sym,1}:\n",
       "    0\n",
       " -g*m"
      ]
     },
     "execution_count": 4,
     "metadata": {},
     "output_type": "execute_result"
    }
   ],
   "source": [
    "Q = [0, -m*g]"
   ]
  },
  {
   "cell_type": "code",
   "execution_count": 5,
   "metadata": {},
   "outputs": [
    {
     "data": {
      "text/latex": [
       "\\[\\left[ \\begin{array}{rr}x{\\left (t \\right )}&y{\\left (t \\right )}\\end{array}\\right]\\]"
      ],
      "text/plain": [
       "1×2 Array{Sym,2}:\n",
       " x(t)  y(t)"
      ]
     },
     "execution_count": 5,
     "metadata": {},
     "output_type": "execute_result"
    }
   ],
   "source": [
    "A = [x y]"
   ]
  },
  {
   "cell_type": "code",
   "execution_count": 6,
   "metadata": {},
   "outputs": [
    {
     "data": {
      "text/latex": [
       "\\begin{equation*}- \\left(\\frac{d}{d t} x{\\left (t \\right )}\\right)^{2} - \\left(\\frac{d}{d t} y{\\left (t \\right )}\\right)^{2}\\end{equation*}"
      ],
      "text/plain": [
       "            2             2\n",
       "  /d       \\    /d       \\ \n",
       "- |--(x(t))|  - |--(y(t))| \n",
       "  \\dt      /    \\dt      / "
      ]
     },
     "execution_count": 6,
     "metadata": {},
     "output_type": "execute_result"
    }
   ],
   "source": [
    "b  = - diff(x,t)^2 - diff(y,t)^2"
   ]
  },
  {
   "cell_type": "code",
   "execution_count": 7,
   "metadata": {},
   "outputs": [
    {
     "data": {
      "text/latex": [
       "\\[\\left[ \\begin{array}{rr}\\sqrt{m}&0\\\\0&\\sqrt{m}\\end{array}\\right]\\]"
      ],
      "text/plain": [
       "2×2 Array{Sym,2}:\n",
       " sqrt(m)        0\n",
       "       0  sqrt(m)"
      ]
     },
     "execution_count": 7,
     "metadata": {},
     "output_type": "execute_result"
    }
   ],
   "source": [
    "M12 = diagm(0=>[sqrt(m),sqrt(m)])"
   ]
  },
  {
   "cell_type": "code",
   "execution_count": 8,
   "metadata": {},
   "outputs": [
    {
     "data": {
      "text/latex": [
       "\\[\\left[ \\begin{array}{rr}m&0\\\\0&m\\end{array}\\right]\\]"
      ],
      "text/plain": [
       "2×2 Array{Sym,2}:\n",
       " m  0\n",
       " 0  m"
      ]
     },
     "execution_count": 8,
     "metadata": {},
     "output_type": "execute_result"
    }
   ],
   "source": [
    "M12*M12"
   ]
  },
  {
   "cell_type": "code",
   "execution_count": 9,
   "metadata": {},
   "outputs": [
    {
     "data": {
      "text/latex": [
       "\\[\\left[ \\begin{array}{rr}\\sqrt{m} x{\\left (t \\right )}&\\sqrt{m} y{\\left (t \\right )}\\end{array}\\right]\\]"
      ],
      "text/plain": [
       "1×2 Array{Sym,2}:\n",
       " sqrt(m)*x(t)  sqrt(m)*y(t)"
      ]
     },
     "execution_count": 9,
     "metadata": {},
     "output_type": "execute_result"
    }
   ],
   "source": [
    "A*M12"
   ]
  },
  {
   "cell_type": "code",
   "execution_count": 10,
   "metadata": {},
   "outputs": [
    {
     "data": {
      "text/latex": [
       "\\[\\left[ \\begin{array}{rr}\\frac{x{\\left (t \\right )}}{\\sqrt{m}}&\\frac{y{\\left (t \\right )}}{\\sqrt{m}}\\end{array}\\right]\\]"
      ],
      "text/plain": [
       "1×2 Adjoint{Sym,Array{Sym,1}}:\n",
       " x(t)/sqrt(m)  y(t)/sqrt(m)"
      ]
     },
     "execution_count": 10,
     "metadata": {},
     "output_type": "execute_result"
    }
   ],
   "source": [
    "P = A/M12"
   ]
  },
  {
   "cell_type": "code",
   "execution_count": 11,
   "metadata": {},
   "outputs": [
    {
     "data": {
      "text/latex": [
       "\\[\\left[ \\begin{array}{r}\\frac{x{\\left (t \\right )}}{\\sqrt{m} \\left(\\frac{x^{2}{\\left (t \\right )}}{m} + \\frac{y^{2}{\\left (t \\right )}}{m}\\right)}\\\\\\frac{y{\\left (t \\right )}}{\\sqrt{m} \\left(\\frac{x^{2}{\\left (t \\right )}}{m} + \\frac{y^{2}{\\left (t \\right )}}{m}\\right)}\\end{array}\\right]\\]"
      ],
      "text/plain": [
       "2×1 Array{Sym,2}:\n",
       " x(t)/(sqrt(m)*(x(t)^2/m + y(t)^2/m))\n",
       " y(t)/(sqrt(m)*(x(t)^2/m + y(t)^2/m))"
      ]
     },
     "execution_count": 11,
     "metadata": {},
     "output_type": "execute_result"
    }
   ],
   "source": [
    "Ppinv = transpose(P)*inv( P*transpose(P) )"
   ]
  },
  {
   "cell_type": "code",
   "execution_count": 12,
   "metadata": {},
   "outputs": [
    {
     "data": {
      "text/latex": [
       "\\[\\left[ \\begin{array}{r}\\frac{\\left(g y{\\left (t \\right )} - \\left(\\frac{d}{d t} x{\\left (t \\right )}\\right)^{2} - \\left(\\frac{d}{d t} y{\\left (t \\right )}\\right)^{2}\\right) x{\\left (t \\right )}}{m \\left(\\frac{x^{2}{\\left (t \\right )}}{m} + \\frac{y^{2}{\\left (t \\right )}}{m}\\right)}\\\\\\frac{- g m + \\frac{\\left(g y{\\left (t \\right )} - \\left(\\frac{d}{d t} x{\\left (t \\right )}\\right)^{2} - \\left(\\frac{d}{d t} y{\\left (t \\right )}\\right)^{2}\\right) y{\\left (t \\right )}}{\\frac{x^{2}{\\left (t \\right )}}{m} + \\frac{y^{2}{\\left (t \\right )}}{m}}}{m}\\end{array}\\right]\\]"
      ],
      "text/plain": [
       "2×1 Array{Sym,2}:\n",
       "        (g*y(t) - Derivative(x(t), t)^2 - Derivative(y(t), t)^2)*x(t)/(m*(x(t)^2/m + y(t)^2/m))\n",
       " (-g*m + (g*y(t) - Derivative(x(t), t)^2 - Derivative(y(t), t)^2)*y(t)/(x(t)^2/m + y(t)^2/m))/m"
      ]
     },
     "execution_count": 12,
     "metadata": {},
     "output_type": "execute_result"
    }
   ],
   "source": [
    "qdd = M\\( Q + M12*Ppinv*(b - (A/M)*Q ) )"
   ]
  },
  {
   "cell_type": "code",
   "execution_count": 13,
   "metadata": {},
   "outputs": [
    {
     "data": {
      "text/latex": [
       "\\[\\left[ \\begin{array}{r}\\frac{\\left(g y{\\left (t \\right )} - \\left(\\frac{d}{d t} x{\\left (t \\right )}\\right)^{2} - \\left(\\frac{d}{d t} y{\\left (t \\right )}\\right)^{2}\\right) x{\\left (t \\right )}}{x^{2}{\\left (t \\right )} + y^{2}{\\left (t \\right )}}\\\\- \\frac{g x^{2}{\\left (t \\right )} + y{\\left (t \\right )} \\left(\\frac{d}{d t} x{\\left (t \\right )}\\right)^{2} + y{\\left (t \\right )} \\left(\\frac{d}{d t} y{\\left (t \\right )}\\right)^{2}}{x^{2}{\\left (t \\right )} + y^{2}{\\left (t \\right )}}\\end{array}\\right]\\]"
      ],
      "text/plain": [
       "2×1 Array{Sym,2}:\n",
       "         (g*y(t) - Derivative(x(t), t)^2 - Derivative(y(t), t)^2)*x(t)/(x(t)^2 + y(t)^2)\n",
       " -(g*x(t)^2 + y(t)*Derivative(x(t), t)^2 + y(t)*Derivative(y(t), t)^2)/(x(t)^2 + y(t)^2)"
      ]
     },
     "execution_count": 13,
     "metadata": {},
     "output_type": "execute_result"
    }
   ],
   "source": [
    "qdd = [simplify(q) for q in qdd]"
   ]
  },
  {
   "cell_type": "markdown",
   "metadata": {},
   "source": [
    "Let's define some states\n",
    "$$ z = [x, y, \\dot x, \\dot y]$$"
   ]
  },
  {
   "cell_type": "code",
   "execution_count": 14,
   "metadata": {},
   "outputs": [
    {
     "data": {
      "text/latex": [
       "\\begin{equation*}\\begin{cases}x{\\left (t \\right )} & \\text{=>} &z_{1}\\\\y{\\left (t \\right )} & \\text{=>} &z_{2}\\\\\\end{cases}\\end{equation*}"
      ],
      "text/plain": [
       "Dict{Sym,Sym} with 2 entries:\n",
       "  x(t) => z1\n",
       "  y(t) => z2"
      ]
     },
     "execution_count": 14,
     "metadata": {},
     "output_type": "execute_result"
    }
   ],
   "source": [
    "z1, z2, z3, z4 = symbols(\"z1, z2, z3, z4\")\n",
    "rule1 = Dict( diff(x,t)=> z3, diff(y,t)=>z4 )\n",
    "rule2 = Dict( x=>z1, y=>z2 )"
   ]
  },
  {
   "cell_type": "code",
   "execution_count": 15,
   "metadata": {},
   "outputs": [
    {
     "data": {
      "text/latex": [
       "\\[\\left[ \\begin{array}{r}\\frac{z_{1} \\left(g z_{2} - z_{3}^{2} - z_{4}^{2}\\right)}{z_{1}^{2} + z_{2}^{2}}\\\\- \\frac{g z_{1}^{2} + z_{2} z_{3}^{2} + z_{2} z_{4}^{2}}{z_{1}^{2} + z_{2}^{2}}\\end{array}\\right]\\]"
      ],
      "text/plain": [
       "2×1 Array{Sym,2}:\n",
       "       z1*(g*z2 - z3^2 - z4^2)/(z1^2 + z2^2)\n",
       " -(g*z1^2 + z2*z3^2 + z2*z4^2)/(z1^2 + z2^2)"
      ]
     },
     "execution_count": 15,
     "metadata": {},
     "output_type": "execute_result"
    }
   ],
   "source": [
    "qdd |> subs(rule1) |> subs(rule2)"
   ]
  },
  {
   "cell_type": "markdown",
   "metadata": {},
   "source": [
    "## What about getting A and b numerically?\n",
    "We can use the (somewhat magical) [ForwardDiff](http://www.juliadiff.org/ForwardDiff.jl/stable/index.html) package to automatically differentiate $h$ top build $A$ and $b$."
   ]
  },
  {
   "cell_type": "code",
   "execution_count": 16,
   "metadata": {},
   "outputs": [],
   "source": [
    "# Pkg.add(\"ForwardDiff\")\n",
    "using ForwardDiff"
   ]
  },
  {
   "cell_type": "code",
   "execution_count": 17,
   "metadata": {},
   "outputs": [
    {
     "data": {
      "text/plain": [
       "h (generic function with 1 method)"
      ]
     },
     "execution_count": 17,
     "metadata": {},
     "output_type": "execute_result"
    }
   ],
   "source": [
    "h( z, l) = z[1]^2 + z[2]^2 - l^2"
   ]
  },
  {
   "cell_type": "markdown",
   "metadata": {},
   "source": [
    "Let's make an example differentiation:"
   ]
  },
  {
   "cell_type": "code",
   "execution_count": 18,
   "metadata": {},
   "outputs": [
    {
     "data": {
      "text/plain": [
       "2-element Array{Float64,1}:\n",
       " 2.0\n",
       " 2.0"
      ]
     },
     "execution_count": 18,
     "metadata": {},
     "output_type": "execute_result"
    }
   ],
   "source": [
    "ForwardDiff.gradient( z-> h(z,1.) ,[1,1.] )"
   ]
  },
  {
   "cell_type": "markdown",
   "metadata": {},
   "source": [
    "and I can also build the Hessian"
   ]
  },
  {
   "cell_type": "code",
   "execution_count": 19,
   "metadata": {},
   "outputs": [
    {
     "data": {
      "text/plain": [
       "2×2 Array{Float64,2}:\n",
       " 2.0  0.0\n",
       " 0.0  2.0"
      ]
     },
     "execution_count": 19,
     "metadata": {},
     "output_type": "execute_result"
    }
   ],
   "source": [
    "ForwardDiff.hessian( z -> h(z,1.), [1, 2.] )"
   ]
  },
  {
   "cell_type": "markdown",
   "metadata": {},
   "source": [
    "Now I can build $A$"
   ]
  },
  {
   "cell_type": "code",
   "execution_count": 20,
   "metadata": {},
   "outputs": [
    {
     "data": {
      "text/plain": [
       "An (generic function with 1 method)"
      ]
     },
     "execution_count": 20,
     "metadata": {},
     "output_type": "execute_result"
    }
   ],
   "source": [
    "An(q,l) = transpose( ForwardDiff.gradient( x-> h(x,l), q) )"
   ]
  },
  {
   "cell_type": "code",
   "execution_count": 21,
   "metadata": {},
   "outputs": [
    {
     "data": {
      "text/plain": [
       "1×2 Transpose{Float64,Array{Float64,1}}:\n",
       " 2.0  2.0"
      ]
     },
     "execution_count": 21,
     "metadata": {},
     "output_type": "execute_result"
    }
   ],
   "source": [
    "An([1.,1],0)"
   ]
  },
  {
   "cell_type": "markdown",
   "metadata": {},
   "source": [
    "And $b$ (as derived in the OnDynamics notes on blackboard)"
   ]
  },
  {
   "cell_type": "code",
   "execution_count": 22,
   "metadata": {},
   "outputs": [
    {
     "data": {
      "text/plain": [
       "bn (generic function with 1 method)"
      ]
     },
     "execution_count": 22,
     "metadata": {},
     "output_type": "execute_result"
    }
   ],
   "source": [
    "bn(q,qd,l) = -transpose(qd)*ForwardDiff.hessian( x -> h(x,l), q)*qd"
   ]
  },
  {
   "cell_type": "code",
   "execution_count": 23,
   "metadata": {},
   "outputs": [
    {
     "data": {
      "text/plain": [
       "-16"
      ]
     },
     "execution_count": 23,
     "metadata": {},
     "output_type": "execute_result"
    }
   ],
   "source": [
    "bn([1,1], [2,2], 1)"
   ]
  },
  {
   "cell_type": "code",
   "execution_count": null,
   "metadata": {},
   "outputs": [],
   "source": []
  }
 ],
 "metadata": {
  "kernelspec": {
   "display_name": "Julia 1.1.0",
   "language": "julia",
   "name": "julia-1.1"
  },
  "language_info": {
   "file_extension": ".jl",
   "mimetype": "application/julia",
   "name": "julia",
   "version": "1.1.0"
  }
 },
 "nbformat": 4,
 "nbformat_minor": 2
}
