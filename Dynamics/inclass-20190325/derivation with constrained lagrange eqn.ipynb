{
 "cells": [
  {
   "cell_type": "markdown",
   "metadata": {},
   "source": [
    "# Lagrange's Equation with a constraint\n",
    "## The simple pendulum\n",
    "Derivation built inclass on 25 Mar 2019"
   ]
  },
  {
   "cell_type": "code",
   "execution_count": 1,
   "metadata": {},
   "outputs": [],
   "source": [
    "using Pkg\n",
    "Pkg.activate(\".\")\n",
    "using SymPy"
   ]
  },
  {
   "cell_type": "markdown",
   "metadata": {},
   "source": [
    "Let's define the symbols for the problem"
   ]
  },
  {
   "cell_type": "code",
   "execution_count": 2,
   "metadata": {},
   "outputs": [],
   "source": [
    "m,g, l = symbols(\"m,g, l\", positive=true)\n",
    "t = symbols(\"t\", real=true)\n",
    "x = SymFunction(\"x\")(t)\n",
    "y = SymFunction(\"y\")(t)\n",
    "λ = SymFunction(\"lambda\")(t)\n",
    ";"
   ]
  },
  {
   "cell_type": "markdown",
   "metadata": {},
   "source": [
    "Now we can build the (uncontrained) kinetic and potential energies, the holonomic (geometric) constraint $h(x,y)$, and the augmented Lagrangian"
   ]
  },
  {
   "cell_type": "code",
   "execution_count": 3,
   "metadata": {},
   "outputs": [
    {
     "data": {
      "text/latex": [
       "\\begin{equation*}- g m y{\\left (t \\right )} + \\frac{m \\left(\\left(\\frac{d}{d t} x{\\left (t \\right )}\\right)^{2} + \\left(\\frac{d}{d t} y{\\left (t \\right )}\\right)^{2}\\right)}{2} + \\left(- l^{2} + x^{2}{\\left (t \\right )} + y^{2}{\\left (t \\right )}\\right) \\lambda{\\left (t \\right )}\\end{equation*}"
      ],
      "text/plain": [
       "              /          2             2\\                                   \n",
       "              |/d       \\    /d       \\ |                                   \n",
       "            m*||--(x(t))|  + |--(y(t))| |                                   \n",
       "              \\\\dt      /    \\dt      / /   /   2    2       2   \\          \n",
       "-g*m*y(t) + ----------------------------- + \\- l  + x (t) + y (t)/*lambda(t)\n",
       "                          2                                                 "
      ]
     },
     "execution_count": 3,
     "metadata": {},
     "output_type": "execute_result"
    }
   ],
   "source": [
    "T = 1//2*m*( diff(x,t)^2 + diff(y,t)^2 )\n",
    "V = m*g*y\n",
    "h = x^2 + y^2 - l^2\n",
    "L = T-V + λ*h"
   ]
  },
  {
   "cell_type": "markdown",
   "metadata": {},
   "source": [
    "Constructing Lagrange's equation (in the same way we did for an unconstrained system)"
   ]
  },
  {
   "cell_type": "code",
   "execution_count": 4,
   "metadata": {},
   "outputs": [
    {
     "data": {
      "text/latex": [
       "\\[ \\left[ \\begin{array}{r}m \\frac{d^{2}}{d t^{2}} x{\\left (t \\right )} - 2 \\lambda{\\left (t \\right )} x{\\left (t \\right )}\\\\g m + m \\frac{d^{2}}{d t^{2}} y{\\left (t \\right )} - 2 \\lambda{\\left (t \\right )} y{\\left (t \\right )}\\end{array} \\right] \\]"
      ],
      "text/plain": [
       "2-element Array{Sym,1}:\n",
       "       m*Derivative(x(t), (t, 2)) - 2*lambda(t)*x(t)\n",
       " g*m + m*Derivative(y(t), (t, 2)) - 2*lambda(t)*y(t)"
      ]
     },
     "execution_count": 4,
     "metadata": {},
     "output_type": "execute_result"
    }
   ],
   "source": [
    "eom = [diff( L, diff(q,t), t ) - diff(L,q) for q in [x,y] ]"
   ]
  },
  {
   "cell_type": "markdown",
   "metadata": {},
   "source": [
    "To solve these equations using methods we are familar with, means we need to differentiate $h$ twice, and eliminate $\\lambda$."
   ]
  },
  {
   "cell_type": "code",
   "execution_count": 5,
   "metadata": {},
   "outputs": [
    {
     "data": {
      "text/latex": [
       "\\[ \\left[ \\begin{array}{r}m \\frac{d^{2}}{d t^{2}} x{\\left (t \\right )} - 2 \\lambda{\\left (t \\right )} x{\\left (t \\right )}\\\\g m + m \\frac{d^{2}}{d t^{2}} y{\\left (t \\right )} - 2 \\lambda{\\left (t \\right )} y{\\left (t \\right )}\\\\2 \\left(x{\\left (t \\right )} \\frac{d^{2}}{d t^{2}} x{\\left (t \\right )} + y{\\left (t \\right )} \\frac{d^{2}}{d t^{2}} y{\\left (t \\right )} + \\left(\\frac{d}{d t} x{\\left (t \\right )}\\right)^{2} + \\left(\\frac{d}{d t} y{\\left (t \\right )}\\right)^{2}\\right)\\end{array} \\right] \\]"
      ],
      "text/plain": [
       "3-element Array{Sym,1}:\n",
       "                                                                     m*Derivative(x(t), (t, 2)) - 2*lambda(t)*x(t)\n",
       "                                                               g*m + m*Derivative(y(t), (t, 2)) - 2*lambda(t)*y(t)\n",
       " 2*(x(t)*Derivative(x(t), (t, 2)) + y(t)*Derivative(y(t), (t, 2)) + Derivative(x(t), t)^2 + Derivative(y(t), t)^2)"
      ]
     },
     "execution_count": 5,
     "metadata": {},
     "output_type": "execute_result"
    }
   ],
   "source": [
    "eom2 = vcat(eom, [diff(h,t,t)])"
   ]
  },
  {
   "cell_type": "code",
   "execution_count": 6,
   "metadata": {},
   "outputs": [
    {
     "data": {
      "text/latex": [
       "\\begin{equation*}\\begin{cases}\\frac{d^{2}}{d t^{2}} y{\\left (t \\right )} & \\text{=>} &- \\frac{g x^{2}{\\left (t \\right )} + \\left(\\left(\\frac{d}{d t} x{\\left (t \\right )}\\right)^{2} + \\left(\\frac{d}{d t} y{\\left (t \\right )}\\right)^{2}\\right) y{\\left (t \\right )}}{x^{2}{\\left (t \\right )} + y^{2}{\\left (t \\right )}}\\\\\\lambda{\\left (t \\right )} & \\text{=>} &\\frac{m \\left(g y{\\left (t \\right )} - \\left(\\frac{d}{d t} x{\\left (t \\right )}\\right)^{2} - \\left(\\frac{d}{d t} y{\\left (t \\right )}\\right)^{2}\\right)}{2 \\left(x^{2}{\\left (t \\right )} + y^{2}{\\left (t \\right )}\\right)}\\\\\\frac{d^{2}}{d t^{2}} x{\\left (t \\right )} & \\text{=>} &\\frac{\\left(g y{\\left (t \\right )} - \\left(\\frac{d}{d t} x{\\left (t \\right )}\\right)^{2} - \\left(\\frac{d}{d t} y{\\left (t \\right )}\\right)^{2}\\right) x{\\left (t \\right )}}{x^{2}{\\left (t \\right )} + y^{2}{\\left (t \\right )}}\\\\\\end{cases}\\end{equation*}"
      ],
      "text/plain": [
       "Dict{Sym,Sym} with 3 entries:\n",
       "  Derivative(y(t), (t, 2)) => -(g*x(t)^2 + (Derivative(x(t), t)^2 + Derivative(…\n",
       "  lambda(t)                => m*(g*y(t) - Derivative(x(t), t)^2 - Derivative(y(…\n",
       "  Derivative(x(t), (t, 2)) => (g*y(t) - Derivative(x(t), t)^2 - Derivative(y(t)…"
      ]
     },
     "execution_count": 6,
     "metadata": {},
     "output_type": "execute_result"
    }
   ],
   "source": [
    "sol = solve(eom2, [diff(x,t,t), diff(y,t,t), λ])"
   ]
  },
  {
   "cell_type": "markdown",
   "metadata": {},
   "source": [
    "## How does this compare to the usual equation?\n",
    "For a simple pendulum where $\\theta$ is measured counter-clockwise from the horizontal we can state that any position \n",
    "$$(x,y) = \\left(l \\cos\\theta,\\, l\\sin\\theta\\right)$$\n",
    "We can differentiate that as needed to eliminate $x$ and $y$ from the previous odes.\n",
    "\n",
    "For reference, the equation of motion would be\n",
    "$$ \\ddot{\\theta} + \\frac{g}{l}\\cos\\theta = 0$$\n",
    "(yes it is cosine here due to where the angle is referenced)\n"
   ]
  },
  {
   "cell_type": "code",
   "execution_count": 7,
   "metadata": {},
   "outputs": [
    {
     "data": {
      "text/latex": [
       "\\begin{equation*}\\begin{cases}\\frac{d^{2}}{d t^{2}} y{\\left (t \\right )} & \\text{=>} &- l \\left(\\sin{\\left (\\theta{\\left (t \\right )} \\right )} \\left(\\frac{d}{d t} \\theta{\\left (t \\right )}\\right)^{2} - \\cos{\\left (\\theta{\\left (t \\right )} \\right )} \\frac{d^{2}}{d t^{2}} \\theta{\\left (t \\right )}\\right)\\\\\\frac{d^{2}}{d t^{2}} x{\\left (t \\right )} & \\text{=>} &- l \\left(\\sin{\\left (\\theta{\\left (t \\right )} \\right )} \\frac{d^{2}}{d t^{2}} \\theta{\\left (t \\right )} + \\cos{\\left (\\theta{\\left (t \\right )} \\right )} \\left(\\frac{d}{d t} \\theta{\\left (t \\right )}\\right)^{2}\\right)\\\\\\end{cases}\\end{equation*}"
      ],
      "text/plain": [
       "Dict{Sym,Sym} with 2 entries:\n",
       "  Derivative(y(t), (t, 2)) => -l*(sin(theta(t))*Derivative(theta(t), t)^2 - cos…\n",
       "  Derivative(x(t), (t, 2)) => -l*(sin(theta(t))*Derivative(theta(t), (t, 2)) + …"
      ]
     },
     "execution_count": 7,
     "metadata": {},
     "output_type": "execute_result"
    }
   ],
   "source": [
    "θ = SymFunction(\"theta\")(t)\n",
    "rule1= Dict( x=> l*cos(θ), y=>l*sin(θ) )\n",
    "rule2 = Dict( diff(x,t) => diff(x |> subs(rule1), t), diff(y,t) => diff(y |> subs(rule1), t) )\n",
    "rule3 = Dict( diff(x,t,t) => diff(x |> subs(rule1), t,t), diff(y,t,t) => diff(y |> subs(rule1), t,t) )"
   ]
  },
  {
   "cell_type": "code",
   "execution_count": 8,
   "metadata": {},
   "outputs": [
    {
     "data": {
      "text/latex": [
       "\\begin{equation*}- \\left(g \\cos{\\left (\\theta{\\left (t \\right )} \\right )} + l \\frac{d^{2}}{d t^{2}} \\theta{\\left (t \\right )}\\right) \\sin{\\left (\\theta{\\left (t \\right )} \\right )}\\end{equation*}"
      ],
      "text/plain": [
       " /                      2          \\              \n",
       " |                     d           |              \n",
       "-|g*cos(theta(t)) + l*---(theta(t))|*sin(theta(t))\n",
       " |                      2          |              \n",
       " \\                    dt           /              "
      ]
     },
     "execution_count": 8,
     "metadata": {},
     "output_type": "execute_result"
    }
   ],
   "source": [
    "diff(x,t,t) - sol[diff(x,t,t)] |> subs(rule3) |>subs(rule2) |> subs(rule1) |> simplify"
   ]
  },
  {
   "cell_type": "code",
   "execution_count": 9,
   "metadata": {},
   "outputs": [
    {
     "data": {
      "text/latex": [
       "\\begin{equation*}\\left(g \\cos{\\left (\\theta{\\left (t \\right )} \\right )} + l \\frac{d^{2}}{d t^{2}} \\theta{\\left (t \\right )}\\right) \\cos{\\left (\\theta{\\left (t \\right )} \\right )}\\end{equation*}"
      ],
      "text/plain": [
       "/                      2          \\              \n",
       "|                     d           |              \n",
       "|g*cos(theta(t)) + l*---(theta(t))|*cos(theta(t))\n",
       "|                      2          |              \n",
       "\\                    dt           /              "
      ]
     },
     "execution_count": 9,
     "metadata": {},
     "output_type": "execute_result"
    }
   ],
   "source": [
    "diff(y,t,t) - sol[diff(y,t,t)] |> subs(rule3) |>subs(rule2) |> subs(rule1) |> simplify"
   ]
  },
  {
   "cell_type": "markdown",
   "metadata": {},
   "source": [
    "We can see that both equations collapse down to the \"regular\" ode."
   ]
  },
  {
   "cell_type": "code",
   "execution_count": null,
   "metadata": {},
   "outputs": [],
   "source": []
  }
 ],
 "metadata": {
  "kernelspec": {
   "display_name": "Julia 1.1.0",
   "language": "julia",
   "name": "julia-1.1"
  },
  "language_info": {
   "file_extension": ".jl",
   "mimetype": "application/julia",
   "name": "julia",
   "version": "1.1.0"
  }
 },
 "nbformat": 4,
 "nbformat_minor": 2
}
