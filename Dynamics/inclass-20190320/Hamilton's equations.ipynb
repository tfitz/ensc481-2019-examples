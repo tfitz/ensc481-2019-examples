{
 "cells": [
  {
   "cell_type": "markdown",
   "metadata": {},
   "source": [
    "# Example in Class\n",
    "started on 20-Mar-2019\n",
    "\n",
    "Example of deriving the equations of motion of an inverted pendulum on a cart using Hamilton's equations"
   ]
  },
  {
   "cell_type": "code",
   "execution_count": 1,
   "metadata": {},
   "outputs": [],
   "source": [
    "using Pkg\n",
    "Pkg.activate(\".\")\n",
    "\n",
    "# uncomment the next line the first time this sheet is run\n",
    "#Pkg.add(\"SymPy\")\n",
    "\n",
    "using SymPy"
   ]
  },
  {
   "cell_type": "code",
   "execution_count": 2,
   "metadata": {},
   "outputs": [
    {
     "data": {
      "text/plain": [
       "(m, M, g, l, J_G)"
      ]
     },
     "execution_count": 2,
     "metadata": {},
     "output_type": "execute_result"
    }
   ],
   "source": [
    "m,M,g,l,J= symbols(\"m,M,g,l,J_G\", positive=true)"
   ]
  },
  {
   "cell_type": "code",
   "execution_count": 3,
   "metadata": {},
   "outputs": [],
   "source": [
    "t,τ, f = symbols(\"t, tau, f\")\n",
    "x = SymFunction(\"x\")(t)\n",
    "θ = SymFunction(\"theta\")(t)\n",
    ";"
   ]
  },
  {
   "cell_type": "code",
   "execution_count": 4,
   "metadata": {},
   "outputs": [],
   "source": [
    "ihat= [1,0,0]\n",
    "jhat = [0,1,0]\n",
    "khat= [0,0,1]\n",
    ";"
   ]
  },
  {
   "cell_type": "code",
   "execution_count": 5,
   "metadata": {},
   "outputs": [
    {
     "data": {
      "text/latex": [
       "\\[ \\left[ \\begin{array}{r}l \\sin{\\left (\\theta{\\left (t \\right )} \\right )} + x{\\left (t \\right )}\\\\l \\cos{\\left (\\theta{\\left (t \\right )} \\right )}\\\\0\\end{array} \\right] \\]"
      ],
      "text/plain": [
       "3-element Array{Sym,1}:\n",
       " l*sin(theta(t)) + x(t)\n",
       "        l*cos(theta(t))\n",
       "                      0"
      ]
     },
     "execution_count": 5,
     "metadata": {},
     "output_type": "execute_result"
    }
   ],
   "source": [
    "rG = x*ihat + l*(sin(θ)*ihat + cos(θ)*jhat )"
   ]
  },
  {
   "cell_type": "code",
   "execution_count": 6,
   "metadata": {},
   "outputs": [
    {
     "data": {
      "text/latex": [
       "\\begin{equation*}\\frac{J_{G} \\left(\\frac{d}{d t} \\theta{\\left (t \\right )}\\right)^{2}}{2} + \\frac{M \\left(\\frac{d}{d t} x{\\left (t \\right )}\\right)^{2}}{2} + \\frac{l^{2} m \\left(\\frac{d}{d t} \\theta{\\left (t \\right )}\\right)^{2}}{2} + l m \\cos{\\left (\\theta{\\left (t \\right )} \\right )} \\frac{d}{d t} \\theta{\\left (t \\right )} \\frac{d}{d t} x{\\left (t \\right )} + \\frac{m \\left(\\frac{d}{d t} x{\\left (t \\right )}\\right)^{2}}{2}\\end{equation*}"
      ],
      "text/plain": [
       "                  2               2                      2                    \n",
       "    /d           \\      /d       \\     2   /d           \\                     \n",
       "J_G*|--(theta(t))|    M*|--(x(t))|    l *m*|--(theta(t))|                     \n",
       "    \\dt          /      \\dt      /         \\dt          /                     \n",
       "------------------- + ------------- + -------------------- + l*m*cos(theta(t))\n",
       "         2                  2                  2                              \n",
       "\n",
       "                                     2\n",
       "                           /d       \\ \n",
       "                         m*|--(x(t))| \n",
       " d            d            \\dt      / \n",
       "*--(theta(t))*--(x(t)) + -------------\n",
       " dt           dt               2      "
      ]
     },
     "execution_count": 6,
     "metadata": {},
     "output_type": "execute_result"
    }
   ],
   "source": [
    "T = 1//2*M*diff(x,t)^2 + 1//2*m*transpose(diff(rG,t))*diff(rG,t) + 1//2*J*diff(θ,t)^2 |> simplify"
   ]
  },
  {
   "cell_type": "code",
   "execution_count": 7,
   "metadata": {},
   "outputs": [
    {
     "data": {
      "text/latex": [
       "\\begin{equation*}g l m \\cos{\\left (\\theta{\\left (t \\right )} \\right )}\\end{equation*}"
      ],
      "text/plain": [
       "g*l*m*cos(theta(t))"
      ]
     },
     "execution_count": 7,
     "metadata": {},
     "output_type": "execute_result"
    }
   ],
   "source": [
    "V = m*g*rG[2]"
   ]
  },
  {
   "cell_type": "code",
   "execution_count": 8,
   "metadata": {},
   "outputs": [
    {
     "data": {
      "text/plain": [
       "(p1, p2)"
      ]
     },
     "execution_count": 8,
     "metadata": {},
     "output_type": "execute_result"
    }
   ],
   "source": [
    "p1,p2 = symbols(\"p1,p2\")"
   ]
  },
  {
   "cell_type": "code",
   "execution_count": 9,
   "metadata": {},
   "outputs": [
    {
     "data": {
      "text/latex": [
       "\\begin{equation*}\\frac{J_{G} \\left(\\frac{d}{d t} \\theta{\\left (t \\right )}\\right)^{2}}{2} + \\frac{M \\left(\\frac{d}{d t} x{\\left (t \\right )}\\right)^{2}}{2} - g l m \\cos{\\left (\\theta{\\left (t \\right )} \\right )} + \\frac{l^{2} m \\left(\\frac{d}{d t} \\theta{\\left (t \\right )}\\right)^{2}}{2} + l m \\cos{\\left (\\theta{\\left (t \\right )} \\right )} \\frac{d}{d t} \\theta{\\left (t \\right )} \\frac{d}{d t} x{\\left (t \\right )} + \\frac{m \\left(\\frac{d}{d t} x{\\left (t \\right )}\\right)^{2}}{2}\\end{equation*}"
      ],
      "text/plain": [
       "                  2               2                                           \n",
       "    /d           \\      /d       \\                           2   /d           \n",
       "J_G*|--(theta(t))|    M*|--(x(t))|                          l *m*|--(theta(t))\n",
       "    \\dt          /      \\dt      /                               \\dt          \n",
       "------------------- + ------------- - g*l*m*cos(theta(t)) + ------------------\n",
       "         2                  2                                        2        \n",
       "\n",
       " 2                                                         2\n",
       "\\                                                /d       \\ \n",
       "|                                              m*|--(x(t))| \n",
       "/                      d            d            \\dt      / \n",
       "-- + l*m*cos(theta(t))*--(theta(t))*--(x(t)) + -------------\n",
       "                       dt           dt               2      "
      ]
     },
     "execution_count": 9,
     "metadata": {},
     "output_type": "execute_result"
    }
   ],
   "source": [
    "L = T-V"
   ]
  },
  {
   "cell_type": "code",
   "execution_count": 10,
   "metadata": {},
   "outputs": [
    {
     "data": {
      "text/latex": [
       "\\[ \\left[ \\begin{array}{r}p_{1} = M \\frac{d}{d t} x{\\left (t \\right )} + l m \\cos{\\left (\\theta{\\left (t \\right )} \\right )} \\frac{d}{d t} \\theta{\\left (t \\right )} + m \\frac{d}{d t} x{\\left (t \\right )}\\\\p_{2} = J_{G} \\frac{d}{d t} \\theta{\\left (t \\right )} + l^{2} m \\frac{d}{d t} \\theta{\\left (t \\right )} + l m \\cos{\\left (\\theta{\\left (t \\right )} \\right )} \\frac{d}{d t} x{\\left (t \\right )}\\end{array} \\right] \\]"
      ],
      "text/plain": [
       "2-element Array{Sym,1}:\n",
       "           Eq(p1, M*Derivative(x(t), t) + l*m*cos(theta(t))*Derivative(theta(t), t) + m*Derivative(x(t), t))\n",
       " Eq(p2, J_G*Derivative(theta(t), t) + l^2*m*Derivative(theta(t), t) + l*m*cos(theta(t))*Derivative(x(t), t))"
      ]
     },
     "execution_count": 10,
     "metadata": {},
     "output_type": "execute_result"
    }
   ],
   "source": [
    "eq1 = [Eq(p1, diff(L,diff(x,t))),\n",
    "    Eq(p2, diff(L,diff(θ,t))) ]"
   ]
  },
  {
   "cell_type": "code",
   "execution_count": 11,
   "metadata": {},
   "outputs": [
    {
     "data": {
      "text/latex": [
       "\\begin{equation*}\\begin{cases}\\frac{d}{d t} \\theta{\\left (t \\right )} & \\text{=>} &\\frac{l m p_{1} \\cos{\\left (\\theta{\\left (t \\right )} \\right )} - p_{2} \\left(M + m\\right)}{l^{2} m^{2} \\cos^{2}{\\left (\\theta{\\left (t \\right )} \\right )} - \\left(J_{G} + l^{2} m\\right) \\left(M + m\\right)}\\\\\\frac{d}{d t} x{\\left (t \\right )} & \\text{=>} &\\frac{l m p_{2} \\cos{\\left (\\theta{\\left (t \\right )} \\right )} - p_{1} \\left(J_{G} + l^{2} m\\right)}{l^{2} m^{2} \\cos^{2}{\\left (\\theta{\\left (t \\right )} \\right )} - \\left(J_{G} + l^{2} m\\right) \\left(M + m\\right)}\\\\\\end{cases}\\end{equation*}"
      ],
      "text/plain": [
       "Dict{Sym,Sym} with 2 entries:\n",
       "  Derivative(theta(t), t) => (l*m*p1*cos(theta(t)) - p2*(M + m))/(l^2*m^2*cos(t…\n",
       "  Derivative(x(t), t)     => (l*m*p2*cos(theta(t)) - p1*(J_G + l^2*m))/(l^2*m^2…"
      ]
     },
     "execution_count": 11,
     "metadata": {},
     "output_type": "execute_result"
    }
   ],
   "source": [
    "solp =  solve(eq1, diff([x,θ], t) )"
   ]
  },
  {
   "cell_type": "markdown",
   "metadata": {},
   "source": [
    "Example ended here in class, next class we will finish this up\n",
    "\n",
    "Starting now (22-Mar), let's build the Hamiltonian"
   ]
  },
  {
   "cell_type": "code",
   "execution_count": 12,
   "metadata": {},
   "outputs": [
    {
     "data": {
      "text/latex": [
       "\\begin{equation*}\\frac{J_{G} M g l m \\cos{\\left (\\theta{\\left (t \\right )} \\right )} + J_{G} g l m^{2} \\cos{\\left (\\theta{\\left (t \\right )} \\right )} + \\frac{J_{G} p_{1}^{2}}{2} + M g l^{3} m^{2} \\cos{\\left (\\theta{\\left (t \\right )} \\right )} + \\frac{M p_{2}^{2}}{2} - g l^{3} m^{3} \\cos^{3}{\\left (\\theta{\\left (t \\right )} \\right )} + g l^{3} m^{3} \\cos{\\left (\\theta{\\left (t \\right )} \\right )} + \\frac{l^{2} m p_{1}^{2}}{2} - l m p_{1} p_{2} \\cos{\\left (\\theta{\\left (t \\right )} \\right )} + \\frac{m p_{2}^{2}}{2}}{J_{G} M + J_{G} m + M l^{2} m + l^{2} m^{2} \\sin^{2}{\\left (\\theta{\\left (t \\right )} \\right )}}\\end{equation*}"
      ],
      "text/plain": [
       "                                                             2                \n",
       "                                     2                 J_G*p1         3  2    \n",
       "J_G*M*g*l*m*cos(theta(t)) + J_G*g*l*m *cos(theta(t)) + ------- + M*g*l *m *cos\n",
       "                                                          2                   \n",
       "------------------------------------------------------------------------------\n",
       "                                                                              \n",
       "                                                                        J_G*M \n",
       "\n",
       "                 2                                                     2     2\n",
       "             M*p2       3  3    3                3  3                 l *m*p1 \n",
       "(theta(t)) + ----- - g*l *m *cos (theta(t)) + g*l *m *cos(theta(t)) + --------\n",
       "               2                                                         2    \n",
       "------------------------------------------------------------------------------\n",
       "             2      2  2    2                                                 \n",
       "+ J_G*m + M*l *m + l *m *sin (theta(t))                                       \n",
       "\n",
       "                                 2\n",
       "                             m*p2 \n",
       " - l*m*p1*p2*cos(theta(t)) + -----\n",
       "                               2  \n",
       "----------------------------------\n",
       "                                  \n",
       "                                  "
      ]
     },
     "execution_count": 12,
     "metadata": {},
     "output_type": "execute_result"
    }
   ],
   "source": [
    "H = T + V |> subs(solp) |> simplify"
   ]
  },
  {
   "cell_type": "code",
   "execution_count": 13,
   "metadata": {},
   "outputs": [
    {
     "data": {
      "text/latex": [
       "\\[ \\left[ \\begin{array}{r}f\\\\\\frac{2 l^{2} m^{2} \\left(J_{G} M g l m \\cos{\\left (\\theta{\\left (t \\right )} \\right )} + J_{G} g l m^{2} \\cos{\\left (\\theta{\\left (t \\right )} \\right )} + \\frac{J_{G} p_{1}^{2}}{2} + M g l^{3} m^{2} \\cos{\\left (\\theta{\\left (t \\right )} \\right )} + \\frac{M p_{2}^{2}}{2} - g l^{3} m^{3} \\cos^{3}{\\left (\\theta{\\left (t \\right )} \\right )} + g l^{3} m^{3} \\cos{\\left (\\theta{\\left (t \\right )} \\right )} + \\frac{l^{2} m p_{1}^{2}}{2} - l m p_{1} p_{2} \\cos{\\left (\\theta{\\left (t \\right )} \\right )} + \\frac{m p_{2}^{2}}{2}\\right) \\sin{\\left (\\theta{\\left (t \\right )} \\right )} \\cos{\\left (\\theta{\\left (t \\right )} \\right )}}{\\left(J_{G} M + J_{G} m + M l^{2} m + l^{2} m^{2} \\sin^{2}{\\left (\\theta{\\left (t \\right )} \\right )}\\right)^{2}} + \\tau - \\frac{- J_{G} M g l m \\sin{\\left (\\theta{\\left (t \\right )} \\right )} - J_{G} g l m^{2} \\sin{\\left (\\theta{\\left (t \\right )} \\right )} - M g l^{3} m^{2} \\sin{\\left (\\theta{\\left (t \\right )} \\right )} + 3 g l^{3} m^{3} \\sin{\\left (\\theta{\\left (t \\right )} \\right )} \\cos^{2}{\\left (\\theta{\\left (t \\right )} \\right )} - g l^{3} m^{3} \\sin{\\left (\\theta{\\left (t \\right )} \\right )} + l m p_{1} p_{2} \\sin{\\left (\\theta{\\left (t \\right )} \\right )}}{J_{G} M + J_{G} m + M l^{2} m + l^{2} m^{2} \\sin^{2}{\\left (\\theta{\\left (t \\right )} \\right )}}\\end{array} \\right] \\]"
      ],
      "text/plain": [
       "2-element Array{Sym,1}:\n",
       "                                                                                                                                                                                                                                                                                                                                                                                                                                                                                                                                                                  f\n",
       " 2*l^2*m^2*(J_G*M*g*l*m*cos(theta(t)) + J_G*g*l*m^2*cos(theta(t)) + J_G*p1^2/2 + M*g*l^3*m^2*cos(theta(t)) + M*p2^2/2 - g*l^3*m^3*cos(theta(t))^3 + g*l^3*m^3*cos(theta(t)) + l^2*m*p1^2/2 - l*m*p1*p2*cos(theta(t)) + m*p2^2/2)*sin(theta(t))*cos(theta(t))/(J_G*M + J_G*m + M*l^2*m + l^2*m^2*sin(theta(t))^2)^2 + tau - (-J_G*M*g*l*m*sin(theta(t)) - J_G*g*l*m^2*sin(theta(t)) - M*g*l^3*m^2*sin(theta(t)) + 3*g*l^3*m^3*sin(theta(t))*cos(theta(t))^2 - g*l^3*m^3*sin(theta(t)) + l*m*p1*p2*sin(theta(t)))/(J_G*M + J_G*m + M*l^2*m + l^2*m^2*sin(theta(t))^2)"
      ]
     },
     "execution_count": 13,
     "metadata": {},
     "output_type": "execute_result"
    }
   ],
   "source": [
    "pdot = [ - diff(H,q) for q in [x,θ] ] + [f, τ]"
   ]
  },
  {
   "cell_type": "code",
   "execution_count": 14,
   "metadata": {},
   "outputs": [
    {
     "data": {
      "text/latex": [
       "\\[ \\left[ \\begin{array}{r}\\frac{J_{G} p_{1} + l^{2} m p_{1} - l m p_{2} \\cos{\\left (\\theta{\\left (t \\right )} \\right )}}{J_{G} M + J_{G} m + M l^{2} m + l^{2} m^{2} \\sin^{2}{\\left (\\theta{\\left (t \\right )} \\right )}}\\\\\\frac{M p_{2} - l m p_{1} \\cos{\\left (\\theta{\\left (t \\right )} \\right )} + m p_{2}}{J_{G} M + J_{G} m + M l^{2} m + l^{2} m^{2} \\sin^{2}{\\left (\\theta{\\left (t \\right )} \\right )}}\\end{array} \\right] \\]"
      ],
      "text/plain": [
       "2-element Array{Sym,1}:\n",
       " (J_G*p1 + l^2*m*p1 - l*m*p2*cos(theta(t)))/(J_G*M + J_G*m + M*l^2*m + l^2*m^2*sin(theta(t))^2)\n",
       "       (M*p2 - l*m*p1*cos(theta(t)) + m*p2)/(J_G*M + J_G*m + M*l^2*m + l^2*m^2*sin(theta(t))^2)"
      ]
     },
     "execution_count": 14,
     "metadata": {},
     "output_type": "execute_result"
    }
   ],
   "source": [
    "qdot = [ diff(H,p) for p in [p1,p2] ]"
   ]
  },
  {
   "cell_type": "code",
   "execution_count": 15,
   "metadata": {},
   "outputs": [
    {
     "data": {
      "text/plain": [
       "\"% Not supported in Octave:\\n% theta\\n[(J_G.*p1 + l.^2.*m.*p1 - l.*m.*p2.*cos(theta(t)))./(J_G.*M + J_G.*m + M.*l.^2.*m + l.^2.*m.^2.*sin(theta(t)).^2); (M.*p2 - l.*m.*p1.*cos(theta(t)) + m.*p2)./(J_G.*M + J_G.*m + M.*l.^2.*m + l.^2.*m.^2.*sin(theta(t)).^2)]\""
      ]
     },
     "execution_count": 15,
     "metadata": {},
     "output_type": "execute_result"
    }
   ],
   "source": [
    "sympy_meth(:octave_code, qdot)"
   ]
  },
  {
   "cell_type": "markdown",
   "metadata": {},
   "source": [
    "That's not good.  Let's define a set of states\n",
    "$$ z = [x,\\theta, p_1,p_2] $$"
   ]
  },
  {
   "cell_type": "code",
   "execution_count": 16,
   "metadata": {},
   "outputs": [
    {
     "data": {
      "text/latex": [
       "\\[ \\left[ \\begin{array}{r}\\frac{J_{G} z_{3} + l^{2} m z_{3} - l m z_{4} \\cos{\\left (z_{2} \\right )}}{J_{G} M + J_{G} m + M l^{2} m + l^{2} m^{2} \\sin^{2}{\\left (z_{2} \\right )}}\\\\\\frac{M z_{4} - l m z_{3} \\cos{\\left (z_{2} \\right )} + m z_{4}}{J_{G} M + J_{G} m + M l^{2} m + l^{2} m^{2} \\sin^{2}{\\left (z_{2} \\right )}}\\\\f\\\\\\frac{2 l^{2} m^{2} \\left(J_{G} M g l m \\cos{\\left (z_{2} \\right )} + J_{G} g l m^{2} \\cos{\\left (z_{2} \\right )} + \\frac{J_{G} z_{3}^{2}}{2} + M g l^{3} m^{2} \\cos{\\left (z_{2} \\right )} + \\frac{M z_{4}^{2}}{2} - g l^{3} m^{3} \\cos^{3}{\\left (z_{2} \\right )} + g l^{3} m^{3} \\cos{\\left (z_{2} \\right )} + \\frac{l^{2} m z_{3}^{2}}{2} - l m z_{3} z_{4} \\cos{\\left (z_{2} \\right )} + \\frac{m z_{4}^{2}}{2}\\right) \\sin{\\left (z_{2} \\right )} \\cos{\\left (z_{2} \\right )}}{\\left(J_{G} M + J_{G} m + M l^{2} m + l^{2} m^{2} \\sin^{2}{\\left (z_{2} \\right )}\\right)^{2}} + torque - \\frac{- J_{G} M g l m \\sin{\\left (z_{2} \\right )} - J_{G} g l m^{2} \\sin{\\left (z_{2} \\right )} - M g l^{3} m^{2} \\sin{\\left (z_{2} \\right )} + 3 g l^{3} m^{3} \\sin{\\left (z_{2} \\right )} \\cos^{2}{\\left (z_{2} \\right )} - g l^{3} m^{3} \\sin{\\left (z_{2} \\right )} + l m z_{3} z_{4} \\sin{\\left (z_{2} \\right )}}{J_{G} M + J_{G} m + M l^{2} m + l^{2} m^{2} \\sin^{2}{\\left (z_{2} \\right )}}\\end{array} \\right] \\]"
      ],
      "text/plain": [
       "4-element Array{Sym,1}:\n",
       "                                                                                                                                                                                                                                                                                                                                                                              (J_G*z3 + l^2*m*z3 - l*m*z4*cos(z2))/(J_G*M + J_G*m + M*l^2*m + l^2*m^2*sin(z2)^2)\n",
       "                                                                                                                                                                                                                                                                                                                                                                                    (M*z4 - l*m*z3*cos(z2) + m*z4)/(J_G*M + J_G*m + M*l^2*m + l^2*m^2*sin(z2)^2)\n",
       "                                                                                                                                                                                                                                                                                                                                                                                                                                                               f\n",
       " 2*l^2*m^2*(J_G*M*g*l*m*cos(z2) + J_G*g*l*m^2*cos(z2) + J_G*z3^2/2 + M*g*l^3*m^2*cos(z2) + M*z4^2/2 - g*l^3*m^3*cos(z2)^3 + g*l^3*m^3*cos(z2) + l^2*m*z3^2/2 - l*m*z3*z4*cos(z2) + m*z4^2/2)*sin(z2)*cos(z2)/(J_G*M + J_G*m + M*l^2*m + l^2*m^2*sin(z2)^2)^2 + torque - (-J_G*M*g*l*m*sin(z2) - J_G*g*l*m^2*sin(z2) - M*g*l^3*m^2*sin(z2) + 3*g*l^3*m^3*sin(z2)*cos(z2)^2 - g*l^3*m^3*sin(z2) + l*m*z3*z4*sin(z2))/(J_G*M + J_G*m + M*l^2*m + l^2*m^2*sin(z2)^2)"
      ]
     },
     "execution_count": 16,
     "metadata": {},
     "output_type": "execute_result"
    }
   ],
   "source": [
    "z1,z2,z3,z4, torque = symbols(\"z1,z2,z3,z4, torque\")\n",
    "rule1 = Dict( x=> z1, θ=>z2, p1=>z3, p2=>z4, τ=>torque)\n",
    "\n",
    "## previous error, now fixed:\n",
    "# by the definition of z, I need to be careful on the ordering:\n",
    "F = vcat( qdot, pdot ) |> subs(rule1)"
   ]
  },
  {
   "cell_type": "code",
   "execution_count": 17,
   "metadata": {
    "scrolled": true
   },
   "outputs": [
    {
     "name": "stdout",
     "output_type": "stream",
     "text": [
      "[(J_G.*z3 + l.^2.*m.*z3 - l.*m.*z4.*cos(z2))./(J_G.*M + J_G.*m + M.*l.^2.*m + l.^2.*m.^2.*sin(z2).^2); (M.*z4 - l.*m.*z3.*cos(z2) + m.*z4)./(J_G.*M + J_G.*m + M.*l.^2.*m + l.^2.*m.^2.*sin(z2).^2); f; 2*l.^2.*m.^2.*(J_G.*M.*g.*l.*m.*cos(z2) + J_G.*g.*l.*m.^2.*cos(z2) + J_G.*z3.^2/2 + M.*g.*l.^3.*m.^2.*cos(z2) + M.*z4.^2/2 - g.*l.^3.*m.^3.*cos(z2).^3 + g.*l.^3.*m.^3.*cos(z2) + l.^2.*m.*z3.^2/2 - l.*m.*z3.*z4.*cos(z2) + m.*z4.^2/2).*sin(z2).*cos(z2)./(J_G.*M + J_G.*m + M.*l.^2.*m + l.^2.*m.^2.*sin(z2).^2).^2 + torque - (-J_G.*M.*g.*l.*m.*sin(z2) - J_G.*g.*l.*m.^2.*sin(z2) - M.*g.*l.^3.*m.^2.*sin(z2) + 3*g.*l.^3.*m.^3.*sin(z2).*cos(z2).^2 - g.*l.^3.*m.^3.*sin(z2) + l.*m.*z3.*z4.*sin(z2))./(J_G.*M + J_G.*m + M.*l.^2.*m + l.^2.*m.^2.*sin(z2).^2)]\n"
     ]
    }
   ],
   "source": [
    "sympy_meth(:octave_code, F) |> println"
   ]
  },
  {
   "cell_type": "code",
   "execution_count": 18,
   "metadata": {},
   "outputs": [
    {
     "name": "stdout",
     "output_type": "stream",
     "text": [
      "(J_G.*M.*g.*l.*m.*cos(z2) + J_G.*g.*l.*m.^2.*cos(z2) + J_G.*z3.^2/2 + M.*g.*l.^3.*m.^2.*cos(z2) + M.*z4.^2/2 - g.*l.^3.*m.^3.*cos(z2).^3 + g.*l.^3.*m.^3.*cos(z2) + l.^2.*m.*z3.^2/2 - l.*m.*z3.*z4.*cos(z2) + m.*z4.^2/2)./(J_G.*M + J_G.*m + M.*l.^2.*m + l.^2.*m.^2.*sin(z2).^2)\n"
     ]
    }
   ],
   "source": [
    "sympy_meth(:octave_code, subs(H,rule1) ) |> println"
   ]
  },
  {
   "cell_type": "markdown",
   "metadata": {},
   "source": [
    "## Linearization"
   ]
  },
  {
   "cell_type": "code",
   "execution_count": 22,
   "metadata": {},
   "outputs": [
    {
     "data": {
      "text/latex": [
       "\\[\\left[ \\begin{array}{rrrr}0&0&\\frac{J_{G} + l^{2} m}{J_{G} M + J_{G} m + M l^{2} m}&- \\frac{l m}{J_{G} M + J_{G} m + M l^{2} m}\\\\0&0&- \\frac{l m}{J_{G} M + J_{G} m + M l^{2} m}&\\frac{M + m}{J_{G} M + J_{G} m + M l^{2} m}\\\\0&0&0&0\\\\0&\\frac{2 l^{2} m^{2} \\left(J_{G} M g l m + J_{G} g l m^{2} + M g l^{3} m^{2}\\right)}{\\left(J_{G} M + J_{G} m + M l^{2} m\\right)^{2}} - \\frac{- J_{G} M g l m - J_{G} g l m^{2} - M g l^{3} m^{2} + 2 g l^{3} m^{3}}{J_{G} M + J_{G} m + M l^{2} m}&0&0\\end{array}\\right]\\]"
      ],
      "text/plain": [
       "4×4 Array{Sym,2}:\n",
       " 0  …     -l*m/(J_G*M + J_G*m + M*l^2*m)\n",
       " 0     (M + m)/(J_G*M + J_G*m + M*l^2*m)\n",
       " 0                                     0\n",
       " 0                                     0"
      ]
     },
     "execution_count": 22,
     "metadata": {},
     "output_type": "execute_result"
    }
   ],
   "source": [
    "rule_equil = Dict(z1=>0, z2=>0, z3=>0, z4=>0)\n",
    "A = [ diff(f,z) for f in F, z in [z1,z2,z3,z4] ] |> subs(rule_equil)"
   ]
  },
  {
   "cell_type": "code",
   "execution_count": 25,
   "metadata": {},
   "outputs": [
    {
     "data": {
      "text/latex": [
       "\\[\\left[ \\begin{array}{rr}0&0\\\\0&0\\\\1&0\\\\0&1\\end{array}\\right]\\]"
      ],
      "text/plain": [
       "4×2 Array{Sym,2}:\n",
       " 0  0\n",
       " 0  0\n",
       " 1  0\n",
       " 0  1"
      ]
     },
     "execution_count": 25,
     "metadata": {},
     "output_type": "execute_result"
    }
   ],
   "source": [
    "B = [diff(f,u) for f in F, u in [f,torque]]"
   ]
  },
  {
   "cell_type": "code",
   "execution_count": 34,
   "metadata": {},
   "outputs": [
    {
     "data": {
      "text/latex": [
       "\\[\\left[ \\begin{array}{rrrrrrrr}0&0&\\frac{J_{G} + l^{2} m}{J_{G} M + J_{G} m + M l^{2} m}&- \\frac{l m}{J_{G} M + J_{G} m + M l^{2} m}&0&0&\\frac{g l^{3} m^{3}}{\\left(J_{G} M + J_{G} m + M l^{2} m\\right)^{2}}&- \\frac{g l^{2} m^{2} \\left(M + m\\right)}{\\left(J_{G} M + J_{G} m + M l^{2} m\\right)^{2}}\\\\0&0&- \\frac{l m}{J_{G} M + J_{G} m + M l^{2} m}&\\frac{M + m}{J_{G} M + J_{G} m + M l^{2} m}&0&0&- \\frac{g l^{2} m^{2} \\left(M + m\\right)}{\\left(J_{G} M + J_{G} m + M l^{2} m\\right)^{2}}&\\frac{g l m \\left(M + m\\right)^{2}}{\\left(J_{G} M + J_{G} m + M l^{2} m\\right)^{2}}\\\\1&0&0&0&0&0&0&0\\\\0&1&0&0&- \\frac{g l^{2} m^{2}}{J_{G} M + J_{G} m + M l^{2} m}&\\frac{g l m \\left(M + m\\right)}{J_{G} M + J_{G} m + M l^{2} m}&0&0\\end{array}\\right]\\]"
      ],
      "text/plain": [
       "4×8 Array{Sym,2}:\n",
       " 0  0  …  -g*l^2*m^2*(M + m)/(J_G*M + J_G*m + M*l^2*m)^2\n",
       " 0  0        g*l*m*(M + m)^2/(J_G*M + J_G*m + M*l^2*m)^2\n",
       " 1  0                                                  0\n",
       " 0  1                                                  0"
      ]
     },
     "execution_count": 34,
     "metadata": {},
     "output_type": "execute_result"
    }
   ],
   "source": [
    "CM = hcat(B, A*B, A^2*B, A^3*B)\n",
    "CM = [simplify(x) for x in CM ]"
   ]
  },
  {
   "cell_type": "code",
   "execution_count": 43,
   "metadata": {},
   "outputs": [
    {
     "data": {
      "text/latex": [
       "\\[\\left[ \\begin{array}{rrrrrrrr}1&0&0&0&0&0&0&0\\\\0&1&0&0&- \\frac{g l^{2} m^{2}}{J_{G} M + J_{G} m + M l^{2} m}&\\frac{g l m \\left(M + m\\right)}{J_{G} M + J_{G} m + M l^{2} m}&0&0\\\\0&0&1&0&0&0&0&0\\\\0&0&0&1&0&0&- \\frac{g l^{2} m^{2}}{J_{G} M + J_{G} m + M l^{2} m}&\\frac{g l m \\left(M + m\\right)}{J_{G} M + J_{G} m + M l^{2} m}\\end{array}\\right]\\]"
      ],
      "text/plain": [
       "4×8 Array{Sym,2}:\n",
       " 1  0  0  0  …                                        0\n",
       " 0  1  0  0                                           0\n",
       " 0  0  1  0                                           0\n",
       " 0  0  0  1     g*l*m*(M + m)/(J_G*M + J_G*m + M*l^2*m)"
      ]
     },
     "execution_count": 43,
     "metadata": {},
     "output_type": "execute_result"
    }
   ],
   "source": [
    "[simplify(a) for a in SymPy.rref(CM)[1] ]"
   ]
  },
  {
   "cell_type": "code",
   "execution_count": null,
   "metadata": {},
   "outputs": [],
   "source": []
  }
 ],
 "metadata": {
  "kernelspec": {
   "display_name": "Julia 1.1.0",
   "language": "julia",
   "name": "julia-1.1"
  },
  "language_info": {
   "file_extension": ".jl",
   "mimetype": "application/julia",
   "name": "julia",
   "version": "1.1.0"
  }
 },
 "nbformat": 4,
 "nbformat_minor": 2
}
