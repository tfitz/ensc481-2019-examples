{
 "cells": [
  {
   "cell_type": "markdown",
   "metadata": {},
   "source": [
    "# Example in Class\n",
    "started on 20-Mar-2019\n",
    "\n",
    "Example of deriving the equations of motion of an inverted pendulum on a cart using Hamilton's equations"
   ]
  },
  {
   "cell_type": "code",
   "execution_count": 1,
   "metadata": {},
   "outputs": [],
   "source": [
    "using Pkg\n",
    "Pkg.activate(\".\")\n",
    "\n",
    "# uncomment the next line the first time this sheet is run\n",
    "#Pkg.add(\"SymPy\")\n",
    "\n",
    "using SymPy"
   ]
  },
  {
   "cell_type": "code",
   "execution_count": 2,
   "metadata": {},
   "outputs": [
    {
     "data": {
      "text/plain": [
       "(m, M, g, L, J_G)"
      ]
     },
     "execution_count": 2,
     "metadata": {},
     "output_type": "execute_result"
    }
   ],
   "source": [
    "m,M,g,L,J= symbols(\"m,M,g,L,J_G\", positive=true)"
   ]
  },
  {
   "cell_type": "code",
   "execution_count": 3,
   "metadata": {},
   "outputs": [
    {
     "data": {
      "text/latex": [
       "\\begin{equation*}\\theta{\\left (t \\right )}\\end{equation*}"
      ],
      "text/plain": [
       "theta(t)"
      ]
     },
     "execution_count": 3,
     "metadata": {},
     "output_type": "execute_result"
    }
   ],
   "source": [
    "t,τ, f = symbols(\"t, tau, f\")\n",
    "x = SymFunction(\"x\")(t)\n",
    "θ = SymFunction(\"theta\")(t)"
   ]
  },
  {
   "cell_type": "code",
   "execution_count": 4,
   "metadata": {},
   "outputs": [
    {
     "data": {
      "text/plain": [
       "3-element Array{Int64,1}:\n",
       " 0\n",
       " 0\n",
       " 1"
      ]
     },
     "execution_count": 4,
     "metadata": {},
     "output_type": "execute_result"
    }
   ],
   "source": [
    "ihat= [1,0,0]\n",
    "jhat = [0,1,0]\n",
    "khat= [0,0,1]"
   ]
  },
  {
   "cell_type": "code",
   "execution_count": 5,
   "metadata": {},
   "outputs": [
    {
     "data": {
      "text/latex": [
       "\\[ \\left[ \\begin{array}{r}L \\sin{\\left (\\theta{\\left (t \\right )} \\right )} + x{\\left (t \\right )}\\\\L \\cos{\\left (\\theta{\\left (t \\right )} \\right )}\\\\0\\end{array} \\right] \\]"
      ],
      "text/plain": [
       "3-element Array{Sym,1}:\n",
       " L*sin(theta(t)) + x(t)\n",
       "        L*cos(theta(t))\n",
       "                      0"
      ]
     },
     "execution_count": 5,
     "metadata": {},
     "output_type": "execute_result"
    }
   ],
   "source": [
    "rG = x*ihat + L*(sin(θ)*ihat + cos(θ)*jhat )"
   ]
  },
  {
   "cell_type": "code",
   "execution_count": 6,
   "metadata": {},
   "outputs": [
    {
     "data": {
      "text/latex": [
       "\\begin{equation*}\\frac{J_{G} \\left(\\frac{d}{d t} \\theta{\\left (t \\right )}\\right)^{2}}{2} + \\frac{L^{2} m \\left(\\frac{d}{d t} \\theta{\\left (t \\right )}\\right)^{2}}{2} + L m \\cos{\\left (\\theta{\\left (t \\right )} \\right )} \\frac{d}{d t} \\theta{\\left (t \\right )} \\frac{d}{d t} x{\\left (t \\right )} + \\frac{M \\left(\\frac{d}{d t} x{\\left (t \\right )}\\right)^{2}}{2} + \\frac{m \\left(\\frac{d}{d t} x{\\left (t \\right )}\\right)^{2}}{2}\\end{equation*}"
      ],
      "text/plain": [
       "                  2                      2                                    \n",
       "    /d           \\     2   /d           \\                                     \n",
       "J_G*|--(theta(t))|    L *m*|--(theta(t))|                                     \n",
       "    \\dt          /         \\dt          /                      d            d \n",
       "------------------- + -------------------- + L*m*cos(theta(t))*--(theta(t))*--\n",
       "         2                     2                               dt           dt\n",
       "\n",
       "                     2               2\n",
       "           /d       \\      /d       \\ \n",
       "         M*|--(x(t))|    m*|--(x(t))| \n",
       "           \\dt      /      \\dt      / \n",
       "(x(t)) + ------------- + -------------\n",
       "               2               2      "
      ]
     },
     "execution_count": 6,
     "metadata": {},
     "output_type": "execute_result"
    }
   ],
   "source": [
    "T = 1//2*M*diff(x,t)^2 + 1//2*m*transpose(diff(rG,t))*diff(rG,t) + 1//2*J*diff(θ,t)^2 |> simplify"
   ]
  },
  {
   "cell_type": "code",
   "execution_count": 7,
   "metadata": {},
   "outputs": [
    {
     "data": {
      "text/latex": [
       "\\begin{equation*}L g m \\cos{\\left (\\theta{\\left (t \\right )} \\right )}\\end{equation*}"
      ],
      "text/plain": [
       "L*g*m*cos(theta(t))"
      ]
     },
     "execution_count": 7,
     "metadata": {},
     "output_type": "execute_result"
    }
   ],
   "source": [
    "V = m*g*rG[2]"
   ]
  },
  {
   "cell_type": "code",
   "execution_count": 8,
   "metadata": {},
   "outputs": [
    {
     "data": {
      "text/plain": [
       "(p1, p2)"
      ]
     },
     "execution_count": 8,
     "metadata": {},
     "output_type": "execute_result"
    }
   ],
   "source": [
    "p1,p2 = symbols(\"p1,p2\")"
   ]
  },
  {
   "cell_type": "code",
   "execution_count": 9,
   "metadata": {},
   "outputs": [
    {
     "data": {
      "text/latex": [
       "\\begin{equation*}\\frac{J_{G} \\left(\\frac{d}{d t} \\theta{\\left (t \\right )}\\right)^{2}}{2} + \\frac{L^{2} m \\left(\\frac{d}{d t} \\theta{\\left (t \\right )}\\right)^{2}}{2} - L g m \\cos{\\left (\\theta{\\left (t \\right )} \\right )} + L m \\cos{\\left (\\theta{\\left (t \\right )} \\right )} \\frac{d}{d t} \\theta{\\left (t \\right )} \\frac{d}{d t} x{\\left (t \\right )} + \\frac{M \\left(\\frac{d}{d t} x{\\left (t \\right )}\\right)^{2}}{2} + \\frac{m \\left(\\frac{d}{d t} x{\\left (t \\right )}\\right)^{2}}{2}\\end{equation*}"
      ],
      "text/plain": [
       "                  2                      2                                    \n",
       "    /d           \\     2   /d           \\                                     \n",
       "J_G*|--(theta(t))|    L *m*|--(theta(t))|                                     \n",
       "    \\dt          /         \\dt          /                                     \n",
       "------------------- + -------------------- - L*g*m*cos(theta(t)) + L*m*cos(the\n",
       "         2                     2                                              \n",
       "\n",
       "                                           2               2\n",
       "                                 /d       \\      /d       \\ \n",
       "                               M*|--(x(t))|    m*|--(x(t))| \n",
       "       d            d            \\dt      /      \\dt      / \n",
       "ta(t))*--(theta(t))*--(x(t)) + ------------- + -------------\n",
       "       dt           dt               2               2      "
      ]
     },
     "execution_count": 9,
     "metadata": {},
     "output_type": "execute_result"
    }
   ],
   "source": [
    "L = T-V"
   ]
  },
  {
   "cell_type": "code",
   "execution_count": 10,
   "metadata": {},
   "outputs": [
    {
     "data": {
      "text/latex": [
       "\\[ \\left[ \\begin{array}{r}p_{1} = L m \\cos{\\left (\\theta{\\left (t \\right )} \\right )} \\frac{d}{d t} \\theta{\\left (t \\right )} + M \\frac{d}{d t} x{\\left (t \\right )} + m \\frac{d}{d t} x{\\left (t \\right )}\\\\p_{2} = J_{G} \\frac{d}{d t} \\theta{\\left (t \\right )} + L^{2} m \\frac{d}{d t} \\theta{\\left (t \\right )} + L m \\cos{\\left (\\theta{\\left (t \\right )} \\right )} \\frac{d}{d t} x{\\left (t \\right )}\\end{array} \\right] \\]"
      ],
      "text/plain": [
       "2-element Array{Sym,1}:\n",
       "           Eq(p1, L*m*cos(theta(t))*Derivative(theta(t), t) + M*Derivative(x(t), t) + m*Derivative(x(t), t))\n",
       " Eq(p2, J_G*Derivative(theta(t), t) + L^2*m*Derivative(theta(t), t) + L*m*cos(theta(t))*Derivative(x(t), t))"
      ]
     },
     "execution_count": 10,
     "metadata": {},
     "output_type": "execute_result"
    }
   ],
   "source": [
    "eq1 = [Eq(p1, diff(L,diff(x,t))),\n",
    "    Eq(p2, diff(L,diff(θ,t))) ]"
   ]
  },
  {
   "cell_type": "code",
   "execution_count": 11,
   "metadata": {},
   "outputs": [
    {
     "data": {
      "text/latex": [
       "\\begin{equation*}\\begin{cases}\\frac{d}{d t} x{\\left (t \\right )} & \\text{=>} &\\frac{L m p_{2} \\cos{\\left (\\theta{\\left (t \\right )} \\right )} - p_{1} \\left(J_{G} + L^{2} m\\right)}{L^{2} m^{2} \\cos^{2}{\\left (\\theta{\\left (t \\right )} \\right )} - \\left(J_{G} + L^{2} m\\right) \\left(M + m\\right)}\\\\\\frac{d}{d t} \\theta{\\left (t \\right )} & \\text{=>} &\\frac{L m p_{1} \\cos{\\left (\\theta{\\left (t \\right )} \\right )} - p_{2} \\left(M + m\\right)}{L^{2} m^{2} \\cos^{2}{\\left (\\theta{\\left (t \\right )} \\right )} - \\left(J_{G} + L^{2} m\\right) \\left(M + m\\right)}\\\\\\end{cases}\\end{equation*}"
      ],
      "text/plain": [
       "Dict{Sym,Sym} with 2 entries:\n",
       "  Derivative(x(t), t)     => (L*m*p2*cos(theta(t)) - p1*(J_G + L^2*m))/(L^2*m^2…\n",
       "  Derivative(theta(t), t) => (L*m*p1*cos(theta(t)) - p2*(M + m))/(L^2*m^2*cos(t…"
      ]
     },
     "execution_count": 11,
     "metadata": {},
     "output_type": "execute_result"
    }
   ],
   "source": [
    "solve(eq1, diff([x,θ], t) )"
   ]
  },
  {
   "cell_type": "markdown",
   "metadata": {},
   "source": [
    "Example ended here in class, next class we will finish this up"
   ]
  },
  {
   "cell_type": "code",
   "execution_count": null,
   "metadata": {},
   "outputs": [],
   "source": []
  }
 ],
 "metadata": {
  "kernelspec": {
   "display_name": "Julia 1.1.0",
   "language": "julia",
   "name": "julia-1.1"
  },
  "language_info": {
   "file_extension": ".jl",
   "mimetype": "application/julia",
   "name": "julia",
   "version": "1.1.0"
  }
 },
 "nbformat": 4,
 "nbformat_minor": 2
}
