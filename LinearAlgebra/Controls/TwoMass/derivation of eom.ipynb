{
 "cells": [
  {
   "cell_type": "code",
   "execution_count": 3,
   "metadata": {},
   "outputs": [],
   "source": [
    "using Pkg\n",
    "Pkg.activate(\".\")\n",
    "using SymPy"
   ]
  },
  {
   "cell_type": "code",
   "execution_count": 9,
   "metadata": {},
   "outputs": [],
   "source": [
    "k1,k2,c1,c2,m1,m2 = symbols(\"k1,k2,c1,c2,m1,m2\", positive=true)\n",
    "t,f2 = symbols(\"t,f2\")\n",
    "x1 = SymFunction(\"x_1\")(t)\n",
    "x2 = SymFunction(\"x_2\")(t)\n",
    ";"
   ]
  },
  {
   "cell_type": "code",
   "execution_count": 8,
   "metadata": {},
   "outputs": [
    {
     "data": {
      "text/latex": [
       "\\begin{equation*}- c_{1} \\frac{d}{d t} \\operatorname{x_{1}}{\\left (t \\right )} + c_{2} \\left(- \\frac{d}{d t} \\operatorname{x_{1}}{\\left (t \\right )} + \\frac{d}{d t} \\operatorname{x_{2}}{\\left (t \\right )}\\right) - k_{1} \\operatorname{x_{1}}{\\left (t \\right )} + k_{2} \\left(- \\operatorname{x_{1}}{\\left (t \\right )} + \\operatorname{x_{2}}{\\left (t \\right )}\\right) = m_{1} \\frac{d^{2}}{d t^{2}} \\operatorname{x_{1}}{\\left (t \\right )}\\end{equation*}"
      ],
      "text/plain": [
       "                                                                              \n",
       "     d               /  d            d         \\                              \n",
       "- c1*--(x_1(t)) + c2*|- --(x_1(t)) + --(x_2(t))| - k1*x_1(t) + k2*(-x_1(t) + x\n",
       "     dt              \\  dt           dt        /                              \n",
       "                                                                              \n",
       "\n",
       "              2        \n",
       "             d         \n",
       "_2(t)) = m1*---(x_1(t))\n",
       "              2        \n",
       "            dt         "
      ]
     },
     "execution_count": 8,
     "metadata": {},
     "output_type": "execute_result"
    }
   ],
   "source": [
    "eom1 = Eq( -k1*x1 - c1*diff(x1,t) + k2*(x2-x1) + c2*(diff(x2,t) - diff(x1,t)) , m1*diff(x1,t,t))"
   ]
  },
  {
   "cell_type": "code",
   "execution_count": 10,
   "metadata": {},
   "outputs": [
    {
     "data": {
      "text/latex": [
       "\\begin{equation*}- c_{2} \\left(- \\frac{d}{d t} \\operatorname{x_{1}}{\\left (t \\right )} + \\frac{d}{d t} \\operatorname{x_{2}}{\\left (t \\right )}\\right) + f_{2} - k_{2} \\left(- \\operatorname{x_{1}}{\\left (t \\right )} + \\operatorname{x_{2}}{\\left (t \\right )}\\right) = m_{2} \\frac{d^{2}}{d t^{2}} \\operatorname{x_{2}}{\\left (t \\right )}\\end{equation*}"
      ],
      "text/plain": [
       "                                                                     2        \n",
       "     /  d            d         \\                                    d         \n",
       "- c2*|- --(x_1(t)) + --(x_2(t))| + f2 - k2*(-x_1(t) + x_2(t)) = m2*---(x_2(t))\n",
       "     \\  dt           dt        /                                     2        \n",
       "                                                                   dt         "
      ]
     },
     "execution_count": 10,
     "metadata": {},
     "output_type": "execute_result"
    }
   ],
   "source": [
    "eom2 = Eq( - k2*(x2-x1) - c2*(diff(x2,t) - diff(x1,t)) + f2 , m2*diff(x2,t,t) )"
   ]
  },
  {
   "cell_type": "code",
   "execution_count": 12,
   "metadata": {},
   "outputs": [
    {
     "data": {
      "text/latex": [
       "\\begin{equation*}\\begin{cases}\\frac{d^{2}}{d t^{2}} \\operatorname{x_{1}}{\\left (t \\right )} & \\text{=>} &\\frac{- c_{1} \\frac{d}{d t} \\operatorname{x_{1}}{\\left (t \\right )} - c_{2} \\frac{d}{d t} \\operatorname{x_{1}}{\\left (t \\right )} + c_{2} \\frac{d}{d t} \\operatorname{x_{2}}{\\left (t \\right )} - k_{1} \\operatorname{x_{1}}{\\left (t \\right )} - k_{2} \\operatorname{x_{1}}{\\left (t \\right )} + k_{2} \\operatorname{x_{2}}{\\left (t \\right )}}{m_{1}}\\\\\\frac{d^{2}}{d t^{2}} \\operatorname{x_{2}}{\\left (t \\right )} & \\text{=>} &\\frac{c_{2} \\frac{d}{d t} \\operatorname{x_{1}}{\\left (t \\right )} - c_{2} \\frac{d}{d t} \\operatorname{x_{2}}{\\left (t \\right )} + f_{2} + k_{2} \\operatorname{x_{1}}{\\left (t \\right )} - k_{2} \\operatorname{x_{2}}{\\left (t \\right )}}{m_{2}}\\\\\\end{cases}\\end{equation*}"
      ],
      "text/plain": [
       "Dict{Sym,Sym} with 2 entries:\n",
       "  Derivative(x_1(t), (t, 2)) => (-c1*Derivative(x_1(t), t) - c2*Derivative(x_1(…\n",
       "  Derivative(x_2(t), (t, 2)) => (c2*Derivative(x_1(t), t) - c2*Derivative(x_2(t…"
      ]
     },
     "execution_count": 12,
     "metadata": {},
     "output_type": "execute_result"
    }
   ],
   "source": [
    "sol = solve([eom1, eom2], [diff(x1,t,t), diff(x2,t,t)] )"
   ]
  },
  {
   "cell_type": "code",
   "execution_count": 24,
   "metadata": {},
   "outputs": [],
   "source": [
    "z1,z2,z3,z4 = symbols(\"z1,z2,z3,z4\")\n",
    ";"
   ]
  },
  {
   "cell_type": "code",
   "execution_count": 29,
   "metadata": {},
   "outputs": [
    {
     "data": {
      "text/latex": [
       "\\begin{equation*}\\begin{cases}\\frac{d}{d t} \\operatorname{x_{2}}{\\left (t \\right )} & \\text{=>} &z_{4}\\\\\\frac{d}{d t} \\operatorname{x_{1}}{\\left (t \\right )} & \\text{=>} &z_{3}\\\\\\end{cases}\\end{equation*}"
      ],
      "text/plain": [
       "Dict{Sym,Sym} with 2 entries:\n",
       "  Derivative(x_2(t), t) => z4\n",
       "  Derivative(x_1(t), t) => z3"
      ]
     },
     "execution_count": 29,
     "metadata": {},
     "output_type": "execute_result"
    }
   ],
   "source": [
    "rule1 = Dict( x1=>z1, x2=>z2 )\n",
    "rule2 = Dict( diff(x1,t)=>z3, diff(x2,t)=>z4)"
   ]
  },
  {
   "cell_type": "code",
   "execution_count": 34,
   "metadata": {},
   "outputs": [
    {
     "data": {
      "text/latex": [
       "\\[ \\left[ \\begin{array}{r}z_{3}\\\\z_{4}\\\\\\frac{- c_{1} z_{3} - c_{2} z_{3} + c_{2} z_{4} - k_{1} z_{1} - k_{2} z_{1} + k_{2} z_{2}}{m_{1}}\\\\\\frac{c_{2} z_{3} - c_{2} z_{4} + f_{2} + k_{2} z_{1} - k_{2} z_{2}}{m_{2}}\\end{array} \\right] \\]"
      ],
      "text/plain": [
       "4-element Array{Sym,1}:\n",
       "                                                  z3\n",
       "                                                  z4\n",
       " (-c1*z3 - c2*z3 + c2*z4 - k1*z1 - k2*z1 + k2*z2)/m1\n",
       "             (c2*z3 - c2*z4 + f2 + k2*z1 - k2*z2)/m2"
      ]
     },
     "execution_count": 34,
     "metadata": {},
     "output_type": "execute_result"
    }
   ],
   "source": [
    "F = [diff(x1,t), diff(x2,t), sol[diff(x1,t,t)], sol[diff(x2,t,t)] ] |> subs(rule2) |> subs(rule1)"
   ]
  },
  {
   "cell_type": "code",
   "execution_count": 35,
   "metadata": {},
   "outputs": [
    {
     "data": {
      "text/plain": [
       "3-element Array{Int64,1}:\n",
       " 1\n",
       " 2\n",
       " 3"
      ]
     },
     "execution_count": 35,
     "metadata": {},
     "output_type": "execute_result"
    }
   ],
   "source": [
    "[ i for i in 1:3 ] # List Comprehension"
   ]
  },
  {
   "cell_type": "code",
   "execution_count": 37,
   "metadata": {},
   "outputs": [
    {
     "data": {
      "text/latex": [
       "\\[\\left[ \\begin{array}{rrrr}0&0&1&0\\\\0&0&0&1\\\\\\frac{- k_{1} - k_{2}}{m_{1}}&\\frac{k_{2}}{m_{1}}&\\frac{- c_{1} - c_{2}}{m_{1}}&\\frac{c_{2}}{m_{1}}\\\\\\frac{k_{2}}{m_{2}}&- \\frac{k_{2}}{m_{2}}&\\frac{c_{2}}{m_{2}}&- \\frac{c_{2}}{m_{2}}\\end{array}\\right]\\]"
      ],
      "text/plain": [
       "4×4 Array{Sym,2}:\n",
       "             0       0              1       0\n",
       "             0       0              0       1\n",
       " (-k1 - k2)/m1   k2/m1  (-c1 - c2)/m1   c2/m1\n",
       "         k2/m2  -k2/m2          c2/m2  -c2/m2"
      ]
     },
     "execution_count": 37,
     "metadata": {},
     "output_type": "execute_result"
    }
   ],
   "source": [
    "A = [ diff(f,z) for f in F, z in [z1,z2,z3,z4] ]"
   ]
  },
  {
   "cell_type": "code",
   "execution_count": 38,
   "metadata": {},
   "outputs": [
    {
     "data": {
      "text/latex": [
       "\\[ \\left[ \\begin{array}{r}0\\\\0\\\\0\\\\\\frac{1}{m_{2}}\\end{array} \\right] \\]"
      ],
      "text/plain": [
       "4-element Array{Sym,1}:\n",
       "    0\n",
       "    0\n",
       "    0\n",
       " 1/m2"
      ]
     },
     "execution_count": 38,
     "metadata": {},
     "output_type": "execute_result"
    }
   ],
   "source": [
    "B = [ diff(f,f2) for f in F ]"
   ]
  },
  {
   "cell_type": "code",
   "execution_count": 40,
   "metadata": {},
   "outputs": [
    {
     "data": {
      "text/plain": [
       "1×4 Array{Int64,2}:\n",
       " 0  1  0  0"
      ]
     },
     "execution_count": 40,
     "metadata": {},
     "output_type": "execute_result"
    }
   ],
   "source": [
    "CC = [ 0 1 0 0]"
   ]
  },
  {
   "cell_type": "markdown",
   "metadata": {},
   "source": [
    "Let's export this to Matlab"
   ]
  },
  {
   "cell_type": "code",
   "execution_count": 42,
   "metadata": {},
   "outputs": [
    {
     "name": "stdout",
     "output_type": "stream",
     "text": [
      "[0 0 1 0; 0 0 0 1; (-k1 - k2)./m1 k2./m1 (-c1 - c2)./m1 c2./m1; k2./m2 -k2./m2 c2./m2 -c2./m2]\n"
     ]
    }
   ],
   "source": [
    "sympy_meth( :octave_code, A) |> println"
   ]
  },
  {
   "cell_type": "code",
   "execution_count": 43,
   "metadata": {},
   "outputs": [
    {
     "name": "stdout",
     "output_type": "stream",
     "text": [
      "[0; 0; 0; 1./m2]\n"
     ]
    }
   ],
   "source": [
    "sympy_meth( :octave_code, B) |> println"
   ]
  },
  {
   "cell_type": "code",
   "execution_count": null,
   "metadata": {},
   "outputs": [],
   "source": []
  }
 ],
 "metadata": {
  "kernelspec": {
   "display_name": "Julia 1.0.1",
   "language": "julia",
   "name": "julia-1.0"
  },
  "language_info": {
   "file_extension": ".jl",
   "mimetype": "application/julia",
   "name": "julia",
   "version": "1.0.1"
  }
 },
 "nbformat": 4,
 "nbformat_minor": 2
}
