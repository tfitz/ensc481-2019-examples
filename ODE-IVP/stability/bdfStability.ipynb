{
 "cells": [
  {
   "cell_type": "markdown",
   "metadata": {},
   "source": [
    "# BDF2 Stability"
   ]
  },
  {
   "cell_type": "code",
   "execution_count": 1,
   "metadata": {},
   "outputs": [],
   "source": [
    "using Pkg\n",
    "Pkg.activate(\".\")\n",
    "using SymPy\n",
    "using Plots\n",
    "gr();\n",
    "using LaTeXStrings"
   ]
  },
  {
   "cell_type": "markdown",
   "metadata": {},
   "source": [
    "Define the sequence"
   ]
  },
  {
   "cell_type": "code",
   "execution_count": 2,
   "metadata": {},
   "outputs": [],
   "source": [
    "x0 = symbols(\"x_0\")\n",
    "z, σ = symbols(\"z, sigma\")\n",
    "n = symbols(\"n\", integer=true, positive=true)\n",
    "θ = symbols(\"theta\", real=true)\n",
    "zx,zy = symbols(\"z_x, z_y\", real=true)\n",
    ";"
   ]
  },
  {
   "cell_type": "code",
   "execution_count": 3,
   "metadata": {},
   "outputs": [
    {
     "data": {
      "text/plain": [
       "F (generic function with 1 method)"
      ]
     },
     "execution_count": 3,
     "metadata": {},
     "output_type": "execute_result"
    }
   ],
   "source": [
    "X(n) = σ^n\n",
    "F(n) = z*X(n)"
   ]
  },
  {
   "cell_type": "code",
   "execution_count": 4,
   "metadata": {},
   "outputs": [
    {
     "data": {
      "text/latex": [
       "\\begin{equation*}- \\frac{4 \\sigma^{n}}{3} + \\frac{\\sigma^{n - 1}}{3} - \\frac{2 \\sigma^{n + 1} z}{3} + \\sigma^{n + 1}\\end{equation*}"
      ],
      "text/plain": [
       "         n        n - 1          n + 1               \n",
       "  4*sigma    sigma        2*sigma     *z        n + 1\n",
       "- -------- + ---------- - -------------- + sigma     \n",
       "     3           3              3                    "
      ]
     },
     "execution_count": 4,
     "metadata": {},
     "output_type": "execute_result"
    }
   ],
   "source": [
    "meth0 = X(n+1) - 4//3 * X(n) + 1//3*X(n-1) - 2//3*F(n+1)\n",
    "# meth0 = X(n+1) - 360//147 * X(n) + 450//147*X(n-1) - 400//147*X(n-2) + 225//147*X(n-3) - 72//147*X(n-4) + 10//147*X(n-4) - 60//147*F(n+1)"
   ]
  },
  {
   "cell_type": "code",
   "execution_count": 5,
   "metadata": {},
   "outputs": [
    {
     "data": {
      "text/latex": [
       "\\begin{equation*}- \\frac{2 \\sigma^{2} z}{3} + \\sigma^{2} - \\frac{4 \\sigma}{3} + \\frac{1}{3}\\end{equation*}"
      ],
      "text/plain": [
       "         2                         \n",
       "  2*sigma *z        2   4*sigma   1\n",
       "- ---------- + sigma  - ------- + -\n",
       "      3                    3      3"
      ]
     },
     "execution_count": 5,
     "metadata": {},
     "output_type": "execute_result"
    }
   ],
   "source": [
    "eq1 = meth0/σ^(n-1) |> simplify"
   ]
  },
  {
   "cell_type": "code",
   "execution_count": 6,
   "metadata": {},
   "outputs": [
    {
     "data": {
      "text/latex": [
       "\\begin{equation*}- \\frac{2 \\left(z_{x} + i z_{y}\\right) \\left(i \\sin{\\left (\\theta \\right )} + \\cos{\\left (\\theta \\right )}\\right)^{2}}{3} + \\left(i \\sin{\\left (\\theta \\right )} + \\cos{\\left (\\theta \\right )}\\right)^{2} - \\frac{4 i \\sin{\\left (\\theta \\right )}}{3} - \\frac{4 \\cos{\\left (\\theta \\right )}}{3} + \\frac{1}{3}\\end{equation*}"
      ],
      "text/plain": [
       "                                             2                                \n",
       "  2*(z_x + I*z_y)*(I*sin(theta) + cos(theta))                               2 \n",
       "- -------------------------------------------- + (I*sin(theta) + cos(theta))  \n",
       "                       3                                                      \n",
       "\n",
       "                                   \n",
       "  4*I*sin(theta)   4*cos(theta)   1\n",
       "- -------------- - ------------ + -\n",
       "        3               3         3"
      ]
     },
     "execution_count": 6,
     "metadata": {},
     "output_type": "execute_result"
    }
   ],
   "source": [
    "eq2 = eq1 |> subs( z=> zx + 1im*zy, σ => cos(θ) + 1im*sin(θ) )"
   ]
  },
  {
   "cell_type": "code",
   "execution_count": 7,
   "metadata": {},
   "outputs": [
    {
     "data": {
      "text/latex": [
       "\\[ \\left[ \\begin{array}{r}z_{x} \\left(\\frac{2 \\sin^{2}{\\left (\\theta \\right )}}{3} - \\frac{2 \\cos^{2}{\\left (\\theta \\right )}}{3}\\right) + \\frac{4 z_{y} \\sin{\\left (\\theta \\right )} \\cos{\\left (\\theta \\right )}}{3} - \\sin^{2}{\\left (\\theta \\right )} + \\cos^{2}{\\left (\\theta \\right )} - \\frac{4 \\cos{\\left (\\theta \\right )}}{3} + \\frac{1}{3}\\\\- \\frac{4 z_{x} \\sin{\\left (\\theta \\right )} \\cos{\\left (\\theta \\right )}}{3} + z_{y} \\left(\\frac{2 \\sin^{2}{\\left (\\theta \\right )}}{3} - \\frac{2 \\cos^{2}{\\left (\\theta \\right )}}{3}\\right) + 2 \\sin{\\left (\\theta \\right )} \\cos{\\left (\\theta \\right )} - \\frac{4 \\sin{\\left (\\theta \\right )}}{3}\\end{array} \\right] \\]"
      ],
      "text/plain": [
       "2-element Array{Sym,1}:\n",
       " z_x*(2*sin(theta)^2/3 - 2*cos(theta)^2/3) + 4*z_y*sin(theta)*cos(theta)/3 - sin(theta)^2 + cos(theta)^2 - 4*cos(theta)/3 + 1/3\n",
       "          -4*z_x*sin(theta)*cos(theta)/3 + z_y*(2*sin(theta)^2/3 - 2*cos(theta)^2/3) + 2*sin(theta)*cos(theta) - 4*sin(theta)/3"
      ]
     },
     "execution_count": 7,
     "metadata": {},
     "output_type": "execute_result"
    }
   ],
   "source": [
    "eq3 = [ real(eq2), imag(eq2) ]"
   ]
  },
  {
   "cell_type": "code",
   "execution_count": 8,
   "metadata": {},
   "outputs": [
    {
     "data": {
      "text/plain": [
       "Dict{Any,Any} with 2 entries:\n",
       "  z_y => (-cos(theta) + 2)*sin(theta)\n",
       "  z_x => cos(theta)^2 - 2*cos(theta) + 1"
      ]
     },
     "execution_count": 8,
     "metadata": {},
     "output_type": "execute_result"
    }
   ],
   "source": [
    "sol = solve(eq3, [zx, zy] )"
   ]
  },
  {
   "cell_type": "code",
   "execution_count": 9,
   "metadata": {},
   "outputs": [],
   "source": [
    "Zx(t) = lambdify(sol[zx])(t)\n",
    "Zy(t) = lambdify(sol[zy])(t)\n",
    ";"
   ]
  },
  {
   "cell_type": "code",
   "execution_count": 10,
   "metadata": {},
   "outputs": [
    {
     "data": {
      "image/svg+xml": [
       "<?xml version=\"1.0\" encoding=\"utf-8\"?>\n",
       "<svg xmlns=\"http://www.w3.org/2000/svg\" xmlns:xlink=\"http://www.w3.org/1999/xlink\" width=\"600\" height=\"400\" viewBox=\"0 0 2400 1600\">\n",
       "<defs>\n",
       "  <clipPath id=\"clip0500\">\n",
       "    <rect x=\"0\" y=\"0\" width=\"2400\" height=\"1600\"/>\n",
       "  </clipPath>\n",
       "</defs>\n",
       "<polygon clip-path=\"url(#clip0500)\" points=\"\n",
       "0,1600 2400,1600 2400,0 0,0 \n",
       "  \" fill=\"#ffffff\" fill-rule=\"evenodd\" fill-opacity=\"1\"/>\n",
       "<defs>\n",
       "  <clipPath id=\"clip0501\">\n",
       "    <rect x=\"480\" y=\"0\" width=\"1681\" height=\"1600\"/>\n",
       "  </clipPath>\n",
       "</defs>\n",
       "<polygon clip-path=\"url(#clip0500)\" points=\"\n",
       "454.084,1440.48 2079.53,1440.48 2079.53,47.2441 454.084,47.2441 \n",
       "  \" fill=\"#99d2ff\" fill-rule=\"evenodd\" fill-opacity=\"0.8\"/>\n",
       "<defs>\n",
       "  <clipPath id=\"clip0502\">\n",
       "    <rect x=\"454\" y=\"47\" width=\"1626\" height=\"1394\"/>\n",
       "  </clipPath>\n",
       "</defs>\n",
       "<polyline clip-path=\"url(#clip0502)\" style=\"stroke:#000000; stroke-width:2; stroke-opacity:0.1; fill:none\" points=\"\n",
       "  454.084,1440.48 454.084,47.2441 \n",
       "  \"/>\n",
       "<polyline clip-path=\"url(#clip0502)\" style=\"stroke:#000000; stroke-width:2; stroke-opacity:0.1; fill:none\" points=\"\n",
       "  686.29,1440.48 686.29,47.2441 \n",
       "  \"/>\n",
       "<polyline clip-path=\"url(#clip0502)\" style=\"stroke:#000000; stroke-width:2; stroke-opacity:0.1; fill:none\" points=\"\n",
       "  918.497,1440.48 918.497,47.2441 \n",
       "  \"/>\n",
       "<polyline clip-path=\"url(#clip0502)\" style=\"stroke:#000000; stroke-width:2; stroke-opacity:0.1; fill:none\" points=\"\n",
       "  1150.7,1440.48 1150.7,47.2441 \n",
       "  \"/>\n",
       "<polyline clip-path=\"url(#clip0502)\" style=\"stroke:#000000; stroke-width:2; stroke-opacity:0.1; fill:none\" points=\"\n",
       "  1382.91,1440.48 1382.91,47.2441 \n",
       "  \"/>\n",
       "<polyline clip-path=\"url(#clip0502)\" style=\"stroke:#000000; stroke-width:2; stroke-opacity:0.1; fill:none\" points=\"\n",
       "  1615.12,1440.48 1615.12,47.2441 \n",
       "  \"/>\n",
       "<polyline clip-path=\"url(#clip0502)\" style=\"stroke:#000000; stroke-width:2; stroke-opacity:0.1; fill:none\" points=\"\n",
       "  1847.32,1440.48 1847.32,47.2441 \n",
       "  \"/>\n",
       "<polyline clip-path=\"url(#clip0502)\" style=\"stroke:#000000; stroke-width:2; stroke-opacity:0.1; fill:none\" points=\"\n",
       "  2079.53,1440.48 2079.53,47.2441 \n",
       "  \"/>\n",
       "<polyline clip-path=\"url(#clip0502)\" style=\"stroke:#000000; stroke-width:2; stroke-opacity:0.1; fill:none\" points=\"\n",
       "  454.084,1440.48 2079.53,1440.48 \n",
       "  \"/>\n",
       "<polyline clip-path=\"url(#clip0502)\" style=\"stroke:#000000; stroke-width:2; stroke-opacity:0.1; fill:none\" points=\"\n",
       "  454.084,1208.28 2079.53,1208.28 \n",
       "  \"/>\n",
       "<polyline clip-path=\"url(#clip0502)\" style=\"stroke:#000000; stroke-width:2; stroke-opacity:0.1; fill:none\" points=\"\n",
       "  454.084,976.07 2079.53,976.07 \n",
       "  \"/>\n",
       "<polyline clip-path=\"url(#clip0502)\" style=\"stroke:#000000; stroke-width:2; stroke-opacity:0.1; fill:none\" points=\"\n",
       "  454.084,743.863 2079.53,743.863 \n",
       "  \"/>\n",
       "<polyline clip-path=\"url(#clip0502)\" style=\"stroke:#000000; stroke-width:2; stroke-opacity:0.1; fill:none\" points=\"\n",
       "  454.084,511.657 2079.53,511.657 \n",
       "  \"/>\n",
       "<polyline clip-path=\"url(#clip0502)\" style=\"stroke:#000000; stroke-width:2; stroke-opacity:0.1; fill:none\" points=\"\n",
       "  454.084,279.451 2079.53,279.451 \n",
       "  \"/>\n",
       "<polyline clip-path=\"url(#clip0502)\" style=\"stroke:#000000; stroke-width:2; stroke-opacity:0.1; fill:none\" points=\"\n",
       "  454.084,47.2441 2079.53,47.2441 \n",
       "  \"/>\n",
       "<polyline clip-path=\"url(#clip0500)\" style=\"stroke:#000000; stroke-width:4; stroke-opacity:1; fill:none\" points=\"\n",
       "  454.084,1440.48 2079.53,1440.48 \n",
       "  \"/>\n",
       "<polyline clip-path=\"url(#clip0500)\" style=\"stroke:#000000; stroke-width:4; stroke-opacity:1; fill:none\" points=\"\n",
       "  454.084,1440.48 454.084,47.2441 \n",
       "  \"/>\n",
       "<polyline clip-path=\"url(#clip0500)\" style=\"stroke:#000000; stroke-width:4; stroke-opacity:1; fill:none\" points=\"\n",
       "  454.084,1440.48 454.084,1419.58 \n",
       "  \"/>\n",
       "<polyline clip-path=\"url(#clip0500)\" style=\"stroke:#000000; stroke-width:4; stroke-opacity:1; fill:none\" points=\"\n",
       "  686.29,1440.48 686.29,1419.58 \n",
       "  \"/>\n",
       "<polyline clip-path=\"url(#clip0500)\" style=\"stroke:#000000; stroke-width:4; stroke-opacity:1; fill:none\" points=\"\n",
       "  918.497,1440.48 918.497,1419.58 \n",
       "  \"/>\n",
       "<polyline clip-path=\"url(#clip0500)\" style=\"stroke:#000000; stroke-width:4; stroke-opacity:1; fill:none\" points=\"\n",
       "  1150.7,1440.48 1150.7,1419.58 \n",
       "  \"/>\n",
       "<polyline clip-path=\"url(#clip0500)\" style=\"stroke:#000000; stroke-width:4; stroke-opacity:1; fill:none\" points=\"\n",
       "  1382.91,1440.48 1382.91,1419.58 \n",
       "  \"/>\n",
       "<polyline clip-path=\"url(#clip0500)\" style=\"stroke:#000000; stroke-width:4; stroke-opacity:1; fill:none\" points=\"\n",
       "  1615.12,1440.48 1615.12,1419.58 \n",
       "  \"/>\n",
       "<polyline clip-path=\"url(#clip0500)\" style=\"stroke:#000000; stroke-width:4; stroke-opacity:1; fill:none\" points=\"\n",
       "  1847.32,1440.48 1847.32,1419.58 \n",
       "  \"/>\n",
       "<polyline clip-path=\"url(#clip0500)\" style=\"stroke:#000000; stroke-width:4; stroke-opacity:1; fill:none\" points=\"\n",
       "  2079.53,1440.48 2079.53,1419.58 \n",
       "  \"/>\n",
       "<polyline clip-path=\"url(#clip0500)\" style=\"stroke:#000000; stroke-width:4; stroke-opacity:1; fill:none\" points=\"\n",
       "  454.084,1440.48 478.466,1440.48 \n",
       "  \"/>\n",
       "<polyline clip-path=\"url(#clip0500)\" style=\"stroke:#000000; stroke-width:4; stroke-opacity:1; fill:none\" points=\"\n",
       "  454.084,1208.28 478.466,1208.28 \n",
       "  \"/>\n",
       "<polyline clip-path=\"url(#clip0500)\" style=\"stroke:#000000; stroke-width:4; stroke-opacity:1; fill:none\" points=\"\n",
       "  454.084,976.07 478.466,976.07 \n",
       "  \"/>\n",
       "<polyline clip-path=\"url(#clip0500)\" style=\"stroke:#000000; stroke-width:4; stroke-opacity:1; fill:none\" points=\"\n",
       "  454.084,743.863 478.466,743.863 \n",
       "  \"/>\n",
       "<polyline clip-path=\"url(#clip0500)\" style=\"stroke:#000000; stroke-width:4; stroke-opacity:1; fill:none\" points=\"\n",
       "  454.084,511.657 478.466,511.657 \n",
       "  \"/>\n",
       "<polyline clip-path=\"url(#clip0500)\" style=\"stroke:#000000; stroke-width:4; stroke-opacity:1; fill:none\" points=\"\n",
       "  454.084,279.451 478.466,279.451 \n",
       "  \"/>\n",
       "<polyline clip-path=\"url(#clip0500)\" style=\"stroke:#000000; stroke-width:4; stroke-opacity:1; fill:none\" points=\"\n",
       "  454.084,47.2441 478.466,47.2441 \n",
       "  \"/>\n",
       "<g clip-path=\"url(#clip0500)\">\n",
       "<text style=\"fill:#000000; fill-opacity:1; font-family:Arial,Helvetica Neue,Helvetica,sans-serif; font-size:48px; text-anchor:middle;\" transform=\"rotate(0, 454.084, 1494.48)\" x=\"454.084\" y=\"1494.48\">-2</text>\n",
       "</g>\n",
       "<g clip-path=\"url(#clip0500)\">\n",
       "<text style=\"fill:#000000; fill-opacity:1; font-family:Arial,Helvetica Neue,Helvetica,sans-serif; font-size:48px; text-anchor:middle;\" transform=\"rotate(0, 686.29, 1494.48)\" x=\"686.29\" y=\"1494.48\">-1</text>\n",
       "</g>\n",
       "<g clip-path=\"url(#clip0500)\">\n",
       "<text style=\"fill:#000000; fill-opacity:1; font-family:Arial,Helvetica Neue,Helvetica,sans-serif; font-size:48px; text-anchor:middle;\" transform=\"rotate(0, 918.497, 1494.48)\" x=\"918.497\" y=\"1494.48\">0</text>\n",
       "</g>\n",
       "<g clip-path=\"url(#clip0500)\">\n",
       "<text style=\"fill:#000000; fill-opacity:1; font-family:Arial,Helvetica Neue,Helvetica,sans-serif; font-size:48px; text-anchor:middle;\" transform=\"rotate(0, 1150.7, 1494.48)\" x=\"1150.7\" y=\"1494.48\">1</text>\n",
       "</g>\n",
       "<g clip-path=\"url(#clip0500)\">\n",
       "<text style=\"fill:#000000; fill-opacity:1; font-family:Arial,Helvetica Neue,Helvetica,sans-serif; font-size:48px; text-anchor:middle;\" transform=\"rotate(0, 1382.91, 1494.48)\" x=\"1382.91\" y=\"1494.48\">2</text>\n",
       "</g>\n",
       "<g clip-path=\"url(#clip0500)\">\n",
       "<text style=\"fill:#000000; fill-opacity:1; font-family:Arial,Helvetica Neue,Helvetica,sans-serif; font-size:48px; text-anchor:middle;\" transform=\"rotate(0, 1615.12, 1494.48)\" x=\"1615.12\" y=\"1494.48\">3</text>\n",
       "</g>\n",
       "<g clip-path=\"url(#clip0500)\">\n",
       "<text style=\"fill:#000000; fill-opacity:1; font-family:Arial,Helvetica Neue,Helvetica,sans-serif; font-size:48px; text-anchor:middle;\" transform=\"rotate(0, 1847.32, 1494.48)\" x=\"1847.32\" y=\"1494.48\">4</text>\n",
       "</g>\n",
       "<g clip-path=\"url(#clip0500)\">\n",
       "<text style=\"fill:#000000; fill-opacity:1; font-family:Arial,Helvetica Neue,Helvetica,sans-serif; font-size:48px; text-anchor:middle;\" transform=\"rotate(0, 2079.53, 1494.48)\" x=\"2079.53\" y=\"1494.48\">5</text>\n",
       "</g>\n",
       "<g clip-path=\"url(#clip0500)\">\n",
       "<text style=\"fill:#000000; fill-opacity:1; font-family:Arial,Helvetica Neue,Helvetica,sans-serif; font-size:48px; text-anchor:end;\" transform=\"rotate(0, 430.084, 1457.98)\" x=\"430.084\" y=\"1457.98\">-3</text>\n",
       "</g>\n",
       "<g clip-path=\"url(#clip0500)\">\n",
       "<text style=\"fill:#000000; fill-opacity:1; font-family:Arial,Helvetica Neue,Helvetica,sans-serif; font-size:48px; text-anchor:end;\" transform=\"rotate(0, 430.084, 1225.78)\" x=\"430.084\" y=\"1225.78\">-2</text>\n",
       "</g>\n",
       "<g clip-path=\"url(#clip0500)\">\n",
       "<text style=\"fill:#000000; fill-opacity:1; font-family:Arial,Helvetica Neue,Helvetica,sans-serif; font-size:48px; text-anchor:end;\" transform=\"rotate(0, 430.084, 993.57)\" x=\"430.084\" y=\"993.57\">-1</text>\n",
       "</g>\n",
       "<g clip-path=\"url(#clip0500)\">\n",
       "<text style=\"fill:#000000; fill-opacity:1; font-family:Arial,Helvetica Neue,Helvetica,sans-serif; font-size:48px; text-anchor:end;\" transform=\"rotate(0, 430.084, 761.363)\" x=\"430.084\" y=\"761.363\">0</text>\n",
       "</g>\n",
       "<g clip-path=\"url(#clip0500)\">\n",
       "<text style=\"fill:#000000; fill-opacity:1; font-family:Arial,Helvetica Neue,Helvetica,sans-serif; font-size:48px; text-anchor:end;\" transform=\"rotate(0, 430.084, 529.157)\" x=\"430.084\" y=\"529.157\">1</text>\n",
       "</g>\n",
       "<g clip-path=\"url(#clip0500)\">\n",
       "<text style=\"fill:#000000; fill-opacity:1; font-family:Arial,Helvetica Neue,Helvetica,sans-serif; font-size:48px; text-anchor:end;\" transform=\"rotate(0, 430.084, 296.951)\" x=\"430.084\" y=\"296.951\">2</text>\n",
       "</g>\n",
       "<g clip-path=\"url(#clip0500)\">\n",
       "<text style=\"fill:#000000; fill-opacity:1; font-family:Arial,Helvetica Neue,Helvetica,sans-serif; font-size:48px; text-anchor:end;\" transform=\"rotate(0, 430.084, 64.7441)\" x=\"430.084\" y=\"64.7441\">3</text>\n",
       "</g>\n",
       "<g clip-path=\"url(#clip0500)\">\n",
       "<image width=\"197\" height=\"66\" xlink:href=\"data:image/png;base64,\n",
       "iVBORw0KGgoAAAANSUhEUgAAAMUAAABCCAYAAADnjRKQAAAMeUlEQVR4nO0d7XHiPHN55ylAUIJI\n",
       "BQ4lOFeBkhKcq8C5EsxV4FwJzlVgKMGkAkMJwh3s++NOPiEksGTJJol3ZmcSEiRZ0n5/GBARJhwX\n",
       "67rGKIqwKAocey2fAeu6RkoplmXptJ//gwlGhc1mg3d3d9A0DcRxPPZyPgUsl8tZFEXw7ds3eH19\n",
       "ResBxqbqr4xFUSAAICEEOedOXG1CM8ZxjACAaZpa7e3oC/+qKAgCALCqKqtDm7Abcs6RUooAgFmW\n",
       "dd7jGaK9dJmgH+z3e7y7uwMAgKIo4PHxceY61m63w6qqoGka4JzD4XA4+znLMnh5eXGewxVeX1/x\n",
       "+/fvQAiBxWIBcRwDYwweHh4GW8t+v8fVagVN03TfaxvKy7IMCSEth/OFhBCklCJjDLMs+9ScU+Ze\n",
       "SZL0es6yLDvtrw2X9P2saZq2zyuQUop1XQ+2Jlkqd5nXavAkSbwTxCVCSdP00+naQs+llPZ+rrqu\n",
       "kTGGURRdZFa3wGTEc8vo6h1yQcZYu+/X7pTzJJxzrOsai6IwHkhRFMg51y5CfF7XNZZliVmWoW7j\n",
       "wMFQulXMsiz4hRCHL+PYzy3OW8f4hpxf3FPG2MV5vUwYRdHZA1+b2ISC+6njRVH0oaVGXde996YL\n",
       "qnsXx/HN7JlO0xhStcvz/IRhm/7Py2QmKdFnTJmrypzloxKGzDhC6tOq/j6WPaHDqqrOztSHGumy\n",
       "P5ekVO9JTMaej8urk0C3xPm6omzohZQSOhXlFuyJa2c6pNEtSwuTWt57kjRNg1G/fJnGMtB8oMy9\n",
       "Q14A3X6N/ewq6jSAoW1G2QbWMe/eE+gov6+rUaCsh/uwV8ZA+aKGlnKqzn6LUnVsgxvxlJHrCLL3\n",
       "BCHsiUsbOIYe2gdlphE64e+W7QkZx3bPysxWR5C9Bg9pT6iLv3W1oMv6Q871EewJgTo1z5d20RVl\n",
       "wlSZVa8s2e12e/YZpRTm87mXMP7hcNB+Tin1MXxw+PXrV/tzkiRB59Kdxf39/eCpHV1Al2oh79UQ\n",
       "wBgzzu2dKOTJ+oJufICPSRQ+90UH6l7dehq6bj/e3t5wqPnl/dlut3A8Hv/N3UcEQWDPkKojg0Hc\n",
       "3SKqqmXo+T6KPWHaHxjBMSDvmWxwe30on4evC/TACJ4KV5Q9QVEUBV3zR7InZNSlBw0ZnDWdkbP6\n",
       "pFNtoihyHe4MsizTfl4Uhbc5QoK8P6FVmY9kT8jw9PR09tmQ5yufy/v7+78/uFKZLj7hKwhjkhK+\n",
       "gzx1XbeJiLIoFWnsrtxW5dyh1b0u8YmyLM8yagkhGMcx5nk+GHe+ds6hpap6/vLcQvV3GswUP/Bh\n",
       "T8jZjKEIIs/zEyIghCBjDNM0xTRNT7J1GWPWIl11OYZOY7hkT+R53u4npRSTJMEsyzBNU5QZGyFk\n",
       "lEwB3VkPmfahu2NOA4WyJzjnqJNAvjhZURRnEsF0ETjnLXHYGoAq5w55qCZ7Ql2/6aKpax3aFtGl\n",
       "CQ3pJJDvm5BSTgPpUoD7ir2yLM8kRBRF3riGmlLdVfIIIrIhTN1Gh0JdIExU9xFCOqlu8neHzhbQ\n",
       "BWiHXIN6LxAdiULnKnVVb8qyPCsuopR608NFDyBXHV9kVdpIC5m4Q+dpqQwqiqLWbujKUNSLMbQa\n",
       "pbtPQ0ksVVJxzu0HcbUn5Cq7PM+RMXYmGRhjXg9Erod2Fc3CGLRxBcvzhU5fMMVybCSsejGGzlod\n",
       "M3NWTiUXxGg9iCmd2xWTJAnGmVT7xCU4JJ63q0hX1YGQ+rGJQdlKWZUohs5DGjNzVrWPi6LA/8AS\n",
       "TPlOaZoavyO3XNlut9A0Tfu3qqqCpEA8Pj7iie8ZAPI8tx6nqioA6B5rUPO1CCHWc3YFU5qNbcsc\n",
       "U47ZUDCfz2dxHKP8PE3TwGazwdDtcBaLxcnvh8PB3qbQiWtbbliW5Zla45M76bxjLuPL7uGu0kwV\n",
       "xyH1c53Dw8UxoUrUMVJEdOnkQ9TNqJI9SRL7S6IuHHoYReph+PLU6AjXJX1AHJTN4aj6cUiiUJ/T\n",
       "VQ9X92ro3DJdowqBoedW7zRjzG4Akz3huiBdRLMvd1A5tQuxVVXVSjJb96BKFKG8KDoG5SIldGcw\n",
       "ZPBM7sekkxahCbQ3UejEdd/MRt1G9LlIuuBfF3WAc455np8ED+M4tpYwqtEaiih81WOrRDxkwqUg\n",
       "COE+1j3TEJmz6nxWhrbOsOub7BZF0dm4RVHA/f299VjH4/HMuAYA4Jy3LdmFkc85h6Zp4HA4gOjF\n",
       "KiCOY0jT1KnnqTxOSPBVPzFWHcbDw0NrWG+3W1gul7Plcgnw53KerO94PKKvwrVrwDmHzkRxPB5R\n",
       "56Xou4mq9Q+gZCxagCnD8ufPnye/C4/QYrEAQgjEcQyr1QqiKOrd/Dekt0mGj0wUMkH8ZYDtnidJ\n",
       "clYJVxQFPD8/B18XwN/72EdcgwdDyNQN0NdYQ/vcVfUphKHtq35Cd6ah7QlZXdY5BnSew9CpMvJc\n",
       "cRxj53qKEKoTgF4q6KRHF9CpLj5rPLqAuvYQ6pSv+glVskZRBMvlMpiaIksIxhis1+uzuR4eHmaq\n",
       "tH1/f4f9fo/q//qAkzJU+CPpRyUKk0rmqoLoxlqtVk5juYK6ds659zl8qTy/f/8++V1X9OMLZIKI\n",
       "ogje3t6MxKdr8qCuNRQsFotuRBHKnvDdmEC3xqEr0MaQFC7noGsSEKq5gkwQhBDjuQvQEUWobh8q\n",
       "0+osKXQGLCGk94UTKRQq+OrWMUbXD3VO35JCx6BciEK9ZKFUJ5kgAP6c+TVPkniRowyHwwF2u513\n",
       "FUrdS0ppN6IIZU+YOIarTaGqLrdAFL4lhS97Qh3nkur08PCAm83G+kKqBFGWZWfC060nhLRQz4dS\n",
       "2s37pCsZ9FENp44JPTwpiOdpD2P1nA25Bl39hO0Yuqi/KUgpPFS2XjQ1KGt7X4bKnFWDl3VdX/+S\n",
       "qXVlX9fdpZaYrm1OQjYYrqqq88HKxOnbnegj30m9sJfWKNzcfcZ3dYsP0XNWVzp89Us6ruKDYi/V\n",
       "ZVz7rqDua2v1dSFFflBXItOVOPpAHfd0uSQ2Ut/2UqsXuQ9j0t0R35JXXq/Ic7M+YF8L60MUhBDj\n",
       "hbcd6xrWdd2mj3eVjipx+mrw5SPfSZcAaFqfeI6u6qyurLjvM7vcDxuUTQNB/FZfctUPTZdN98DX\n",
       "pJA4KNMaVHHYR9xWVWVdT6F7Nl8i34c9oRLWpTEuMR8VVYKwqRG/hDqmHOpVD2Lci1/S1c76XJTp\n",
       "rarXvnOJA6l9o1z1WUF8hBAnw19eg6+iHR/2hCopTFJfnH2XZ/ed6SxjyJ6z6thCYrZ/zPMcsyzD\n",
       "LMswSZKzyjiVC4imWlmWYZ7nToRiIjqTOBebf43zqtzQ5oCqqmrTx/u8kVW+KD4O0Zc9gXiqkuiY\n",
       "hiCcLgxliBoIX0VjKsp5arKGYmxs5oIu3EG3qSpn5Zy3rxHuynVlwrjG7TnnWBRFSwyEkN4qokrw\n",
       "fQ/Q1N+p79pU9Uj03+pCyDonTIhSVt08Prp9yLUzMgOYcc5RbWYsB8/UgJgc7BDR2qZpgFIKLy8v\n",
       "ThHRl5cXVNO7GWOwWq3gcDi0QZs8z+H5+bnzHLvdDp+entqoZRzHEEVR+3xVVcH7+3v7d9GAwWYO\n",
       "ExyPR5T3saqqXhkAb29vKAe0GGMX84eugRxYS5IEKKWw3W5hu91CHMew2Wyujr1er/HHjx/e1nQJ\n",
       "lsvlWSS/ruteUfjZbIbi55Pz8U3Vrii4NWPsrLVlkiS9jDbRXFh0zYO/0iCKImSMYZ7nQVKmZSPR\n",
       "B2eL47jte+tDfSiKAsWYQjrYqD6izalQp0Pej7qu2wbRlNLeDfNkDUm1UYM9xISXN37CcVFmWKrK\n",
       "N0NEmCAczOdzFCpnXxVqAn8gq06c85MkxV7vvJvgOshp0B/lhTOfHUS9PsAfO1PN2p0kRWBQDW5E\n",
       "nCTFyHB/f982uNBJ70lSBIb5fD6TW4qu1+uJC40Im82mJYg4jrXq7CQpBgJhWxBC4Hg8TtJiJJCl\n",
       "hMmlO0mKgUDEgpqmOdFpJxgOdrtdSxBpmhpjHJOkGBBEwIwQAofD4WpZ5gR+QQQAr0nrSVIMCHme\n",
       "AyEEmqbRFudPEA7W63UbEb/WOGH0IMpXQzmgN8bbSL8iyqn8XXLaRl/wV0Q5Ld1XAdKEZhSJf11T\n",
       "UUZf8FdFUTA0pX+ERZHOYVOQNfqivzK6vqd7wm4o6iUopVYSefSFf3UUnGzoRtCfHUX9iUvJ7uiL\n",
       "n/AfRxv6tVqfFYVh7dpgY4pT3Ajs93tcLBZT7MIT7HY7dM1I/j8IKo0/XLGCxgAAAABJRU5ErkJg\n",
       "gg==\n",
       "\" transform=\"translate(1168, 1536)\"/>\n",
       "</g>\n",
       "<g clip-path=\"url(#clip0500)\">\n",
       "<image width=\"66\" height=\"208\" xlink:href=\"data:image/png;base64,\n",
       "iVBORw0KGgoAAAANSUhEUgAAAEIAAADQCAYAAACz+regAAALEklEQVR4nO2d/XWrOgzA1XfuAE5H\n",
       "cDdwM4K7Ae0IdANOR6Ab0I5AOwHJCCQTkIwA2UDvj4u4hJDwJYNp0Tk675bXGvzDNrYky3eICCYl\n",
       "yzI8Ho9Q1jRNAQDgdDpBmqZwf38PAABCCLi/vwchBEgpC314eLgz+pAA8Ie7wM1mg9vtFrbbLez3\n",
       "e65iUUoJWutCV6sVLxxEHKRpmqLneaiUQgAYTYUQ6LouxnGMQ+uAiP1BhGGIWutRK39NpZTo+z6m\n",
       "adobyl2XMSLLMvR9Hz4/P+F0Ot38XaXUWT+XUhb9n8aEavPOsgwBANI0hePxCKfT6WxsieO48b5a\n",
       "a/B9Hx4fH7t1nbbEPM+7+UZc18UwDDFJEpameqsrRlHU2B211p2epVUXEELU3igIAuMVb6NRFKHj\n",
       "OLVAPM9r9Xw3yVcLF0Kg53lWVP6aBkFw0VKEEI2Dau3FJElQSnnW9IMgsLby11pJFcitOlxcCMPw\n",
       "jOTcAFQ1juOzl+q6bm19zn7wfb/4A8dxBn2ObNNy3ZRSF3Ur/kFfBSEEhmH4YwCUNUmSortIKS9B\n",
       "BEFQ/E+bB0IupY+AUqqoK0RRVHwOf1JXaFLqAY7jICICSCmLH36b0ochjuO//WbqB5pSqf6d1ho/\n",
       "Wf6b+gFskQVELguIXBYQucwexOFwwK+vr+Ej/tSfr75KtlKomS730ckr1FXrbKW/BsQtCxRU1gx9\n",
       "ld2vwSW73Q4/Pz8hDMNGg62UcvgNp37bZU2SBH3fPzOkNCnXinnyyqdpinV2xjYAOK1nkwHo6yBy\n",
       "HAejKGIDMAmIpkHvmmqtjVvNjFc+jmP0PK/WN3JLlVKD3XiTg+gz6MHEfhO2gvoOepCb2E30+1FB\n",
       "9B30xuj3xkFEUYSu6/aqPEGzzWLe+heTJOk16NXFLtCXo41P0hoQpga98mfUhi5ys/l3eft9QnnK\n",
       "MNq670cFkSTJaDO98kA7pX+l9mJTV+Ae8csw6hy0k4AgF+DYM70yDCHE6F+UiwvVzyJnCF8XGAAw\n",
       "6iTr4gJ1i6mcwlUYYwWqXFwQQrDYADlhXItyMQrChk9ZHQyttdFnurgQBIE1cRJ11mpTg+jkle0K\n",
       "w9S0fPKK9oFhYlo+eSWHwPB9nw3G5BUcCoNrWj555ThgcHxeJ68YBwwhxGAQswwL2Gw2d1rr4mcO\n",
       "l9+sg8k+Pj7wdDqB67qD93jNGgSnzLJrmJAFRC4LiFysBrHZbHCz2YwziE09J2g7XzBtKZu8sk0a\n",
       "huFZKIFS6veuPkmDICh8LdxWq8kr10dpfxan1cr4hIqyB1BkHG2PVkoNSoew2+1Qaw3r9Ro2m83w\n",
       "zAGm3lp1m2GdCiHQcZzeO4rJB8NhpDEC4ZqTqEnJidQFCoUaWAmia+jALShNhmTf91mW4eyRt7Qi\n",
       "JHEcp1gmU/qDNplG9vs97Pd7eHt7A6UUuq4LLy8vF6vM4/HI8+DcrYEmQU2ftziO0ff9zmFHSil0\n",
       "HAdd1y3itazsGkKIXkHi1YlTF7VysAQGT1mXADWuuYSRFsFpZg+C4CoUzvuwT6geHx9xvV7Dx8cH\n",
       "e+6o3W6Hx+MRpJTdc8g0CDuI5+dn3O/3cDgcjCfRYhXurkGTKZtiKHt1jff3dwT4m8aob/NbrVbI\n",
       "tgYYS6pkoGZU9n2/kw2A8lHYED/ZVi8uNE2P24LRWk8SFMYGomt0/TUwaZqilHI2MGrfZBcQt8Ck\n",
       "aVpMg23vJhcXytNcx3HQcZzOsdhlLbcwx3GsbR0XF8o56crX0zTFMAzRdd1BYCCfgtsG5OIC2QOb\n",
       "1vhcYPp8lUYBQZ++rivIuYO5uBDHcdGfhxTMBUYphZ7nGQ9Hrl1rbDYb5E66m2VZkQt3u932tiwp\n",
       "pYq8t+v1mi/37VR9kqvFcOXUmwwEJxiOyDprI2a6dCUhBGRZNqyLTN0SOFoMh7nO2hbRJNRiAACe\n",
       "n58HD5izBcEtVkfMjCkLiFwWELksIHJZQOTy39fXF1Ly/t8oRf2VUiiltGZD25hKm32TJPm3Id6m\n",
       "XA5jKNlmyWENiOehPrYbWYcqWdehslgrfqGcM3+MnbdTaDknRnV9cvaLZRhSyskzAXG2grJ1vu5F\n",
       "X/xR9UgJm03wbbQcrQtwfdP9VYJVR8/cgFC0HT2/EOJmC28srAyD+patAyqlg6t75qaX2Fh4+SiG\n",
       "qtqQUYwqX2fe63JQSusbhmF405ZIZneTJzPRiUxtwhK7BrR1Nsx8fX2h7/utgkbprK77+3uQUhZn\n",
       "9AFAcVYXSZqmxdl+1f+2DVIVQoDruvD29tbdzN/37fTNVGZCOZJ9sjRZyl031DncVoUQhWuQa43E\n",
       "brMsm+HjOC6OohsitL+DPFwmjr0czXh7OByKcz8JDI0DQggAgLOz/miDC/txlldksWLnsliocllA\n",
       "5LKAyGUBkcsCIpcFRC4LiFysBvH09ISr1Qqfn59xt9uZnfCYWC5zaRRFZ8ttkyfRTl7ZNlpNRy+l\n",
       "ZPfBTF7Jrlo2EM3uoJEkSTCO4yJin6NMctdxwTAKoGpJLitHRC0Zaq09g6e8T6Ot0oHsXVsMnWJv\n",
       "JQiOzS9toZAF2zoQdbkjhBC9bZtNfhTyvVgHgnyMUsraCsRxPCjUOAgCjKII4zjGIAhQSslychs7\n",
       "CNrQ1rav0xxhSHfiSF/NDoLeXJ+/7QOlC/TRQXDs4m9zuBHnDJPdeLtarfDl5YU1W0CWZRiGIez3\n",
       "e6BsAUopeH19ZbsHO4inpycEgHntCwcDy3CtNWy3W5hdyCL3GJGmKQLTODGmGimUnMNzit004unK\n",
       "sgzJZbfb7eYxVpgizLV/dCw1WjiFK051jI01IBD/BXkKIawNQhsFBOJfC1U54tXGmG+jhd86B5AM\n",
       "KmEYWtFtjBTax0JVBjPrE2DLOtRCBTA8++nkILgtVGOBYQdBZvZrFqokSViyBBAYrshfdhBKqc4W\n",
       "qiiK0PO8XgcrA9O6hh0EvakhZbQNMy63DutAcL2hslJa2GstxkrjLR2Jy11uHRjHcVApxTJOLBaq\n",
       "XBYLVS7sIBzHAQCAz89P7qLNiok+7DjO7CxURgolu6Xpw0qtB4H4b6o9l820RgtfLFQ1MEwEgHGq\n",
       "0ThL+oRqreF4PMJ6vYbX11c781WYIly3eRYq0+IxshJO2jWqp9G30anBsBdI/oyhWgYzxkBrJHf+\n",
       "9/c3SClBaw1CCDidTnA8HiGO4947/qg8UvZNb9xkpZQ3J1JJkmAQBIOzK5Oxl+tLxA6i6/kaHAk+\n",
       "OaJvrVuG90kJK6UcfowFd4ugCRRHpFvbFmNlwCniv88nl/WoDozneai1ZsuFYwQE4nluFyGEVZOn\n",
       "UUGUgVSt0Vpr66CMdqM0Tc9M9ByWZ05dNsnnYvUuvzFlAZFLLYjD4WCnzcCg1I4Rd3d3yJJ9fEZy\n",
       "FQQAACL+GhDLGJFLLQhKfvObxombLSJN07GeY3K5CaJNWrSfIrUgKI/c7By5A+Rmi9hut/Dw8IDv\n",
       "7+94OBx+9nhRtwC5FqIzduzj5KvPttFtPwlM7cW+RlSKnxorvtrzPLNpE7jSMZoOPKf7WA/CNBjj\n",
       "IMjWSP4JzpMdOcGMBuLaAGgKTBdHMIUnGQVBN+gSTz02GApN4gg/Rrxisxy6DD8cDmfeqqGpXkko\n",
       "3auUEr6/v2G73fKc2gZwu0VwkEY8d/xyZ03m8HJd7RqUDIMLhEkwRkFQvzcFghMMFwgr/RpdxhgW\n",
       "TzjMJAvybrc7A1MWLhCjNH1urZ4MY3SMsF3bHuvdVmdrxdZas5Y3WxB0PAWXzGKwvCacjqjZtghu\n",
       "mTUIckRxyB+2kiYQ13V7n0hflf8Bj9J4ZY9olP8AAAAASUVORK5CYII=\n",
       "\" transform=\"translate(272, 640)\"/>\n",
       "</g>\n",
       "<polygon clip-path=\"url(#clip0502)\" points=\"\n",
       "918.497,743.863 918.497,736.529 918.498,729.181 918.501,721.803 918.511,714.382 918.533,706.903 918.571,699.354 918.634,691.72 918.73,683.991 918.87,676.152 \n",
       "  919.064,668.195 919.325,660.108 919.665,651.882 920.099,643.51 920.642,634.983 921.31,626.297 922.12,617.446 923.089,608.427 924.235,599.238 925.576,589.878 \n",
       "  927.132,580.348 928.921,570.651 930.963,560.79 933.277,550.769 935.883,540.597 938.799,530.28 942.045,519.829 945.639,509.256 949.6,498.572 953.945,487.792 \n",
       "  958.692,476.933 963.855,466.01 969.452,455.043 975.496,444.051 982.001,433.056 988.979,422.079 996.441,411.145 1004.4,400.278 1012.85,389.502 1021.82,378.846 \n",
       "  1031.3,368.335 1041.3,357.998 1051.82,347.864 1062.86,337.961 1074.42,328.32 1086.5,318.969 1099.08,309.939 1112.18,301.261 1125.76,292.964 1139.84,285.077 \n",
       "  1154.38,277.632 1169.39,270.657 1184.84,264.181 1200.71,258.233 1216.99,252.839 1233.66,248.026 1250.68,243.821 1268.04,240.248 1285.71,237.33 1303.67,235.09 \n",
       "  1321.88,233.549 1340.3,232.725 1358.92,232.638 1377.7,233.302 1396.59,234.733 1415.58,236.944 1434.61,239.944 1453.66,243.744 1472.68,248.35 1491.63,253.767 \n",
       "  1510.49,259.998 1529.2,267.044 1547.72,274.903 1566.03,283.572 1584.07,293.045 1601.81,303.314 1619.21,314.37 1636.22,326.199 1652.82,338.788 1668.96,352.12 \n",
       "  1684.6,366.176 1699.71,380.936 1714.25,396.377 1728.19,412.475 1741.49,429.202 1754.13,446.531 1766.07,464.432 1777.29,482.873 1787.75,501.821 1797.43,521.24 \n",
       "  1806.31,541.094 1814.37,561.347 1821.58,581.959 1827.93,602.891 1833.41,624.102 1837.99,645.55 1841.67,667.194 1844.43,688.99 1846.28,710.896 1847.21,732.867 \n",
       "  1847.21,754.86 1846.28,776.831 1844.43,798.737 1841.67,820.533 1837.99,842.176 1833.41,863.625 1827.93,884.836 1821.58,905.768 1814.37,926.38 1806.31,946.632 \n",
       "  1797.43,966.487 1787.75,985.906 1777.29,1004.85 1766.07,1023.29 1754.13,1041.2 1741.49,1058.52 1728.19,1075.25 1714.25,1091.35 1699.71,1106.79 1684.6,1121.55 \n",
       "  1668.96,1135.61 1652.82,1148.94 1636.22,1161.53 1619.21,1173.36 1601.81,1184.41 1584.07,1194.68 1566.03,1204.15 1547.72,1212.82 1529.2,1220.68 1510.49,1227.73 \n",
       "  1491.63,1233.96 1472.68,1239.38 1453.66,1243.98 1434.61,1247.78 1415.58,1250.78 1396.59,1252.99 1377.7,1254.42 1358.92,1255.09 1340.3,1255 1321.88,1254.18 \n",
       "  1303.67,1252.64 1285.71,1250.4 1268.04,1247.48 1250.68,1243.91 1233.66,1239.7 1216.99,1234.89 1200.71,1229.49 1184.84,1223.55 1169.39,1217.07 1154.38,1210.09 \n",
       "  1139.84,1202.65 1125.76,1194.76 1112.18,1186.47 1099.08,1177.79 1086.5,1168.76 1074.42,1159.41 1062.86,1149.77 1051.82,1139.86 1041.3,1129.73 1031.3,1119.39 \n",
       "  1021.82,1108.88 1012.85,1098.22 1004.4,1087.45 996.441,1076.58 988.979,1065.65 982.001,1054.67 975.496,1043.68 969.452,1032.68 963.855,1021.72 958.692,1010.79 \n",
       "  953.945,999.934 949.6,989.155 945.639,978.471 942.045,967.897 938.799,957.447 935.883,947.13 933.277,936.958 930.963,926.937 928.921,917.076 927.132,907.378 \n",
       "  925.576,897.849 924.235,888.489 923.089,879.3 922.12,870.281 921.31,861.43 920.642,852.744 920.099,844.217 919.665,835.845 919.325,827.619 919.064,819.532 \n",
       "  918.87,811.574 918.73,803.736 918.634,796.006 918.571,788.373 918.533,780.823 918.511,773.345 918.501,765.924 918.498,758.546 918.497,751.197 918.497,743.863 \n",
       "  918.497,743.863 918.497,743.863 918.498,743.863 918.501,743.863 918.511,743.863 918.533,743.863 918.571,743.863 918.634,743.863 918.73,743.863 918.87,743.863 \n",
       "  919.064,743.863 919.325,743.863 919.665,743.863 920.099,743.863 920.642,743.863 921.31,743.863 922.12,743.863 923.089,743.863 924.235,743.863 925.576,743.863 \n",
       "  927.132,743.863 928.921,743.863 930.963,743.863 933.277,743.863 935.883,743.863 938.799,743.863 942.045,743.863 945.639,743.863 949.6,743.863 953.945,743.863 \n",
       "  958.692,743.863 963.855,743.863 969.452,743.863 975.496,743.863 982.001,743.863 988.979,743.863 996.441,743.863 1004.4,743.863 1012.85,743.863 1021.82,743.863 \n",
       "  1031.3,743.863 1041.3,743.863 1051.82,743.863 1062.86,743.863 1074.42,743.863 1086.5,743.863 1099.08,743.863 1112.18,743.863 1125.76,743.863 1139.84,743.863 \n",
       "  1154.38,743.863 1169.39,743.863 1184.84,743.863 1200.71,743.863 1216.99,743.863 1233.66,743.863 1250.68,743.863 1268.04,743.863 1285.71,743.863 1303.67,743.863 \n",
       "  1321.88,743.863 1340.3,743.863 1358.92,743.863 1377.7,743.863 1396.59,743.863 1415.58,743.863 1434.61,743.863 1453.66,743.863 1472.68,743.863 1491.63,743.863 \n",
       "  1510.49,743.863 1529.2,743.863 1547.72,743.863 1566.03,743.863 1584.07,743.863 1601.81,743.863 1619.21,743.863 1636.22,743.863 1652.82,743.863 1668.96,743.863 \n",
       "  1684.6,743.863 1699.71,743.863 1714.25,743.863 1728.19,743.863 1741.49,743.863 1754.13,743.863 1766.07,743.863 1777.29,743.863 1787.75,743.863 1797.43,743.863 \n",
       "  1806.31,743.863 1814.37,743.863 1821.58,743.863 1827.93,743.863 1833.41,743.863 1837.99,743.863 1841.67,743.863 1844.43,743.863 1846.28,743.863 1847.21,743.863 \n",
       "  1847.21,743.863 1846.28,743.863 1844.43,743.863 1841.67,743.863 1837.99,743.863 1833.41,743.863 1827.93,743.863 1821.58,743.863 1814.37,743.863 1806.31,743.863 \n",
       "  1797.43,743.863 1787.75,743.863 1777.29,743.863 1766.07,743.863 1754.13,743.863 1741.49,743.863 1728.19,743.863 1714.25,743.863 1699.71,743.863 1684.6,743.863 \n",
       "  1668.96,743.863 1652.82,743.863 1636.22,743.863 1619.21,743.863 1601.81,743.863 1584.07,743.863 1566.03,743.863 1547.72,743.863 1529.2,743.863 1510.49,743.863 \n",
       "  1491.63,743.863 1472.68,743.863 1453.66,743.863 1434.61,743.863 1415.58,743.863 1396.59,743.863 1377.7,743.863 1358.92,743.863 1340.3,743.863 1321.88,743.863 \n",
       "  1303.67,743.863 1285.71,743.863 1268.04,743.863 1250.68,743.863 1233.66,743.863 1216.99,743.863 1200.71,743.863 1184.84,743.863 1169.39,743.863 1154.38,743.863 \n",
       "  1139.84,743.863 1125.76,743.863 1112.18,743.863 1099.08,743.863 1086.5,743.863 1074.42,743.863 1062.86,743.863 1051.82,743.863 1041.3,743.863 1031.3,743.863 \n",
       "  1021.82,743.863 1012.85,743.863 1004.4,743.863 996.441,743.863 988.979,743.863 982.001,743.863 975.496,743.863 969.452,743.863 963.855,743.863 958.692,743.863 \n",
       "  953.945,743.863 949.6,743.863 945.639,743.863 942.045,743.863 938.799,743.863 935.883,743.863 933.277,743.863 930.963,743.863 928.921,743.863 927.132,743.863 \n",
       "  925.576,743.863 924.235,743.863 923.089,743.863 922.12,743.863 921.31,743.863 920.642,743.863 920.099,743.863 919.665,743.863 919.325,743.863 919.064,743.863 \n",
       "  918.87,743.863 918.73,743.863 918.634,743.863 918.571,743.863 918.533,743.863 918.511,743.863 918.501,743.863 918.498,743.863 918.497,743.863 918.497,743.863 \n",
       "  \n",
       "  \" fill=\"#ffffff\" fill-rule=\"evenodd\" fill-opacity=\"1\"/>\n",
       "<polyline clip-path=\"url(#clip0502)\" style=\"stroke:#009af9; stroke-width:16; stroke-opacity:1; fill:none\" points=\"\n",
       "  918.497,743.863 918.497,736.529 918.498,729.181 918.501,721.803 918.511,714.382 918.533,706.903 918.571,699.354 918.634,691.72 918.73,683.991 918.87,676.152 \n",
       "  919.064,668.195 919.325,660.108 919.665,651.882 920.099,643.51 920.642,634.983 921.31,626.297 922.12,617.446 923.089,608.427 924.235,599.238 925.576,589.878 \n",
       "  927.132,580.348 928.921,570.651 930.963,560.79 933.277,550.769 935.883,540.597 938.799,530.28 942.045,519.829 945.639,509.256 949.6,498.572 953.945,487.792 \n",
       "  958.692,476.933 963.855,466.01 969.452,455.043 975.496,444.051 982.001,433.056 988.979,422.079 996.441,411.145 1004.4,400.278 1012.85,389.502 1021.82,378.846 \n",
       "  1031.3,368.335 1041.3,357.998 1051.82,347.864 1062.86,337.961 1074.42,328.32 1086.5,318.969 1099.08,309.939 1112.18,301.261 1125.76,292.964 1139.84,285.077 \n",
       "  1154.38,277.632 1169.39,270.657 1184.84,264.181 1200.71,258.233 1216.99,252.839 1233.66,248.026 1250.68,243.821 1268.04,240.248 1285.71,237.33 1303.67,235.09 \n",
       "  1321.88,233.549 1340.3,232.725 1358.92,232.638 1377.7,233.302 1396.59,234.733 1415.58,236.944 1434.61,239.944 1453.66,243.744 1472.68,248.35 1491.63,253.767 \n",
       "  1510.49,259.998 1529.2,267.044 1547.72,274.903 1566.03,283.572 1584.07,293.045 1601.81,303.314 1619.21,314.37 1636.22,326.199 1652.82,338.788 1668.96,352.12 \n",
       "  1684.6,366.176 1699.71,380.936 1714.25,396.377 1728.19,412.475 1741.49,429.202 1754.13,446.531 1766.07,464.432 1777.29,482.873 1787.75,501.821 1797.43,521.24 \n",
       "  1806.31,541.094 1814.37,561.347 1821.58,581.959 1827.93,602.891 1833.41,624.102 1837.99,645.55 1841.67,667.194 1844.43,688.99 1846.28,710.896 1847.21,732.867 \n",
       "  1847.21,754.86 1846.28,776.831 1844.43,798.737 1841.67,820.533 1837.99,842.176 1833.41,863.625 1827.93,884.836 1821.58,905.768 1814.37,926.38 1806.31,946.632 \n",
       "  1797.43,966.487 1787.75,985.906 1777.29,1004.85 1766.07,1023.29 1754.13,1041.2 1741.49,1058.52 1728.19,1075.25 1714.25,1091.35 1699.71,1106.79 1684.6,1121.55 \n",
       "  1668.96,1135.61 1652.82,1148.94 1636.22,1161.53 1619.21,1173.36 1601.81,1184.41 1584.07,1194.68 1566.03,1204.15 1547.72,1212.82 1529.2,1220.68 1510.49,1227.73 \n",
       "  1491.63,1233.96 1472.68,1239.38 1453.66,1243.98 1434.61,1247.78 1415.58,1250.78 1396.59,1252.99 1377.7,1254.42 1358.92,1255.09 1340.3,1255 1321.88,1254.18 \n",
       "  1303.67,1252.64 1285.71,1250.4 1268.04,1247.48 1250.68,1243.91 1233.66,1239.7 1216.99,1234.89 1200.71,1229.49 1184.84,1223.55 1169.39,1217.07 1154.38,1210.09 \n",
       "  1139.84,1202.65 1125.76,1194.76 1112.18,1186.47 1099.08,1177.79 1086.5,1168.76 1074.42,1159.41 1062.86,1149.77 1051.82,1139.86 1041.3,1129.73 1031.3,1119.39 \n",
       "  1021.82,1108.88 1012.85,1098.22 1004.4,1087.45 996.441,1076.58 988.979,1065.65 982.001,1054.67 975.496,1043.68 969.452,1032.68 963.855,1021.72 958.692,1010.79 \n",
       "  953.945,999.934 949.6,989.155 945.639,978.471 942.045,967.897 938.799,957.447 935.883,947.13 933.277,936.958 930.963,926.937 928.921,917.076 927.132,907.378 \n",
       "  925.576,897.849 924.235,888.489 923.089,879.3 922.12,870.281 921.31,861.43 920.642,852.744 920.099,844.217 919.665,835.845 919.325,827.619 919.064,819.532 \n",
       "  918.87,811.574 918.73,803.736 918.634,796.006 918.571,788.373 918.533,780.823 918.511,773.345 918.501,765.924 918.498,758.546 918.497,751.197 918.497,743.863 \n",
       "  \n",
       "  \"/>\n",
       "</svg>\n"
      ]
     },
     "execution_count": 10,
     "metadata": {},
     "output_type": "execute_result"
    }
   ],
   "source": [
    "plot( Zx, Zy, 0, 2π, line=4, legend=false, fill=(0,:white), aspect_ratio=1, xlim=(-2,5), ylim=(-3,3))\n",
    "plot!(background_color_inside=RGBA(153/255, 210/255, 255/255,0.8) )\n",
    "plot!(xlabel=L\"Re(h \\lambda)\", ylabel=L\"Im(h \\lambda)\")"
   ]
  },
  {
   "cell_type": "code",
   "execution_count": null,
   "metadata": {},
   "outputs": [],
   "source": []
  }
 ],
 "metadata": {
  "kernelspec": {
   "display_name": "Julia 1.1.0",
   "language": "julia",
   "name": "julia-1.1"
  },
  "language_info": {
   "file_extension": ".jl",
   "mimetype": "application/julia",
   "name": "julia",
   "version": "1.1.0"
  }
 },
 "nbformat": 4,
 "nbformat_minor": 2
}
