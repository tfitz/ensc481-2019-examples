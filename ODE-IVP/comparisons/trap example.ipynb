{
 "cells": [
  {
   "cell_type": "markdown",
   "metadata": {},
   "source": [
    "# Example of the Trapezoidal Rule"
   ]
  },
  {
   "cell_type": "code",
   "execution_count": 1,
   "metadata": {},
   "outputs": [],
   "source": [
    "using Pkg\n",
    "Pkg.activate(\".\")\n",
    "using Plots\n",
    "\n",
    "include(\"TrapRule.jl\")\n",
    "using .TrapRule"
   ]
  },
  {
   "cell_type": "markdown",
   "metadata": {},
   "source": [
    "Setup the equation to solve"
   ]
  },
  {
   "cell_type": "code",
   "execution_count": 2,
   "metadata": {},
   "outputs": [],
   "source": [
    "ζ = 0.1\n",
    "ω = 1\n",
    "f(z,t) = [ z[2], -ω^2*z[1] - 2*ζ*ω*z[2] ]\n",
    "t0 = 0\n",
    "tf = 10\n",
    "h = 0.1\n",
    "z0 = [1, 0]\n",
    "function y(t)\n",
    "    ωd= ω*sqrt( 1- ζ^2 )\n",
    "    y = exp(-ζ*ω*t)*( z0[1]*cos(ωd*t) + (z0[2] + ζ*ω*z0[1])/ωd*sin(ωd*t)   )\n",
    "end\n",
    ";"
   ]
  },
  {
   "cell_type": "code",
   "execution_count": 3,
   "metadata": {},
   "outputs": [],
   "source": [
    "Z,time = traprule(f, t0, tf, h, z0)\n",
    ";"
   ]
  },
  {
   "cell_type": "code",
   "execution_count": null,
   "metadata": {},
   "outputs": [],
   "source": [
    "plot( time, y.(time), label=\"True Solution\" )\n",
    "plot!(time,Z[1,:], label=\"Trap rule\")\n",
    "plot!(xlabel=\"time t\", ylabel=\"x(t)\")"
   ]
  },
  {
   "cell_type": "code",
   "execution_count": null,
   "metadata": {},
   "outputs": [],
   "source": []
  }
 ],
 "metadata": {
  "kernelspec": {
   "display_name": "Julia 1.1.0",
   "language": "julia",
   "name": "julia-1.1"
  },
  "language_info": {
   "file_extension": ".jl",
   "mimetype": "application/julia",
   "name": "julia",
   "version": "1.1.0"
  }
 },
 "nbformat": 4,
 "nbformat_minor": 2
}
