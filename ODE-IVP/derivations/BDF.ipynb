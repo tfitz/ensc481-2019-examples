{
 "cells": [
  {
   "cell_type": "markdown",
   "metadata": {},
   "source": [
    "# Backward Differentiation Formula\n"
   ]
  },
  {
   "cell_type": "code",
   "execution_count": 1,
   "metadata": {},
   "outputs": [],
   "source": [
    "using Pkg\n",
    "Pkg.activate(\".\")\n",
    "using SymPy"
   ]
  },
  {
   "cell_type": "markdown",
   "metadata": {},
   "source": [
    "Now let's make up some variables in a similar way to the Adams Methods"
   ]
  },
  {
   "cell_type": "code",
   "execution_count": 2,
   "metadata": {},
   "outputs": [],
   "source": [
    "x1, x2, x3, x4, x5 = symbols(\"x1, x2, x3, x4, x5\")\n",
    "t1, t2, t3, t4, t5 = symbols(\"t1, t2, t3, t4, t5\")\n",
    "t = symbols(\"t\")\n",
    "X = [x1,x2,x3,x4,x5]\n",
    "T = [t1,t2,t3,t4,t5]\n",
    "f = symbols(\"f\")\n",
    "h = symbols(\"h\")\n",
    "\n",
    "function l(t,j,k)\n",
    "    l = 1\n",
    "    for m in 1:k\n",
    "        if m != j\n",
    "            l *= ( t - T[m] )/( T[j] - T[m] )\n",
    "        end        \n",
    "    end\n",
    "    return l\n",
    "end\n",
    ";"
   ]
  },
  {
   "cell_type": "markdown",
   "metadata": {},
   "source": [
    "This time we interpolate the $x$ values, instead of the $f(x)$ values.  Then\n",
    "$$ x(t) \\approx p(t) =  \\sum_{j=0}^{k} x_j \\ell_j(t)$$\n",
    "So $\\dot x \\approx \\frac{d p}{dt} $, where we simply differentiate $p$ as\n",
    "$$ \\frac{dp}{dt}  = \\sum_{j=0}^{k} x_j \\frac{d \\ell_j(t)}{dt} $$\n",
    "Putting this back into the differential equation\n",
    "$$ \\dot x = f(x) $$\n",
    "gives the discrete equation for the next time step\n",
    "$$ \\left.\\frac{dp}{dt}\\right|_{t_{i+1}} = f(x_{i+1}) $$ "
   ]
  },
  {
   "cell_type": "code",
   "execution_count": 3,
   "metadata": {},
   "outputs": [
    {
     "data": {
      "text/latex": [
       "\\begin{equation*}\\frac{x_{1} \\left(t - t_{2}\\right) \\left(t - t_{3}\\right)}{\\left(t_{1} - t_{2}\\right) \\left(t_{1} - t_{3}\\right)} + \\frac{x_{2} \\left(t - t_{1}\\right) \\left(t - t_{3}\\right)}{\\left(- t_{1} + t_{2}\\right) \\left(t_{2} - t_{3}\\right)} + \\frac{x_{3} \\left(t - t_{1}\\right) \\left(t - t_{2}\\right)}{\\left(- t_{1} + t_{3}\\right) \\left(- t_{2} + t_{3}\\right)}\\end{equation*}"
      ],
      "text/plain": [
       "x1*(t - t2)*(t - t3)   x2*(t - t1)*(t - t3)    x3*(t - t1)*(t - t2)\n",
       "-------------------- + -------------------- + ---------------------\n",
       "(t1 - t2)*(t1 - t3)    (-t1 + t2)*(t2 - t3)   (-t1 + t3)*(-t2 + t3)"
      ]
     },
     "execution_count": 3,
     "metadata": {},
     "output_type": "execute_result"
    }
   ],
   "source": [
    "n = 3\n",
    "P = [ X[i]*l(t, i, n) for i in 1:n ] |> sum"
   ]
  },
  {
   "cell_type": "code",
   "execution_count": 4,
   "metadata": {},
   "outputs": [
    {
     "data": {
      "text/latex": [
       "\\begin{equation*}\\frac{x_{1} \\left(t - t_{2}\\right)}{\\left(t_{1} - t_{2}\\right) \\left(t_{1} - t_{3}\\right)} + \\frac{x_{1} \\left(t - t_{3}\\right)}{\\left(t_{1} - t_{2}\\right) \\left(t_{1} - t_{3}\\right)} + \\frac{x_{2} \\left(t - t_{1}\\right)}{\\left(- t_{1} + t_{2}\\right) \\left(t_{2} - t_{3}\\right)} + \\frac{x_{2} \\left(t - t_{3}\\right)}{\\left(- t_{1} + t_{2}\\right) \\left(t_{2} - t_{3}\\right)} + \\frac{x_{3} \\left(t - t_{1}\\right)}{\\left(- t_{1} + t_{3}\\right) \\left(- t_{2} + t_{3}\\right)} + \\frac{x_{3} \\left(t - t_{2}\\right)}{\\left(- t_{1} + t_{3}\\right) \\left(- t_{2} + t_{3}\\right)}\\end{equation*}"
      ],
      "text/plain": [
       "    x1*(t - t2)           x1*(t - t3)           x2*(t - t1)            x2*(t -\n",
       "------------------- + ------------------- + -------------------- + -----------\n",
       "(t1 - t2)*(t1 - t3)   (t1 - t2)*(t1 - t3)   (-t1 + t2)*(t2 - t3)   (-t1 + t2)*\n",
       "\n",
       " t3)             x3*(t - t1)             x3*(t - t2)     \n",
       "--------- + --------------------- + ---------------------\n",
       "(t2 - t3)   (-t1 + t3)*(-t2 + t3)   (-t1 + t3)*(-t2 + t3)"
      ]
     },
     "execution_count": 4,
     "metadata": {},
     "output_type": "execute_result"
    }
   ],
   "source": [
    "dP = diff(P,t)"
   ]
  },
  {
   "cell_type": "markdown",
   "metadata": {},
   "source": [
    "Again, let's assume that the time step is constant $h$"
   ]
  },
  {
   "cell_type": "code",
   "execution_count": 5,
   "metadata": {},
   "outputs": [
    {
     "data": {
      "text/latex": [
       "\\begin{equation*}\\frac{x_{1} - 4 x_{2} + 3 x_{3}}{2 h}\\end{equation*}"
      ],
      "text/plain": [
       "x1 - 4*x2 + 3*x3\n",
       "----------------\n",
       "      2*h       "
      ]
     },
     "execution_count": 5,
     "metadata": {},
     "output_type": "execute_result"
    }
   ],
   "source": [
    "dP1 = dP |> subs(t=>t3) |>  subs(t2=>t1+h, t3=>t1+2*h) |> simplify"
   ]
  },
  {
   "cell_type": "markdown",
   "metadata": {},
   "source": [
    "Now we can put this discrete approximation of the derivative back into the differential equation (where the $f = f(x_{i+1},t_{i+1})= f(x_3,t_3)$ "
   ]
  },
  {
   "cell_type": "code",
   "execution_count": 6,
   "metadata": {},
   "outputs": [
    {
     "data": {
      "text/latex": [
       "\\begin{equation*}\\frac{x_{1} - 4 x_{2} + 3 x_{3}}{2 h} = f\\end{equation*}"
      ],
      "text/plain": [
       "x1 - 4*x2 + 3*x3    \n",
       "---------------- = f\n",
       "      2*h           "
      ]
     },
     "execution_count": 6,
     "metadata": {},
     "output_type": "execute_result"
    }
   ],
   "source": [
    "eq = Eq( dP1, f)"
   ]
  },
  {
   "cell_type": "markdown",
   "metadata": {},
   "source": [
    "Lastly we can solve this system for $x_3$"
   ]
  },
  {
   "cell_type": "code",
   "execution_count": 7,
   "metadata": {},
   "outputs": [
    {
     "data": {
      "text/latex": [
       "\\begin{equation*}\\frac{2 f h}{3} - \\frac{x_{1}}{3} + \\frac{4 x_{2}}{3}\\end{equation*}"
      ],
      "text/plain": [
       "2*f*h   x1   4*x2\n",
       "----- - -- + ----\n",
       "  3     3     3  "
      ]
     },
     "execution_count": 7,
     "metadata": {},
     "output_type": "execute_result"
    }
   ],
   "source": [
    "solve(eq, x3 )[1]"
   ]
  },
  {
   "cell_type": "markdown",
   "metadata": {},
   "source": [
    "This gives the right-hand-side of the classic BDF2 formula"
   ]
  },
  {
   "cell_type": "code",
   "execution_count": 8,
   "metadata": {},
   "outputs": [
    {
     "data": {
      "text/latex": [
       "\\begin{equation*}x_{3} = \\frac{2 f h}{3} - \\frac{x_{1}}{3} + \\frac{4 x_{2}}{3}\\end{equation*}"
      ],
      "text/plain": [
       "     2*f*h   x1   4*x2\n",
       "x3 = ----- - -- + ----\n",
       "       3     3     3  "
      ]
     },
     "execution_count": 8,
     "metadata": {},
     "output_type": "execute_result"
    }
   ],
   "source": [
    "Eq( x3, solve(eq, x3 )[1] )"
   ]
  },
  {
   "cell_type": "code",
   "execution_count": null,
   "metadata": {},
   "outputs": [],
   "source": []
  }
 ],
 "metadata": {
  "kernelspec": {
   "display_name": "Julia 1.1.0",
   "language": "julia",
   "name": "julia-1.1"
  },
  "language_info": {
   "file_extension": ".jl",
   "mimetype": "application/julia",
   "name": "julia",
   "version": "1.1.0"
  }
 },
 "nbformat": 4,
 "nbformat_minor": 2
}
