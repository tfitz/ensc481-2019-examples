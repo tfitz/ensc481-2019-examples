{
 "cells": [
  {
   "cell_type": "markdown",
   "metadata": {},
   "source": [
    "# Comparing FD and FEM\n",
    "Below is a (very) simple case of a string (or rod) with equation\n",
    "$$ \\frac{\\partial^2 u}{\\partial x^2} + f(x) = 0 $$\n",
    "on the domain $0$ to $L$, with 4 equally spaced nodes $x_1$ to $x_4$.  The nodes are spaced $h$ apart.  The force $f$ is also discretized at each node $f_1$ to $f_4$.  At the boundaries we have the Dirchlet conditions\n",
    "$$ u(x_1) = g_1,\\quad u(x_2) = g_2 $$\n",
    "\n",
    "The goal of this sheet is to explore the finite-difference scheme and finite element method on this toy problem.  They primarily give the same same results, but it is easier to account for variable $f(x)$ with the finite element method."
   ]
  },
  {
   "cell_type": "code",
   "execution_count": 1,
   "metadata": {},
   "outputs": [],
   "source": [
    "using Pkg\n",
    "Pkg.activate(\".\")\n",
    "using SymPy"
   ]
  },
  {
   "cell_type": "code",
   "execution_count": 2,
   "metadata": {},
   "outputs": [
    {
     "data": {
      "text/plain": [
       "(u1, u2, u3, u4, x1, x2, x3, x4, f1, f2, f3, f4, g1, g2, h)"
      ]
     },
     "execution_count": 2,
     "metadata": {},
     "output_type": "execute_result"
    }
   ],
   "source": [
    "@vars u1 u2 u3 u4 x1 x2 x3 x4 f1 f2 f3 f4 g1 g2 h"
   ]
  },
  {
   "cell_type": "markdown",
   "metadata": {},
   "source": [
    "## Finite Differences"
   ]
  },
  {
   "cell_type": "code",
   "execution_count": 3,
   "metadata": {},
   "outputs": [
    {
     "data": {
      "text/latex": [
       "\\begin{equation*}u_{1} = g_{1}\\end{equation*}"
      ],
      "text/plain": [
       "u₁ = g₁"
      ]
     },
     "execution_count": 3,
     "metadata": {},
     "output_type": "execute_result"
    }
   ],
   "source": [
    "eq1 = Eq( u1, g1 )"
   ]
  },
  {
   "cell_type": "code",
   "execution_count": 4,
   "metadata": {},
   "outputs": [
    {
     "data": {
      "text/latex": [
       "\\begin{equation*}f_{2} + \\frac{u_{1} - 2 u_{2} + u_{3}}{h^{2}} = 0\\end{equation*}"
      ],
      "text/plain": [
       "     u₁ - 2⋅u₂ + u₃    \n",
       "f₂ + ────────────── = 0\n",
       "            2          \n",
       "           h           "
      ]
     },
     "execution_count": 4,
     "metadata": {},
     "output_type": "execute_result"
    }
   ],
   "source": [
    "eq2 = Eq( (u3 - 2u2 + u1)/h^2 + f2, 0 )"
   ]
  },
  {
   "cell_type": "code",
   "execution_count": 5,
   "metadata": {},
   "outputs": [
    {
     "data": {
      "text/latex": [
       "\\begin{equation*}f_{3} + \\frac{u_{2} - 2 u_{3} + u_{4}}{h^{2}} = 0\\end{equation*}"
      ],
      "text/plain": [
       "     u₂ - 2⋅u₃ + u₄    \n",
       "f₃ + ────────────── = 0\n",
       "            2          \n",
       "           h           "
      ]
     },
     "execution_count": 5,
     "metadata": {},
     "output_type": "execute_result"
    }
   ],
   "source": [
    "eq3 = Eq( (u4 - 2u3 + u2)/h^2 + f3, 0)"
   ]
  },
  {
   "cell_type": "code",
   "execution_count": 6,
   "metadata": {},
   "outputs": [
    {
     "data": {
      "text/latex": [
       "\\begin{equation*}u_{4} = g_{2}\\end{equation*}"
      ],
      "text/plain": [
       "u₄ = g₂"
      ]
     },
     "execution_count": 6,
     "metadata": {},
     "output_type": "execute_result"
    }
   ],
   "source": [
    "eq4 = Eq( u4, g2 )"
   ]
  },
  {
   "cell_type": "code",
   "execution_count": 7,
   "metadata": {},
   "outputs": [
    {
     "data": {
      "text/plain": [
       "Dict{Any,Any} with 4 entries:\n",
       "  u4 => g2\n",
       "  u2 => 2*f2*h^2/3 + f3*h^2/3 + 2*g1/3 + g2/3\n",
       "  u3 => f2*h^2/3 + 2*f3*h^2/3 + g1/3 + 2*g2/3\n",
       "  u1 => g1"
      ]
     },
     "execution_count": 7,
     "metadata": {},
     "output_type": "execute_result"
    }
   ],
   "source": [
    "solve([eq1,eq2,eq3,eq4], [u1,u2,u3,u4] )"
   ]
  },
  {
   "cell_type": "markdown",
   "metadata": {},
   "source": [
    "## Finite Element Method\n",
    "using linear 1D 2-node elements"
   ]
  },
  {
   "cell_type": "code",
   "execution_count": 8,
   "metadata": {},
   "outputs": [],
   "source": [
    "@vars δq1 δq2 δq3 δq4\n",
    "ξ = symbols(\"xi\", real=true)\n",
    ";"
   ]
  },
  {
   "cell_type": "code",
   "execution_count": 9,
   "metadata": {},
   "outputs": [
    {
     "data": {
      "text/latex": [
       "\\[\\left[ \\begin{array}{rr}\\frac{1}{2} - \\frac{\\xi}{2}&\\frac{\\xi}{2} + \\frac{1}{2}\\end{array}\\right]\\]"
      ],
      "text/plain": [
       "1×2 Array{Sym,2}:\n",
       " 1/2 - xi/2  xi/2 + 1/2"
      ]
     },
     "execution_count": 9,
     "metadata": {},
     "output_type": "execute_result"
    }
   ],
   "source": [
    "N = [ (1-ξ)//2 (1+ξ)//2 ]"
   ]
  },
  {
   "cell_type": "code",
   "execution_count": 10,
   "metadata": {},
   "outputs": [
    {
     "data": {
      "text/latex": [
       "\\[\\left[ \\begin{array}{rr}\\frac{1}{h}&- \\frac{1}{h}\\\\- \\frac{1}{h}&\\frac{1}{h}\\end{array}\\right]\\]"
      ],
      "text/plain": [
       "2×2 Array{Sym,2}:\n",
       "  1/h  -1/h\n",
       " -1/h   1/h"
      ]
     },
     "execution_count": 10,
     "metadata": {},
     "output_type": "execute_result"
    }
   ],
   "source": [
    "# ke(x1,x2) = 1/(x2-x1)*[1 -1; -1 1]\n",
    "ke = 1/h*[1 -1; -1 1]"
   ]
  },
  {
   "cell_type": "code",
   "execution_count": 11,
   "metadata": {},
   "outputs": [
    {
     "data": {
      "text/plain": [
       "segment (generic function with 1 method)"
      ]
     },
     "execution_count": 11,
     "metadata": {},
     "output_type": "execute_result"
    }
   ],
   "source": [
    "segment(q1, q2,δq1,δq2) =  -([δq1 δq2]*ke*[q1,q2] )[1]"
   ]
  },
  {
   "cell_type": "markdown",
   "metadata": {},
   "source": [
    "Let's handle the forcing two different ways.  Method 1: interpolate between the nodes\n",
    "$$ f^e(x) =  N(\\xi) \\left[\\begin{array}{x}  f_1^e \\\\ f_2^e \\end{array} \\right]$$\n",
    "Then we need to evaluate (for each element)\n",
    "$$ \\delta q^T \\int\\limits_{-1}^{1} N^T f(x)\\, dx = \n",
    "\\delta q^T \\int\\limits_{-1}^{1} N^T N(\\xi) \\left[\\begin{array}{x}  f_1^e \\\\ f_2^e \\end{array} \\right] \\dfrac{h}{2} \\, d\\xi $$"
   ]
  },
  {
   "cell_type": "code",
   "execution_count": 12,
   "metadata": {},
   "outputs": [
    {
     "data": {
      "text/plain": [
       "forcesegment (generic function with 1 method)"
      ]
     },
     "execution_count": 12,
     "metadata": {},
     "output_type": "execute_result"
    }
   ],
   "source": [
    "forcesegment(f1,f2,δq1,δq2) = ( [δq1 δq2]*[ integrate( a, (ξ,-1,1) ) |> simplify for a in transpose(N)*(N*[f1,f2])*h//2 ] )[1]"
   ]
  },
  {
   "cell_type": "markdown",
   "metadata": {},
   "source": [
    "Now let's build the entire equation"
   ]
  },
  {
   "cell_type": "code",
   "execution_count": 13,
   "metadata": {},
   "outputs": [
    {
     "data": {
      "text/latex": [
       "\\begin{equation*}\\frac{h δq1 \\left(2 f_{1} + f_{2}\\right)}{6} + \\frac{h δq2 \\left(f_{1} + 2 f_{2}\\right)}{6} + \\frac{h δq2 \\left(2 f_{2} + f_{3}\\right)}{6} + \\frac{h δq3 \\left(f_{2} + 2 f_{3}\\right)}{6} + \\frac{h δq3 \\left(2 f_{3} + f_{4}\\right)}{6} + \\frac{h δq4 \\left(f_{3} + 2 f_{4}\\right)}{6} - u_{1} \\left(\\frac{δq1}{h} - \\frac{δq2}{h}\\right) - u_{2} \\left(- \\frac{δq1}{h} + \\frac{δq2}{h}\\right) - u_{2} \\left(\\frac{δq2}{h} - \\frac{δq3}{h}\\right) - u_{3} \\left(- \\frac{δq2}{h} + \\frac{δq3}{h}\\right) - u_{3} \\left(\\frac{δq3}{h} - \\frac{δq4}{h}\\right) - u_{4} \\left(- \\frac{δq3}{h} + \\frac{δq4}{h}\\right)\\end{equation*}"
      ],
      "text/plain": [
       "h⋅δq1⋅(2⋅f₁ + f₂)   h⋅δq2⋅(f₁ + 2⋅f₂)   h⋅δq2⋅(2⋅f₂ + f₃)   h⋅δq3⋅(f₂ + 2⋅f₃) \n",
       "───────────────── + ───────────────── + ───────────────── + ───────────────── \n",
       "        6                   6                   6                   6         \n",
       "\n",
       "  h⋅δq3⋅(2⋅f₃ + f₄)   h⋅δq4⋅(f₃ + 2⋅f₄)      ⎛δq1   δq2⎞      ⎛  δq1   δq2⎞   \n",
       "+ ───────────────── + ───────────────── - u₁⋅⎜─── - ───⎟ - u₂⋅⎜- ─── + ───⎟ - \n",
       "          6                   6              ⎝ h     h ⎠      ⎝   h     h ⎠   \n",
       "\n",
       "   ⎛δq2   δq3⎞      ⎛  δq2   δq3⎞      ⎛δq3   δq4⎞      ⎛  δq3   δq4⎞\n",
       "u₂⋅⎜─── - ───⎟ - u₃⋅⎜- ─── + ───⎟ - u₃⋅⎜─── - ───⎟ - u₄⋅⎜- ─── + ───⎟\n",
       "   ⎝ h     h ⎠      ⎝   h     h ⎠      ⎝ h     h ⎠      ⎝   h     h ⎠"
      ]
     },
     "execution_count": 13,
     "metadata": {},
     "output_type": "execute_result"
    }
   ],
   "source": [
    "fem1a = segment(u1,u2, δq1, δq2) + segment(u2,u3, δq2, δq3) + segment(u3,u4, δq3, δq4) + forcesegment(f1,f2,δq1,δq2) + forcesegment(f2,f3,δq2,δq3) + forcesegment(f3,f4,δq3,δq4)"
   ]
  },
  {
   "cell_type": "markdown",
   "metadata": {},
   "source": [
    "Taking only the variations that are free to move, and extracting their coefficients gives"
   ]
  },
  {
   "cell_type": "code",
   "execution_count": 14,
   "metadata": {},
   "outputs": [
    {
     "data": {
      "text/latex": [
       "\\[ \\left[ \\begin{array}{r}\\frac{h \\left(f_{1} + 2 f_{2}\\right)}{6} + \\frac{h \\left(2 f_{2} + f_{3}\\right)}{6} + \\frac{u_{1}}{h} - \\frac{2 u_{2}}{h} + \\frac{u_{3}}{h}\\\\\\frac{h \\left(f_{2} + 2 f_{3}\\right)}{6} + \\frac{h \\left(2 f_{3} + f_{4}\\right)}{6} + \\frac{u_{2}}{h} - \\frac{2 u_{3}}{h} + \\frac{u_{4}}{h}\\end{array} \\right] \\]"
      ],
      "text/plain": [
       "2-element Array{Sym,1}:\n",
       " h*(f1 + 2*f2)/6 + h*(2*f2 + f3)/6 + u1/h - 2*u2/h + u3/h\n",
       " h*(f2 + 2*f3)/6 + h*(2*f3 + f4)/6 + u2/h - 2*u3/h + u4/h"
      ]
     },
     "execution_count": 14,
     "metadata": {},
     "output_type": "execute_result"
    }
   ],
   "source": [
    "fem1b = [ diff(fem1a, δq) for δq in [δq2,δq3] ]"
   ]
  },
  {
   "cell_type": "markdown",
   "metadata": {},
   "source": [
    "Appending the boundary essential conditions"
   ]
  },
  {
   "cell_type": "code",
   "execution_count": 15,
   "metadata": {},
   "outputs": [
    {
     "data": {
      "text/latex": [
       "\\[ \\left[ \\begin{array}{r}\\frac{h \\left(f_{1} + 2 f_{2}\\right)}{6} + \\frac{h \\left(2 f_{2} + f_{3}\\right)}{6} + \\frac{u_{1}}{h} - \\frac{2 u_{2}}{h} + \\frac{u_{3}}{h}\\\\\\frac{h \\left(f_{2} + 2 f_{3}\\right)}{6} + \\frac{h \\left(2 f_{3} + f_{4}\\right)}{6} + \\frac{u_{2}}{h} - \\frac{2 u_{3}}{h} + \\frac{u_{4}}{h}\\\\- g_{1} + u_{1}\\\\- g_{2} + u_{4}\\end{array} \\right] \\]"
      ],
      "text/plain": [
       "4-element Array{Sym,1}:\n",
       " h*(f1 + 2*f2)/6 + h*(2*f2 + f3)/6 + u1/h - 2*u2/h + u3/h\n",
       " h*(f2 + 2*f3)/6 + h*(2*f3 + f4)/6 + u2/h - 2*u3/h + u4/h\n",
       "                                                 -g1 + u1\n",
       "                                                 -g2 + u4"
      ]
     },
     "execution_count": 15,
     "metadata": {},
     "output_type": "execute_result"
    }
   ],
   "source": [
    "fem1c = vcat( fem1b, [u1-g1, u4-g2] )"
   ]
  },
  {
   "cell_type": "markdown",
   "metadata": {},
   "source": [
    "and solving the displacements"
   ]
  },
  {
   "cell_type": "code",
   "execution_count": 16,
   "metadata": {},
   "outputs": [
    {
     "data": {
      "text/plain": [
       "Dict{Any,Any} with 4 entries:\n",
       "  u4 => g2\n",
       "  u2 => f1*h^2/9 + f2*h^2/2 + f3*h^2/3 + f4*h^2/18 + 2*g1/3 + g2/3\n",
       "  u3 => f1*h^2/18 + f2*h^2/3 + f3*h^2/2 + f4*h^2/9 + g1/3 + 2*g2/3\n",
       "  u1 => g1"
      ]
     },
     "execution_count": 16,
     "metadata": {},
     "output_type": "execute_result"
    }
   ],
   "source": [
    "solve(fem1c, [u1,u2,u3,u4] )"
   ]
  },
  {
   "cell_type": "markdown",
   "metadata": {},
   "source": [
    "These equations (while a solution) don't match the FD from before.  So we'll make a change to how we handle $f$.  Instead of treating $f$ as a piecewise-linear function, let's assume that it is only acting directly at the node\n",
    "$$ f^e(x) =  f_1 \\delta\\left( \\xi + 1 \\right)  + f_2 \\delta\\left( \\xi - 1 \\right)$$\n",
    "Now we need to evaluate \n",
    "$$ \\delta q^T \\int\\limits_{-1}^{1} N^T f(x)\\, dx = \\delta q^T \\int\\limits_{-1}^{1} N^T \\left(  f_1 \\delta\\left( \\xi + 1 \\right)  + f_2 \\delta\\left( \\xi - 1 \\right) \\right)\\frac{h}{2}\\, d\\xi =\n",
    "\\delta q^T \\left( N^T(-1)f_1 + N^T(1)f_2 \\right) \\frac{h}{2} $$"
   ]
  },
  {
   "cell_type": "code",
   "execution_count": 17,
   "metadata": {},
   "outputs": [
    {
     "data": {
      "text/plain": [
       "forcesegment_alt (generic function with 1 method)"
      ]
     },
     "execution_count": 17,
     "metadata": {},
     "output_type": "execute_result"
    }
   ],
   "source": [
    "forcesegment_alt(f1,f2,δq1,δq2)  = ( [δq1 δq2]*( [ subs(n,ξ=>-1) for n in transpose(N) ]*f1*h//2 +  [ subs(n,ξ=>+1) for n in transpose(N) ]*f2*h/2 ) )[1]"
   ]
  },
  {
   "cell_type": "code",
   "execution_count": 18,
   "metadata": {},
   "outputs": [
    {
     "data": {
      "text/latex": [
       "\\begin{equation*}\\frac{f_{1} h δq1}{2} + f_{2} h δq2 + f_{3} h δq3 + \\frac{f_{4} h δq4}{2} - u_{1} \\left(\\frac{δq1}{h} - \\frac{δq2}{h}\\right) - u_{2} \\left(- \\frac{δq1}{h} + \\frac{δq2}{h}\\right) - u_{2} \\left(\\frac{δq2}{h} - \\frac{δq3}{h}\\right) - u_{3} \\left(- \\frac{δq2}{h} + \\frac{δq3}{h}\\right) - u_{3} \\left(\\frac{δq3}{h} - \\frac{δq4}{h}\\right) - u_{4} \\left(- \\frac{δq3}{h} + \\frac{δq4}{h}\\right)\\end{equation*}"
      ],
      "text/plain": [
       "f₁⋅h⋅δq1                         f₄⋅h⋅δq4      ⎛δq1   δq2⎞      ⎛  δq1   δq2⎞ \n",
       "──────── + f₂⋅h⋅δq2 + f₃⋅h⋅δq3 + ──────── - u₁⋅⎜─── - ───⎟ - u₂⋅⎜- ─── + ───⎟ \n",
       "   2                                2          ⎝ h     h ⎠      ⎝   h     h ⎠ \n",
       "\n",
       "     ⎛δq2   δq3⎞      ⎛  δq2   δq3⎞      ⎛δq3   δq4⎞      ⎛  δq3   δq4⎞\n",
       "- u₂⋅⎜─── - ───⎟ - u₃⋅⎜- ─── + ───⎟ - u₃⋅⎜─── - ───⎟ - u₄⋅⎜- ─── + ───⎟\n",
       "     ⎝ h     h ⎠      ⎝   h     h ⎠      ⎝ h     h ⎠      ⎝   h     h ⎠"
      ]
     },
     "execution_count": 18,
     "metadata": {},
     "output_type": "execute_result"
    }
   ],
   "source": [
    "fem2a = segment(u1,u2, δq1, δq2) + segment(u2,u3, δq2, δq3) + segment(u3,u4, δq3, δq4) + forcesegment_alt(f1,f2,δq1,δq2) + forcesegment_alt(f2,f3,δq2,δq3) + forcesegment_alt(f3,f4,δq3,δq4)"
   ]
  },
  {
   "cell_type": "code",
   "execution_count": 19,
   "metadata": {},
   "outputs": [
    {
     "data": {
      "text/latex": [
       "\\[ \\left[ \\begin{array}{r}f_{2} h + \\frac{u_{1}}{h} - \\frac{2 u_{2}}{h} + \\frac{u_{3}}{h}\\\\f_{3} h + \\frac{u_{2}}{h} - \\frac{2 u_{3}}{h} + \\frac{u_{4}}{h}\\end{array} \\right] \\]"
      ],
      "text/plain": [
       "2-element Array{Sym,1}:\n",
       " f2*h + u1/h - 2*u2/h + u3/h\n",
       " f3*h + u2/h - 2*u3/h + u4/h"
      ]
     },
     "execution_count": 19,
     "metadata": {},
     "output_type": "execute_result"
    }
   ],
   "source": [
    "fem2b = [ diff(fem2a, δq) for δq in [δq2,δq3] ]"
   ]
  },
  {
   "cell_type": "code",
   "execution_count": 20,
   "metadata": {},
   "outputs": [
    {
     "data": {
      "text/latex": [
       "\\[ \\left[ \\begin{array}{r}f_{2} h + \\frac{u_{1}}{h} - \\frac{2 u_{2}}{h} + \\frac{u_{3}}{h}\\\\f_{3} h + \\frac{u_{2}}{h} - \\frac{2 u_{3}}{h} + \\frac{u_{4}}{h}\\\\- g_{1} + u_{1}\\\\- g_{2} + u_{4}\\end{array} \\right] \\]"
      ],
      "text/plain": [
       "4-element Array{Sym,1}:\n",
       " f2*h + u1/h - 2*u2/h + u3/h\n",
       " f3*h + u2/h - 2*u3/h + u4/h\n",
       "                    -g1 + u1\n",
       "                    -g2 + u4"
      ]
     },
     "execution_count": 20,
     "metadata": {},
     "output_type": "execute_result"
    }
   ],
   "source": [
    "fem2c = vcat( fem2b, [u1-g1, u4-g2] )"
   ]
  },
  {
   "cell_type": "code",
   "execution_count": 21,
   "metadata": {},
   "outputs": [
    {
     "data": {
      "text/plain": [
       "Dict{Any,Any} with 4 entries:\n",
       "  u4 => g2\n",
       "  u2 => 2*f2*h^2/3 + f3*h^2/3 + 2*g1/3 + g2/3\n",
       "  u3 => f2*h^2/3 + 2*f3*h^2/3 + g1/3 + 2*g2/3\n",
       "  u1 => g1"
      ]
     },
     "execution_count": 21,
     "metadata": {},
     "output_type": "execute_result"
    }
   ],
   "source": [
    "solve(fem2c, [u1,u2,u3,u4] )"
   ]
  },
  {
   "cell_type": "markdown",
   "metadata": {},
   "source": [
    "Now these match the FD version of the solution.  A lesson from the comparison here is that we can consistently handle complicated loading.  While we could do this in the FD method, it is less commonly done and may become very complicated in higher order/higher dimensioned problems."
   ]
  },
  {
   "cell_type": "code",
   "execution_count": null,
   "metadata": {},
   "outputs": [],
   "source": []
  }
 ],
 "metadata": {
  "@webio": {
   "lastCommId": null,
   "lastKernelId": null
  },
  "kernelspec": {
   "display_name": "Julia 1.1.0",
   "language": "julia",
   "name": "julia-1.1"
  },
  "language_info": {
   "file_extension": ".jl",
   "mimetype": "application/julia",
   "name": "julia",
   "version": "1.1.0"
  }
 },
 "nbformat": 4,
 "nbformat_minor": 2
}
